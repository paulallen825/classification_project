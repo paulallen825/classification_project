{
 "cells": [
  {
   "cell_type": "code",
   "execution_count": 1,
   "id": "49c3e8a4",
   "metadata": {},
   "outputs": [],
   "source": [
    "import acquire\n",
    "import prepare\n",
    "import explore\n",
    "import scipy.stats as stats\n",
    "import pandas as pd\n",
    "import numpy as np\n",
    "import seaborn as sns\n",
    "import matplotlib.pyplot as plt\n",
    "import warnings\n",
    "warnings.filterwarnings(\"ignore\")\n",
    "from sklearn.model_selection import train_test_split\n",
    "from sklearn.tree import DecisionTreeClassifier, plot_tree, export_text\n",
    "from sklearn.linear_model import LogisticRegression\n",
    "from sklearn.ensemble import RandomForestClassifier\n",
    "from sklearn.metrics import classification_report, confusion_matrix, accuracy_score"
   ]
  },
  {
   "cell_type": "markdown",
   "id": "5ec602df",
   "metadata": {},
   "source": [
    "Planning:\n",
    "-Create a readme file w/data dictionary\n",
    "-Clean and prepare data\n",
    "-Create functions for importing\n",
    "-Set and test two hypothesis and run tests to fail or reject them\n",
    "-Create a baseline accuracy model and train 3 different classification models\n",
    "-Evaluate the test data with the best performing model\n",
    "-Create a CSV\n"
   ]
  },
  {
   "cell_type": "markdown",
   "id": "3dcdd0af",
   "metadata": {},
   "source": [
    "Executive Summary:\n",
    "-Exploring the data lead me to find the features that were effecting churn the most.\n",
    "-Testing with 3 different models Random Forest, Decsion Tree, and Logistic Regression showed that the Random Forest model performed the best with 81% accuracy.\n",
    "-The Random Forest was better than the baseline which was 73%.\n"
   ]
  },
  {
   "cell_type": "markdown",
   "id": "8534b9ec",
   "metadata": {},
   "source": [
    "Acquire"
   ]
  },
  {
   "cell_type": "code",
   "execution_count": 2,
   "id": "cdedcdb4",
   "metadata": {},
   "outputs": [],
   "source": [
    "#bringing in the dataframe\n",
    "df = acquire.get_new_telco_churn_data()"
   ]
  },
  {
   "cell_type": "code",
   "execution_count": 3,
   "id": "1107a681",
   "metadata": {},
   "outputs": [
    {
     "data": {
      "text/html": [
       "<div>\n",
       "<style scoped>\n",
       "    .dataframe tbody tr th:only-of-type {\n",
       "        vertical-align: middle;\n",
       "    }\n",
       "\n",
       "    .dataframe tbody tr th {\n",
       "        vertical-align: top;\n",
       "    }\n",
       "\n",
       "    .dataframe thead th {\n",
       "        text-align: right;\n",
       "    }\n",
       "</style>\n",
       "<table border=\"1\" class=\"dataframe\">\n",
       "  <thead>\n",
       "    <tr style=\"text-align: right;\">\n",
       "      <th></th>\n",
       "      <th>payment_type_id</th>\n",
       "      <th>payment_type</th>\n",
       "      <th>customer_id</th>\n",
       "      <th>gender</th>\n",
       "      <th>senior_citizen</th>\n",
       "      <th>partner</th>\n",
       "      <th>dependents</th>\n",
       "      <th>tenure</th>\n",
       "      <th>phone_service</th>\n",
       "      <th>multiple_lines</th>\n",
       "      <th>...</th>\n",
       "      <th>contract_type_id</th>\n",
       "      <th>paperless_billing</th>\n",
       "      <th>payment_type_id</th>\n",
       "      <th>monthly_charges</th>\n",
       "      <th>total_charges</th>\n",
       "      <th>churn</th>\n",
       "      <th>internet_service_type_id</th>\n",
       "      <th>internet_service_type</th>\n",
       "      <th>contract_type_id</th>\n",
       "      <th>contract_type</th>\n",
       "    </tr>\n",
       "  </thead>\n",
       "  <tbody>\n",
       "    <tr>\n",
       "      <th>1450</th>\n",
       "      <td>1</td>\n",
       "      <td>Electronic check</td>\n",
       "      <td>4299-SIMNS</td>\n",
       "      <td>Male</td>\n",
       "      <td>0</td>\n",
       "      <td>No</td>\n",
       "      <td>No</td>\n",
       "      <td>9</td>\n",
       "      <td>Yes</td>\n",
       "      <td>Yes</td>\n",
       "      <td>...</td>\n",
       "      <td>1</td>\n",
       "      <td>Yes</td>\n",
       "      <td>1</td>\n",
       "      <td>81.15</td>\n",
       "      <td>784.45</td>\n",
       "      <td>No</td>\n",
       "      <td>2</td>\n",
       "      <td>Fiber optic</td>\n",
       "      <td>1</td>\n",
       "      <td>Month-to-month</td>\n",
       "    </tr>\n",
       "    <tr>\n",
       "      <th>4119</th>\n",
       "      <td>2</td>\n",
       "      <td>Mailed check</td>\n",
       "      <td>6729-FZWSY</td>\n",
       "      <td>Male</td>\n",
       "      <td>0</td>\n",
       "      <td>No</td>\n",
       "      <td>No</td>\n",
       "      <td>67</td>\n",
       "      <td>Yes</td>\n",
       "      <td>No</td>\n",
       "      <td>...</td>\n",
       "      <td>2</td>\n",
       "      <td>Yes</td>\n",
       "      <td>2</td>\n",
       "      <td>19.45</td>\n",
       "      <td>1195.95</td>\n",
       "      <td>No</td>\n",
       "      <td>3</td>\n",
       "      <td>None</td>\n",
       "      <td>2</td>\n",
       "      <td>One year</td>\n",
       "    </tr>\n",
       "    <tr>\n",
       "      <th>3252</th>\n",
       "      <td>4</td>\n",
       "      <td>Credit card (automatic)</td>\n",
       "      <td>4918-QLLIW</td>\n",
       "      <td>Male</td>\n",
       "      <td>0</td>\n",
       "      <td>No</td>\n",
       "      <td>No</td>\n",
       "      <td>3</td>\n",
       "      <td>Yes</td>\n",
       "      <td>No</td>\n",
       "      <td>...</td>\n",
       "      <td>1</td>\n",
       "      <td>No</td>\n",
       "      <td>4</td>\n",
       "      <td>53.40</td>\n",
       "      <td>188.7</td>\n",
       "      <td>Yes</td>\n",
       "      <td>1</td>\n",
       "      <td>DSL</td>\n",
       "      <td>1</td>\n",
       "      <td>Month-to-month</td>\n",
       "    </tr>\n",
       "  </tbody>\n",
       "</table>\n",
       "<p>3 rows × 27 columns</p>\n",
       "</div>"
      ],
      "text/plain": [
       "     payment_type_id             payment_type customer_id gender  \\\n",
       "1450               1         Electronic check  4299-SIMNS   Male   \n",
       "4119               2             Mailed check  6729-FZWSY   Male   \n",
       "3252               4  Credit card (automatic)  4918-QLLIW   Male   \n",
       "\n",
       "      senior_citizen partner dependents  tenure phone_service multiple_lines  \\\n",
       "1450               0      No         No       9           Yes            Yes   \n",
       "4119               0      No         No      67           Yes             No   \n",
       "3252               0      No         No       3           Yes             No   \n",
       "\n",
       "      ... contract_type_id paperless_billing payment_type_id monthly_charges  \\\n",
       "1450  ...                1               Yes               1           81.15   \n",
       "4119  ...                2               Yes               2           19.45   \n",
       "3252  ...                1                No               4           53.40   \n",
       "\n",
       "     total_charges churn internet_service_type_id  internet_service_type  \\\n",
       "1450        784.45    No                        2            Fiber optic   \n",
       "4119       1195.95    No                        3                   None   \n",
       "3252         188.7   Yes                        1                    DSL   \n",
       "\n",
       "     contract_type_id   contract_type  \n",
       "1450                1  Month-to-month  \n",
       "4119                2        One year  \n",
       "3252                1  Month-to-month  \n",
       "\n",
       "[3 rows x 27 columns]"
      ]
     },
     "execution_count": 3,
     "metadata": {},
     "output_type": "execute_result"
    }
   ],
   "source": [
    "#show a sample of the dataframe\n",
    "df.sample(3)"
   ]
  },
  {
   "cell_type": "code",
   "execution_count": 4,
   "id": "fdc437c5",
   "metadata": {},
   "outputs": [
    {
     "data": {
      "text/plain": [
       "(7043, 27)"
      ]
     },
     "execution_count": 4,
     "metadata": {},
     "output_type": "execute_result"
    }
   ],
   "source": [
    "#shape of data frame showing rows and columns\n",
    "df.shape"
   ]
  },
  {
   "cell_type": "code",
   "execution_count": 5,
   "id": "ef6626d7",
   "metadata": {},
   "outputs": [
    {
     "name": "stdout",
     "output_type": "stream",
     "text": [
      "<class 'pandas.core.frame.DataFrame'>\n",
      "RangeIndex: 7043 entries, 0 to 7042\n",
      "Data columns (total 27 columns):\n",
      " #   Column                    Non-Null Count  Dtype  \n",
      "---  ------                    --------------  -----  \n",
      " 0   payment_type_id           7043 non-null   int64  \n",
      " 1   payment_type              7043 non-null   object \n",
      " 2   customer_id               7043 non-null   object \n",
      " 3   gender                    7043 non-null   object \n",
      " 4   senior_citizen            7043 non-null   int64  \n",
      " 5   partner                   7043 non-null   object \n",
      " 6   dependents                7043 non-null   object \n",
      " 7   tenure                    7043 non-null   int64  \n",
      " 8   phone_service             7043 non-null   object \n",
      " 9   multiple_lines            7043 non-null   object \n",
      " 10  internet_service_type_id  7043 non-null   int64  \n",
      " 11  online_security           7043 non-null   object \n",
      " 12  online_backup             7043 non-null   object \n",
      " 13  device_protection         7043 non-null   object \n",
      " 14  tech_support              7043 non-null   object \n",
      " 15  streaming_tv              7043 non-null   object \n",
      " 16  streaming_movies          7043 non-null   object \n",
      " 17  contract_type_id          7043 non-null   int64  \n",
      " 18  paperless_billing         7043 non-null   object \n",
      " 19  payment_type_id           7043 non-null   int64  \n",
      " 20  monthly_charges           7043 non-null   float64\n",
      " 21  total_charges             7043 non-null   object \n",
      " 22  churn                     7043 non-null   object \n",
      " 23  internet_service_type_id  7043 non-null   int64  \n",
      " 24  internet_service_type     7043 non-null   object \n",
      " 25  contract_type_id          7043 non-null   int64  \n",
      " 26  contract_type             7043 non-null   object \n",
      "dtypes: float64(1), int64(8), object(18)\n",
      "memory usage: 1.5+ MB\n"
     ]
    }
   ],
   "source": [
    "#getting the data type and columns\n",
    "df.info()"
   ]
  },
  {
   "cell_type": "markdown",
   "id": "8d554907",
   "metadata": {},
   "source": [
    "Take Away:\n",
    "The sql data has 7043 rows and 27 columns\n",
    "There are duplicates"
   ]
  },
  {
   "cell_type": "markdown",
   "id": "80edb2cc",
   "metadata": {},
   "source": [
    "Prepare"
   ]
  },
  {
   "cell_type": "code",
   "execution_count": 6,
   "id": "f8cf9690",
   "metadata": {},
   "outputs": [
    {
     "name": "stdout",
     "output_type": "stream",
     "text": [
      "payment_type\n",
      "Electronic check             1071\n",
      "Mailed check                  308\n",
      "Bank transfer (automatic)     258\n",
      "Credit card (automatic)       232\n",
      "Name: payment_type, dtype: int64\n",
      "-------------\n",
      "gender\n",
      "Female    939\n",
      "Male      930\n",
      "Name: gender, dtype: int64\n",
      "-------------\n",
      "senior_citizen\n",
      "0    1393\n",
      "1     476\n",
      "Name: senior_citizen, dtype: int64\n",
      "-------------\n",
      "partner\n",
      "No     1200\n",
      "Yes     669\n",
      "Name: partner, dtype: int64\n",
      "-------------\n",
      "dependents\n",
      "No     1543\n",
      "Yes     326\n",
      "Name: dependents, dtype: int64\n",
      "-------------\n",
      "phone_service\n",
      "Yes    1699\n",
      "No      170\n",
      "Name: phone_service, dtype: int64\n",
      "-------------\n",
      "multiple_lines\n",
      "Yes                 850\n",
      "No                  849\n",
      "No phone service    170\n",
      "Name: multiple_lines, dtype: int64\n",
      "-------------\n",
      "online_security\n",
      "No                     1461\n",
      "Yes                     295\n",
      "No internet service     113\n",
      "Name: online_security, dtype: int64\n",
      "-------------\n",
      "online_backup\n",
      "No                     1233\n",
      "Yes                     523\n",
      "No internet service     113\n",
      "Name: online_backup, dtype: int64\n",
      "-------------\n",
      "device_protection\n",
      "No                     1211\n",
      "Yes                     545\n",
      "No internet service     113\n",
      "Name: device_protection, dtype: int64\n",
      "-------------\n",
      "tech_support\n",
      "No                     1446\n",
      "Yes                     310\n",
      "No internet service     113\n",
      "Name: tech_support, dtype: int64\n",
      "-------------\n",
      "streaming_tv\n",
      "No                     942\n",
      "Yes                    814\n",
      "No internet service    113\n",
      "Name: streaming_tv, dtype: int64\n",
      "-------------\n",
      "streaming_movies\n",
      "No                     938\n",
      "Yes                    818\n",
      "No internet service    113\n",
      "Name: streaming_movies, dtype: int64\n",
      "-------------\n",
      "paperless_billing\n",
      "Yes    1400\n",
      "No      469\n",
      "Name: paperless_billing, dtype: int64\n",
      "-------------\n",
      "churn\n",
      "Yes    1869\n",
      "Name: churn, dtype: int64\n",
      "-------------\n",
      "internet_service_type\n",
      "Fiber optic    1297\n",
      "DSL             459\n",
      "None            113\n",
      "Name: internet_service_type, dtype: int64\n",
      "-------------\n",
      "contract_type\n",
      "Month-to-month    1655\n",
      "One year           166\n",
      "Two year            48\n",
      "Name: contract_type, dtype: int64\n",
      "-------------\n"
     ]
    }
   ],
   "source": [
    "#Check the value counts for churn\n",
    "churned_df = df[df['churn']=='Yes']\n",
    "explore.value_counts(churned_df)"
   ]
  },
  {
   "cell_type": "markdown",
   "id": "c43a7656",
   "metadata": {},
   "source": [
    "Take Away:\n",
    "Streaming_movies, Streaming_TV, Multiple_lines, and gender can be removed to clean up the data."
   ]
  },
  {
   "cell_type": "code",
   "execution_count": 7,
   "id": "dec18dd7",
   "metadata": {},
   "outputs": [],
   "source": [
    "#Cleaning the data\n",
    "df = prepare.prep_telco_data(df)"
   ]
  },
  {
   "cell_type": "code",
   "execution_count": 8,
   "id": "0a3015a3",
   "metadata": {},
   "outputs": [
    {
     "data": {
      "text/html": [
       "<div>\n",
       "<style scoped>\n",
       "    .dataframe tbody tr th:only-of-type {\n",
       "        vertical-align: middle;\n",
       "    }\n",
       "\n",
       "    .dataframe tbody tr th {\n",
       "        vertical-align: top;\n",
       "    }\n",
       "\n",
       "    .dataframe thead th {\n",
       "        text-align: right;\n",
       "    }\n",
       "</style>\n",
       "<table border=\"1\" class=\"dataframe\">\n",
       "  <thead>\n",
       "    <tr style=\"text-align: right;\">\n",
       "      <th></th>\n",
       "      <th>1912</th>\n",
       "      <th>6468</th>\n",
       "      <th>6976</th>\n",
       "    </tr>\n",
       "  </thead>\n",
       "  <tbody>\n",
       "    <tr>\n",
       "      <th>payment_type</th>\n",
       "      <td>Electronic check</td>\n",
       "      <td>Credit card (automatic)</td>\n",
       "      <td>Electronic check</td>\n",
       "    </tr>\n",
       "    <tr>\n",
       "      <th>customer_id</th>\n",
       "      <td>6365-MTGZX</td>\n",
       "      <td>0771-CHWSK</td>\n",
       "      <td>9027-TMATR</td>\n",
       "    </tr>\n",
       "    <tr>\n",
       "      <th>senior_citizen</th>\n",
       "      <td>0</td>\n",
       "      <td>0</td>\n",
       "      <td>0</td>\n",
       "    </tr>\n",
       "    <tr>\n",
       "      <th>partner</th>\n",
       "      <td>0</td>\n",
       "      <td>0</td>\n",
       "      <td>1</td>\n",
       "    </tr>\n",
       "    <tr>\n",
       "      <th>dependents</th>\n",
       "      <td>0</td>\n",
       "      <td>0</td>\n",
       "      <td>0</td>\n",
       "    </tr>\n",
       "    <tr>\n",
       "      <th>tenure_in_months</th>\n",
       "      <td>24</td>\n",
       "      <td>66</td>\n",
       "      <td>43</td>\n",
       "    </tr>\n",
       "    <tr>\n",
       "      <th>phone_service</th>\n",
       "      <td>1</td>\n",
       "      <td>1</td>\n",
       "      <td>1</td>\n",
       "    </tr>\n",
       "    <tr>\n",
       "      <th>online_security</th>\n",
       "      <td>0</td>\n",
       "      <td>1</td>\n",
       "      <td>1</td>\n",
       "    </tr>\n",
       "    <tr>\n",
       "      <th>online_backup</th>\n",
       "      <td>0</td>\n",
       "      <td>1</td>\n",
       "      <td>0</td>\n",
       "    </tr>\n",
       "    <tr>\n",
       "      <th>device_protection</th>\n",
       "      <td>0</td>\n",
       "      <td>1</td>\n",
       "      <td>1</td>\n",
       "    </tr>\n",
       "    <tr>\n",
       "      <th>tech_support</th>\n",
       "      <td>1</td>\n",
       "      <td>0</td>\n",
       "      <td>1</td>\n",
       "    </tr>\n",
       "    <tr>\n",
       "      <th>paperless_billing</th>\n",
       "      <td>1</td>\n",
       "      <td>1</td>\n",
       "      <td>1</td>\n",
       "    </tr>\n",
       "    <tr>\n",
       "      <th>monthly_charges</th>\n",
       "      <td>96.0</td>\n",
       "      <td>74.6</td>\n",
       "      <td>78.8</td>\n",
       "    </tr>\n",
       "    <tr>\n",
       "      <th>total_charges</th>\n",
       "      <td>2122.45</td>\n",
       "      <td>4798.4</td>\n",
       "      <td>3460.3</td>\n",
       "    </tr>\n",
       "    <tr>\n",
       "      <th>churn</th>\n",
       "      <td>1</td>\n",
       "      <td>0</td>\n",
       "      <td>0</td>\n",
       "    </tr>\n",
       "    <tr>\n",
       "      <th>internet_service_type</th>\n",
       "      <td>Fiber optic</td>\n",
       "      <td>DSL</td>\n",
       "      <td>DSL</td>\n",
       "    </tr>\n",
       "    <tr>\n",
       "      <th>contract_type</th>\n",
       "      <td>Month-to-month</td>\n",
       "      <td>Two year</td>\n",
       "      <td>Two year</td>\n",
       "    </tr>\n",
       "  </tbody>\n",
       "</table>\n",
       "</div>"
      ],
      "text/plain": [
       "                                   1912                     6468  \\\n",
       "payment_type           Electronic check  Credit card (automatic)   \n",
       "customer_id                  6365-MTGZX               0771-CHWSK   \n",
       "senior_citizen                        0                        0   \n",
       "partner                               0                        0   \n",
       "dependents                            0                        0   \n",
       "tenure_in_months                     24                       66   \n",
       "phone_service                         1                        1   \n",
       "online_security                       0                        1   \n",
       "online_backup                         0                        1   \n",
       "device_protection                     0                        1   \n",
       "tech_support                          1                        0   \n",
       "paperless_billing                     1                        1   \n",
       "monthly_charges                    96.0                     74.6   \n",
       "total_charges                   2122.45                   4798.4   \n",
       "churn                                 1                        0   \n",
       "internet_service_type       Fiber optic                      DSL   \n",
       "contract_type            Month-to-month                 Two year   \n",
       "\n",
       "                                   6976  \n",
       "payment_type           Electronic check  \n",
       "customer_id                  9027-TMATR  \n",
       "senior_citizen                        0  \n",
       "partner                               1  \n",
       "dependents                            0  \n",
       "tenure_in_months                     43  \n",
       "phone_service                         1  \n",
       "online_security                       1  \n",
       "online_backup                         0  \n",
       "device_protection                     1  \n",
       "tech_support                          1  \n",
       "paperless_billing                     1  \n",
       "monthly_charges                    78.8  \n",
       "total_charges                    3460.3  \n",
       "churn                                 0  \n",
       "internet_service_type               DSL  \n",
       "contract_type                  Two year  "
      ]
     },
     "execution_count": 8,
     "metadata": {},
     "output_type": "execute_result"
    }
   ],
   "source": [
    "#show a sample\n",
    "df.sample(3).T"
   ]
  },
  {
   "cell_type": "code",
   "execution_count": 9,
   "id": "bec09dfb",
   "metadata": {},
   "outputs": [
    {
     "data": {
      "text/plain": [
       "(7032, 17)"
      ]
     },
     "execution_count": 9,
     "metadata": {},
     "output_type": "execute_result"
    }
   ],
   "source": [
    "#check the shape of the new dataframe\n",
    "df.shape"
   ]
  },
  {
   "cell_type": "code",
   "execution_count": 10,
   "id": "2515f43a",
   "metadata": {},
   "outputs": [],
   "source": [
    "#split the data\n",
    "train, validate, test = prepare.telco_split(df)"
   ]
  },
  {
   "cell_type": "code",
   "execution_count": 11,
   "id": "3692601c",
   "metadata": {},
   "outputs": [
    {
     "data": {
      "text/plain": [
       "((3937, 17), (1688, 17), (1407, 17))"
      ]
     },
     "execution_count": 11,
     "metadata": {},
     "output_type": "execute_result"
    }
   ],
   "source": [
    "#check the shape of the new data\n",
    "train.shape, validate.shape, test.shape"
   ]
  },
  {
   "cell_type": "code",
   "execution_count": 12,
   "id": "79fe05f6",
   "metadata": {},
   "outputs": [
    {
     "data": {
      "text/html": [
       "<div>\n",
       "<style scoped>\n",
       "    .dataframe tbody tr th:only-of-type {\n",
       "        vertical-align: middle;\n",
       "    }\n",
       "\n",
       "    .dataframe tbody tr th {\n",
       "        vertical-align: top;\n",
       "    }\n",
       "\n",
       "    .dataframe thead th {\n",
       "        text-align: right;\n",
       "    }\n",
       "</style>\n",
       "<table border=\"1\" class=\"dataframe\">\n",
       "  <thead>\n",
       "    <tr style=\"text-align: right;\">\n",
       "      <th></th>\n",
       "      <th>5399</th>\n",
       "      <th>2876</th>\n",
       "      <th>659</th>\n",
       "    </tr>\n",
       "  </thead>\n",
       "  <tbody>\n",
       "    <tr>\n",
       "      <th>payment_type</th>\n",
       "      <td>Mailed check</td>\n",
       "      <td>Electronic check</td>\n",
       "      <td>Mailed check</td>\n",
       "    </tr>\n",
       "    <tr>\n",
       "      <th>customer_id</th>\n",
       "      <td>0831-JNISG</td>\n",
       "      <td>1963-SVUCV</td>\n",
       "      <td>0611-DFXKO</td>\n",
       "    </tr>\n",
       "    <tr>\n",
       "      <th>senior_citizen</th>\n",
       "      <td>0</td>\n",
       "      <td>0</td>\n",
       "      <td>0</td>\n",
       "    </tr>\n",
       "    <tr>\n",
       "      <th>partner</th>\n",
       "      <td>1</td>\n",
       "      <td>0</td>\n",
       "      <td>1</td>\n",
       "    </tr>\n",
       "    <tr>\n",
       "      <th>dependents</th>\n",
       "      <td>1</td>\n",
       "      <td>0</td>\n",
       "      <td>0</td>\n",
       "    </tr>\n",
       "    <tr>\n",
       "      <th>tenure_in_months</th>\n",
       "      <td>71</td>\n",
       "      <td>1</td>\n",
       "      <td>20</td>\n",
       "    </tr>\n",
       "    <tr>\n",
       "      <th>phone_service</th>\n",
       "      <td>1</td>\n",
       "      <td>1</td>\n",
       "      <td>1</td>\n",
       "    </tr>\n",
       "    <tr>\n",
       "      <th>online_security</th>\n",
       "      <td>0</td>\n",
       "      <td>0</td>\n",
       "      <td>0</td>\n",
       "    </tr>\n",
       "    <tr>\n",
       "      <th>online_backup</th>\n",
       "      <td>0</td>\n",
       "      <td>0</td>\n",
       "      <td>0</td>\n",
       "    </tr>\n",
       "    <tr>\n",
       "      <th>device_protection</th>\n",
       "      <td>0</td>\n",
       "      <td>0</td>\n",
       "      <td>0</td>\n",
       "    </tr>\n",
       "    <tr>\n",
       "      <th>tech_support</th>\n",
       "      <td>0</td>\n",
       "      <td>0</td>\n",
       "      <td>0</td>\n",
       "    </tr>\n",
       "    <tr>\n",
       "      <th>paperless_billing</th>\n",
       "      <td>0</td>\n",
       "      <td>0</td>\n",
       "      <td>1</td>\n",
       "    </tr>\n",
       "    <tr>\n",
       "      <th>monthly_charges</th>\n",
       "      <td>19.8</td>\n",
       "      <td>45.3</td>\n",
       "      <td>89.0</td>\n",
       "    </tr>\n",
       "    <tr>\n",
       "      <th>total_charges</th>\n",
       "      <td>1396.25</td>\n",
       "      <td>45.3</td>\n",
       "      <td>1820.45</td>\n",
       "    </tr>\n",
       "    <tr>\n",
       "      <th>churn</th>\n",
       "      <td>0</td>\n",
       "      <td>1</td>\n",
       "      <td>1</td>\n",
       "    </tr>\n",
       "    <tr>\n",
       "      <th>internet_service_type</th>\n",
       "      <td>None</td>\n",
       "      <td>DSL</td>\n",
       "      <td>Fiber optic</td>\n",
       "    </tr>\n",
       "    <tr>\n",
       "      <th>contract_type</th>\n",
       "      <td>Two year</td>\n",
       "      <td>Month-to-month</td>\n",
       "      <td>Month-to-month</td>\n",
       "    </tr>\n",
       "  </tbody>\n",
       "</table>\n",
       "</div>"
      ],
      "text/plain": [
       "                               5399              2876            659 \n",
       "payment_type           Mailed check  Electronic check    Mailed check\n",
       "customer_id              0831-JNISG        1963-SVUCV      0611-DFXKO\n",
       "senior_citizen                    0                 0               0\n",
       "partner                           1                 0               1\n",
       "dependents                        1                 0               0\n",
       "tenure_in_months                 71                 1              20\n",
       "phone_service                     1                 1               1\n",
       "online_security                   0                 0               0\n",
       "online_backup                     0                 0               0\n",
       "device_protection                 0                 0               0\n",
       "tech_support                      0                 0               0\n",
       "paperless_billing                 0                 0               1\n",
       "monthly_charges                19.8              45.3            89.0\n",
       "total_charges               1396.25              45.3         1820.45\n",
       "churn                             0                 1               1\n",
       "internet_service_type          None               DSL     Fiber optic\n",
       "contract_type              Two year    Month-to-month  Month-to-month"
      ]
     },
     "execution_count": 12,
     "metadata": {},
     "output_type": "execute_result"
    }
   ],
   "source": [
    "train.head(3).T"
   ]
  },
  {
   "cell_type": "markdown",
   "id": "e82c1cdb",
   "metadata": {},
   "source": [
    "Takeaway:\n",
    "-Dropped nulls and uneccessary columns\n",
    "-Split the data to get it ready for testing"
   ]
  },
  {
   "cell_type": "markdown",
   "id": "166fd667",
   "metadata": {},
   "source": [
    "Explore"
   ]
  },
  {
   "cell_type": "code",
   "execution_count": 13,
   "id": "251788b0",
   "metadata": {},
   "outputs": [
    {
     "data": {
      "image/png": "[encoded data removed]",
      "text/plain": [
       "<Figure size 576x864 with 2 Axes>"
      ]
     },
     "metadata": {
      "needs_background": "light"
     },
     "output_type": "display_data"
    }
   ],
   "source": [
    "# Use the popular heat map to show churn\n",
    "plt.figure(figsize=(8,12))\n",
    "churn_heatmap = sns.heatmap(train.corr()[['churn']].sort_values(by='churn', ascending=False), cmap='PiYG', vmin=-.5, vmax=.5, annot=True)\n",
    "churn_heatmap.set_title('Feautures that effect Churn')\n",
    "plt.show()"
   ]
  },
  {
   "cell_type": "markdown",
   "id": "0d5b6542",
   "metadata": {},
   "source": [
    "Some of the lowest features effecting churn are phone_service, device_protection and online_backup"
   ]
  },
  {
   "cell_type": "markdown",
   "id": "7269ead1",
   "metadata": {},
   "source": [
    "#Going to explore how paperless billing, partners, and monthly charges effect churn\n",
    "Use a $chi^2$ test to see if paperless billing effects churn\\ ${H_0}$ : Paperless billing has no effect on customer churn\\ ${H_a}$ : Paperless billing does have an effect on churn"
   ]
  },
  {
   "cell_type": "code",
   "execution_count": 14,
   "id": "a6cdd6fe",
   "metadata": {},
   "outputs": [
    {
     "name": "stdout",
     "output_type": "stream",
     "text": [
      "Observed\n",
      "\n",
      "[[1382 1507]\n",
      " [ 276  772]]\n",
      "---\n",
      "Expected\n",
      "\n",
      "[[1216 1672]\n",
      " [ 441  606]]\n",
      "---\n",
      "\n",
      "chi^2 = 144.9512\n",
      "p     = 2.201e-33\n"
     ]
    }
   ],
   "source": [
    "# setting the alpha \n",
    "alpha = 0.05\n",
    "\n",
    "# create a crosstab\n",
    "observed = pd.crosstab(train.churn, train.paperless_billing)\n",
    "\n",
    "# chi2 test\n",
    "chi2, p, degf, expected = stats.chi2_contingency(observed)\n",
    "\n",
    "# results\n",
    "print('Observed\\n')\n",
    "print(observed.values)\n",
    "print('---\\nExpected\\n')\n",
    "print(expected.astype(int))\n",
    "print('---\\n')\n",
    "print(f'chi^2 = {chi2:.4f}')\n",
    "print(f'p     = {p:.4}')\n"
   ]
  },
  {
   "cell_type": "code",
   "execution_count": 15,
   "id": "f3eb2a08",
   "metadata": {},
   "outputs": [
    {
     "name": "stdout",
     "output_type": "stream",
     "text": [
      "We reject the null hypothesis\n"
     ]
    }
   ],
   "source": [
    "if p < alpha:\n",
    "    print('We reject the null hypothesis')\n",
    "else:\n",
    "    print('We fail to reject the null hypothesis')"
   ]
  },
  {
   "cell_type": "markdown",
   "id": "92c42f1c",
   "metadata": {},
   "source": [
    "Using another chi2 we'll check for correlation of  partner and churn.\\ ${H_0}$ : Having a partner does not effect customer churn\\ ${H_a}$ : Having a partner does effect customer churn"
   ]
  },
  {
   "cell_type": "code",
   "execution_count": 16,
   "id": "36401f39",
   "metadata": {},
   "outputs": [
    {
     "name": "stdout",
     "output_type": "stream",
     "text": [
      "Observed\n",
      "\n",
      "[[1376 1513]\n",
      " [ 666  382]]\n",
      "---\n",
      "Expected\n",
      "\n",
      "[[1498 1390]\n",
      " [ 543  504]]\n",
      "---\n",
      "\n",
      "chi^2 = 77.4423\n",
      "p     = 1.3665799090892278e-18\n"
     ]
    }
   ],
   "source": [
    " #set the alpha\n",
    "alpha = 0.05\n",
    "\n",
    "# create a crosstab\n",
    "observed = pd.crosstab(train.churn, train.partner)\n",
    "\n",
    "#chi2 test\n",
    "chi2, p, degf, expected = stats.chi2_contingency(observed)\n",
    "\n",
    "# take a look at our results\n",
    "print('Observed\\n')\n",
    "print(observed.values)\n",
    "print('---\\nExpected\\n')\n",
    "print(expected.astype(int))\n",
    "print('---\\n')\n",
    "print(f'chi^2 = {chi2:.4f}')\n",
    "print(f'p     = {p:}')"
   ]
  },
  {
   "cell_type": "code",
   "execution_count": 17,
   "id": "a810b903",
   "metadata": {},
   "outputs": [
    {
     "name": "stdout",
     "output_type": "stream",
     "text": [
      "We reject the null hypothesis\n"
     ]
    }
   ],
   "source": [
    "if p < alpha:\n",
    "    print('We reject the null hypothesis')\n",
    "else:\n",
    "    print('We fail to reject the null hypothesis')"
   ]
  },
  {
   "cell_type": "markdown",
   "id": "6fcc9f9a",
   "metadata": {},
   "source": [
    "Using a one sample, one tailed ttest, were going to compare the mean of monthly charages of churned customers to overall customers.\n",
    "\\ ${H_0}$: Mean monthly charges for churned customers = Mean  monthly charges for all customers.\\ ${H_a}$: Mean  monthly charges for churned customers > Mean monthly charges for all customers."
   ]
  },
  {
   "cell_type": "code",
   "execution_count": 18,
   "id": "493ba02c",
   "metadata": {},
   "outputs": [
    {
     "data": {
      "image/png": "[encoded data removed]",
      "text/plain": [
       "<Figure size 720x504 with 1 Axes>"
      ]
     },
     "metadata": {
      "needs_background": "light"
     },
     "output_type": "display_data"
    }
   ],
   "source": [
    "# compare the monthly charges\n",
    "plt.figure(figsize=(10,7))\n",
    "train.monthly_charges.hist(color='r')\n",
    "train[train['churn']==1].monthly_charges.hist(color='blue')\n",
    "plt.xlabel('monthly charges')\n",
    "plt.ylabel('number of customers')\n",
    "plt.title('Comparing monthly charges')\n",
    "plt.show()"
   ]
  },
  {
   "cell_type": "code",
   "execution_count": 19,
   "id": "958f286a",
   "metadata": {},
   "outputs": [
    {
     "data": {
      "text/plain": [
       "(12.897478777164558, 9.909789308393289e-36, 0.05)"
      ]
     },
     "execution_count": 19,
     "metadata": {},
     "output_type": "execute_result"
    }
   ],
   "source": [
    "# assign the ttest variable \n",
    "churn_sample = train[train.churn == 1].monthly_charges\n",
    "overall_mean = train.monthly_charges.mean()\n",
    "\n",
    "# calculate t and p \n",
    "t, p = stats.ttest_1samp(churn_sample, overall_mean)\n",
    "\n",
    "# Results\n",
    "t, p/2, alpha"
   ]
  },
  {
   "cell_type": "code",
   "execution_count": 20,
   "id": "9d252550",
   "metadata": {},
   "outputs": [
    {
     "name": "stdout",
     "output_type": "stream",
     "text": [
      "We reject the null hypothesis, monthly charges do effect churn.\n"
     ]
    }
   ],
   "source": [
    "if (p/2 < alpha) & (t > 0):\n",
    "    print(\"We reject the null hypothesis, monthly charges do effect churn.\")\n",
    "else:\n",
    "    print(\"We fail to reject the null hypothesis\")"
   ]
  },
  {
   "cell_type": "markdown",
   "id": "2fe27fdd",
   "metadata": {},
   "source": [
    "Takeaway:\n",
    "Contract_type, dependents, internet_service_type, payment_type, and senior_citizen all effect churn.\n",
    "\n",
    "The numbers show that paperless billing, monthly charges, and having a partner all are associated to churn."
   ]
  },
  {
   "cell_type": "markdown",
   "id": "555fc6fe",
   "metadata": {},
   "source": [
    "Models"
   ]
  },
  {
   "cell_type": "code",
   "execution_count": 21,
   "id": "3473e3d3",
   "metadata": {},
   "outputs": [],
   "source": [
    "# Keeping the features that effect churn the most and dropping the others\n",
    "features = ['payment_type', 'senior_citizen', 'contract_type',\n",
    "           'internet_service_type', 'dependents', 'paperless_billing',\n",
    "           'monthly_charges', 'partner', 'churn']\n",
    "\n",
    "# updating the dataframe\n",
    "train = train[features]\n",
    "validate = validate[features]\n",
    "test = test[features]"
   ]
  },
  {
   "cell_type": "code",
   "execution_count": 22,
   "id": "08564637",
   "metadata": {},
   "outputs": [],
   "source": [
    "# create dummies for flag columns \n",
    "train = prepare.create_dummies(train)\n",
    "validate = prepare.create_dummies(validate)\n",
    "test = prepare.create_dummies(test)"
   ]
  },
  {
   "cell_type": "code",
   "execution_count": 23,
   "id": "06e1aabd",
   "metadata": {},
   "outputs": [
    {
     "data": {
      "text/plain": [
       "((3937, 13), (1688, 13), (1407, 13))"
      ]
     },
     "execution_count": 23,
     "metadata": {},
     "output_type": "execute_result"
    }
   ],
   "source": [
    "# check the new shape\n",
    "train.shape, validate.shape, test.shape"
   ]
  },
  {
   "cell_type": "code",
   "execution_count": 24,
   "id": "16e3a615",
   "metadata": {},
   "outputs": [
    {
     "data": {
      "text/html": [
       "<div>\n",
       "<style scoped>\n",
       "    .dataframe tbody tr th:only-of-type {\n",
       "        vertical-align: middle;\n",
       "    }\n",
       "\n",
       "    .dataframe tbody tr th {\n",
       "        vertical-align: top;\n",
       "    }\n",
       "\n",
       "    .dataframe thead th {\n",
       "        text-align: right;\n",
       "    }\n",
       "</style>\n",
       "<table border=\"1\" class=\"dataframe\">\n",
       "  <thead>\n",
       "    <tr style=\"text-align: right;\">\n",
       "      <th></th>\n",
       "      <th>5452</th>\n",
       "      <th>4011</th>\n",
       "      <th>5436</th>\n",
       "    </tr>\n",
       "  </thead>\n",
       "  <tbody>\n",
       "    <tr>\n",
       "      <th>senior_citizen</th>\n",
       "      <td>0.0</td>\n",
       "      <td>0.00</td>\n",
       "      <td>0.00</td>\n",
       "    </tr>\n",
       "    <tr>\n",
       "      <th>dependents</th>\n",
       "      <td>1.0</td>\n",
       "      <td>0.00</td>\n",
       "      <td>1.00</td>\n",
       "    </tr>\n",
       "    <tr>\n",
       "      <th>paperless_billing</th>\n",
       "      <td>0.0</td>\n",
       "      <td>1.00</td>\n",
       "      <td>0.00</td>\n",
       "    </tr>\n",
       "    <tr>\n",
       "      <th>monthly_charges</th>\n",
       "      <td>20.5</td>\n",
       "      <td>20.35</td>\n",
       "      <td>20.45</td>\n",
       "    </tr>\n",
       "    <tr>\n",
       "      <th>partner</th>\n",
       "      <td>0.0</td>\n",
       "      <td>0.00</td>\n",
       "      <td>0.00</td>\n",
       "    </tr>\n",
       "    <tr>\n",
       "      <th>churn</th>\n",
       "      <td>0.0</td>\n",
       "      <td>0.00</td>\n",
       "      <td>0.00</td>\n",
       "    </tr>\n",
       "    <tr>\n",
       "      <th>Credit card (automatic)</th>\n",
       "      <td>0.0</td>\n",
       "      <td>1.00</td>\n",
       "      <td>1.00</td>\n",
       "    </tr>\n",
       "    <tr>\n",
       "      <th>Electronic check</th>\n",
       "      <td>0.0</td>\n",
       "      <td>0.00</td>\n",
       "      <td>0.00</td>\n",
       "    </tr>\n",
       "    <tr>\n",
       "      <th>Mailed check</th>\n",
       "      <td>1.0</td>\n",
       "      <td>0.00</td>\n",
       "      <td>0.00</td>\n",
       "    </tr>\n",
       "    <tr>\n",
       "      <th>DSL</th>\n",
       "      <td>0.0</td>\n",
       "      <td>0.00</td>\n",
       "      <td>0.00</td>\n",
       "    </tr>\n",
       "    <tr>\n",
       "      <th>Fiber optic</th>\n",
       "      <td>0.0</td>\n",
       "      <td>0.00</td>\n",
       "      <td>0.00</td>\n",
       "    </tr>\n",
       "    <tr>\n",
       "      <th>One year</th>\n",
       "      <td>0.0</td>\n",
       "      <td>1.00</td>\n",
       "      <td>0.00</td>\n",
       "    </tr>\n",
       "    <tr>\n",
       "      <th>Two year</th>\n",
       "      <td>1.0</td>\n",
       "      <td>0.00</td>\n",
       "      <td>1.00</td>\n",
       "    </tr>\n",
       "  </tbody>\n",
       "</table>\n",
       "</div>"
      ],
      "text/plain": [
       "                         5452   4011   5436\n",
       "senior_citizen            0.0   0.00   0.00\n",
       "dependents                1.0   0.00   1.00\n",
       "paperless_billing         0.0   1.00   0.00\n",
       "monthly_charges          20.5  20.35  20.45\n",
       "partner                   0.0   0.00   0.00\n",
       "churn                     0.0   0.00   0.00\n",
       "Credit card (automatic)   0.0   1.00   1.00\n",
       "Electronic check          0.0   0.00   0.00\n",
       "Mailed check              1.0   0.00   0.00\n",
       "DSL                       0.0   0.00   0.00\n",
       "Fiber optic               0.0   0.00   0.00\n",
       "One year                  0.0   1.00   0.00\n",
       "Two year                  1.0   0.00   1.00"
      ]
     },
     "execution_count": 24,
     "metadata": {},
     "output_type": "execute_result"
    }
   ],
   "source": [
    "#check a sample\n",
    "train.sample(3).T"
   ]
  },
  {
   "cell_type": "markdown",
   "id": "4d9f4fbb",
   "metadata": {},
   "source": [
    "Baseline"
   ]
  },
  {
   "cell_type": "code",
   "execution_count": 25,
   "id": "44f29077",
   "metadata": {},
   "outputs": [
    {
     "data": {
      "text/plain": [
       "0    2889\n",
       "1    1048\n",
       "Name: churn, dtype: int64"
      ]
     },
     "execution_count": 25,
     "metadata": {},
     "output_type": "execute_result"
    }
   ],
   "source": [
    "# checking value counts for the baseline\n",
    "train.churn.value_counts()"
   ]
  },
  {
   "cell_type": "code",
   "execution_count": 26,
   "id": "5a13f127",
   "metadata": {},
   "outputs": [
    {
     "data": {
      "text/html": [
       "<div>\n",
       "<style scoped>\n",
       "    .dataframe tbody tr th:only-of-type {\n",
       "        vertical-align: middle;\n",
       "    }\n",
       "\n",
       "    .dataframe tbody tr th {\n",
       "        vertical-align: top;\n",
       "    }\n",
       "\n",
       "    .dataframe thead th {\n",
       "        text-align: right;\n",
       "    }\n",
       "</style>\n",
       "<table border=\"1\" class=\"dataframe\">\n",
       "  <thead>\n",
       "    <tr style=\"text-align: right;\">\n",
       "      <th></th>\n",
       "      <th>604</th>\n",
       "    </tr>\n",
       "  </thead>\n",
       "  <tbody>\n",
       "    <tr>\n",
       "      <th>senior_citizen</th>\n",
       "      <td>0.0</td>\n",
       "    </tr>\n",
       "    <tr>\n",
       "      <th>dependents</th>\n",
       "      <td>0.0</td>\n",
       "    </tr>\n",
       "    <tr>\n",
       "      <th>paperless_billing</th>\n",
       "      <td>0.0</td>\n",
       "    </tr>\n",
       "    <tr>\n",
       "      <th>monthly_charges</th>\n",
       "      <td>78.2</td>\n",
       "    </tr>\n",
       "    <tr>\n",
       "      <th>partner</th>\n",
       "      <td>1.0</td>\n",
       "    </tr>\n",
       "    <tr>\n",
       "      <th>churn</th>\n",
       "      <td>0.0</td>\n",
       "    </tr>\n",
       "    <tr>\n",
       "      <th>Credit card (automatic)</th>\n",
       "      <td>0.0</td>\n",
       "    </tr>\n",
       "    <tr>\n",
       "      <th>Electronic check</th>\n",
       "      <td>1.0</td>\n",
       "    </tr>\n",
       "    <tr>\n",
       "      <th>Mailed check</th>\n",
       "      <td>0.0</td>\n",
       "    </tr>\n",
       "    <tr>\n",
       "      <th>DSL</th>\n",
       "      <td>0.0</td>\n",
       "    </tr>\n",
       "    <tr>\n",
       "      <th>Fiber optic</th>\n",
       "      <td>1.0</td>\n",
       "    </tr>\n",
       "    <tr>\n",
       "      <th>One year</th>\n",
       "      <td>0.0</td>\n",
       "    </tr>\n",
       "    <tr>\n",
       "      <th>Two year</th>\n",
       "      <td>0.0</td>\n",
       "    </tr>\n",
       "    <tr>\n",
       "      <th>baseline</th>\n",
       "      <td>0.0</td>\n",
       "    </tr>\n",
       "  </tbody>\n",
       "</table>\n",
       "</div>"
      ],
      "text/plain": [
       "                          604\n",
       "senior_citizen            0.0\n",
       "dependents                0.0\n",
       "paperless_billing         0.0\n",
       "monthly_charges          78.2\n",
       "partner                   1.0\n",
       "churn                     0.0\n",
       "Credit card (automatic)   0.0\n",
       "Electronic check          1.0\n",
       "Mailed check              0.0\n",
       "DSL                       0.0\n",
       "Fiber optic               1.0\n",
       "One year                  0.0\n",
       "Two year                  0.0\n",
       "baseline                  0.0"
      ]
     },
     "execution_count": 26,
     "metadata": {},
     "output_type": "execute_result"
    }
   ],
   "source": [
    "# baseline is 0, most common\n",
    "train['baseline'] = 0\n",
    "train.sample().T"
   ]
  },
  {
   "cell_type": "code",
   "execution_count": 27,
   "id": "b3aa29be",
   "metadata": {},
   "outputs": [
    {
     "name": "stdout",
     "output_type": "stream",
     "text": [
      "              precision    recall  f1-score   support\n",
      "\n",
      "           0       0.73      1.00      0.85      2889\n",
      "           1       0.00      0.00      0.00      1048\n",
      "\n",
      "    accuracy                           0.73      3937\n",
      "   macro avg       0.37      0.50      0.42      3937\n",
      "weighted avg       0.54      0.73      0.62      3937\n",
      "\n"
     ]
    }
   ],
   "source": [
    "#classification report\n",
    "print(classification_report(train.churn, train.baseline))"
   ]
  },
  {
   "cell_type": "markdown",
   "id": "fa023d1c",
   "metadata": {},
   "source": [
    "Baseline shows 73% accuracy"
   ]
  },
  {
   "cell_type": "code",
   "execution_count": 28,
   "id": "54e2942b",
   "metadata": {},
   "outputs": [],
   "source": [
    "# baseline is no longer neccessary\n",
    "train.drop(columns = 'baseline', inplace=True)"
   ]
  },
  {
   "cell_type": "code",
   "execution_count": 29,
   "id": "1c69f886",
   "metadata": {},
   "outputs": [
    {
     "data": {
      "text/plain": [
       "senior_citizen               int64\n",
       "dependents                   int64\n",
       "paperless_billing            int64\n",
       "monthly_charges            float64\n",
       "partner                      int64\n",
       "churn                        int64\n",
       "Credit card (automatic)      uint8\n",
       "Electronic check             uint8\n",
       "Mailed check                 uint8\n",
       "DSL                          uint8\n",
       "Fiber optic                  uint8\n",
       "One year                     uint8\n",
       "Two year                     uint8\n",
       "dtype: object"
      ]
     },
     "execution_count": 29,
     "metadata": {},
     "output_type": "execute_result"
    }
   ],
   "source": [
    "# verify my features are the correct data types for my models\n",
    "train.dtypes"
   ]
  },
  {
   "cell_type": "code",
   "execution_count": 30,
   "id": "05192507",
   "metadata": {},
   "outputs": [],
   "source": [
    "# asssign x and y\n",
    "\n",
    "x_train = train.drop(columns = 'churn')\n",
    "y_train = train.churn\n",
    "\n",
    "x_validate = validate.drop(columns = 'churn')\n",
    "y_validate = validate.churn\n",
    "\n",
    "x_test = test.drop(columns = 'churn')\n",
    "y_test = test.churn"
   ]
  },
  {
   "cell_type": "markdown",
   "id": "337ff02c",
   "metadata": {},
   "source": [
    "Logistic Regression Model"
   ]
  },
  {
   "cell_type": "code",
   "execution_count": 33,
   "id": "d94a5b72",
   "metadata": {},
   "outputs": [
    {
     "name": "stdout",
     "output_type": "stream",
     "text": [
      "Model 1 is a LogisticRegression(C=1, class_weight={0: 1, 1: 99}, random_state=123)\n",
      "----------\n",
      "True Positives 1047\n",
      "False Positives 2564\n",
      "False Negatives 1\n",
      "True Negatives 325\n",
      "-------------\n",
      "Accuracy is 0.34848869697739393\n",
      "Recall is 0.9990458015267175\n",
      "Precision is 0.2899473829963999\n",
      "-------------\n",
      "              precision    recall  f1-score   support\n",
      "\n",
      "           0       1.00      0.11      0.20      2889\n",
      "           1       0.29      1.00      0.45      1048\n",
      "\n",
      "    accuracy                           0.35      3937\n",
      "   macro avg       0.64      0.56      0.33      3937\n",
      "weighted avg       0.81      0.35      0.27      3937\n",
      "\n",
      "-------------\n",
      "Logistic Regression accuracy on training data: 0.35\n",
      "Logistic Regression accuaracy on validate data: 0.35\n"
     ]
    }
   ],
   "source": [
    "# assign a variable \n",
    "logit1 = LogisticRegression(C=1, class_weight={0:1, 1:99}, random_state=123, intercept_scaling=1, solver='lbfgs')\n",
    "\n",
    "print('Model 1 is a', logit1)\n",
    "print('----------')\n",
    "\n",
    "# fit \n",
    "logit1.fit(x_train, y_train)\n",
    "\n",
    "#  prediction\n",
    "y_pred = logit1.predict(x_train)\n",
    "\n",
    "# assign variables \n",
    "tn, fp, fn, tp = confusion_matrix(y_train, y_pred).ravel()\n",
    "print(\"True Positives\", tp)\n",
    "print(\"False Positives\", fp)\n",
    "print(\"False Negatives\", fn)\n",
    "print(\"True Negatives\", tn)\n",
    "\n",
    "print(\"-------------\")\n",
    "\n",
    "accuracy = (tp + tn) / (tp + tn + fp + fn)\n",
    "recall = tp / (tp + fn)\n",
    "precision = tp / (tp + fp)\n",
    "\n",
    "print(\"Accuracy is\", accuracy)\n",
    "print(\"Recall is\", recall)\n",
    "print(\"Precision is\", precision)\n",
    "\n",
    "print(\"-------------\")\n",
    "\n",
    "# classification report\n",
    "print(classification_report(y_train, y_pred))\n",
    "\n",
    "print(\"-------------\")\n",
    "\n",
    "\n",
    "print('Logistic Regression accuracy on training data: {:.2f}'\n",
    "     .format(logit1.score(x_train, y_train)))\n",
    "print('Logistic Regression accuaracy on validate data: {:.2f}'\n",
    "     .format(logit1.score(x_validate, y_validate)))"
   ]
  },
  {
   "cell_type": "markdown",
   "id": "c40a0c2e",
   "metadata": {},
   "source": [
    "Decision Tree Model"
   ]
  },
  {
   "cell_type": "code",
   "execution_count": 34,
   "id": "b1ca3e1f",
   "metadata": {},
   "outputs": [
    {
     "name": "stdout",
     "output_type": "stream",
     "text": [
      "Model 2 is a DecisionTreeClassifier(max_depth=4, random_state=123)\n",
      "----------\n",
      "True Positives 448\n",
      "False Positives 280\n",
      "False Negatives 600\n",
      "True Negatives 2609\n",
      "-------------\n",
      "Accuracy is 0.7764795529591059\n",
      "Recall is 0.42748091603053434\n",
      "Precision is 0.6153846153846154\n",
      "-------------\n",
      "              precision    recall  f1-score   support\n",
      "\n",
      "           0       0.81      0.90      0.86      2889\n",
      "           1       0.62      0.43      0.50      1048\n",
      "\n",
      "    accuracy                           0.78      3937\n",
      "   macro avg       0.71      0.67      0.68      3937\n",
      "weighted avg       0.76      0.78      0.76      3937\n",
      "\n",
      "-------------\n",
      "Decision Tree accuracy on training data: 0.78\n",
      "Decision Tree accuracy on validate data: 0.78\n"
     ]
    }
   ],
   "source": [
    "# create the decision tree\n",
    "dt1 = DecisionTreeClassifier(max_depth=4, random_state=123)\n",
    "\n",
    "print('Model 2 is a', dt1)\n",
    "print('----------')\n",
    "\n",
    "# fit the model\n",
    "dt1 = dt1.fit(x_train, y_train)\n",
    "\n",
    "# prediction \n",
    "y_pred = dt1.predict(x_train)\n",
    "\n",
    "# assign variables \n",
    "tn, fp, fn, tp = confusion_matrix(y_train, y_pred).ravel()\n",
    "print(\"True Positives\", tp)\n",
    "print(\"False Positives\", fp)\n",
    "print(\"False Negatives\", fn)\n",
    "print(\"True Negatives\", tn)\n",
    "\n",
    "print(\"-------------\")\n",
    "\n",
    "accuracy = (tp + tn) / (tp + tn + fp + fn)\n",
    "recall = tp / (tp + fn)\n",
    "precision = tp / (tp + fp)\n",
    "\n",
    "print(\"Accuracy is\", accuracy)\n",
    "print(\"Recall is\", recall)\n",
    "print(\"Precision is\", precision)\n",
    "\n",
    "print(\"-------------\")\n",
    "\n",
    "# classification report\n",
    "print(classification_report(y_train, y_pred))\n",
    "\n",
    "print(\"-------------\")\n",
    "\n",
    "print('Decision Tree accuracy on training data: {:.2f}'\n",
    "      .format(dt1.score(x_train, y_train)))\n",
    "print('Decision Tree accuracy on validate data: {:.2f}'\n",
    "      .format(dt1.score(x_validate, y_validate)))"
   ]
  },
  {
   "cell_type": "code",
   "execution_count": null,
   "id": "69de1c2f",
   "metadata": {},
   "outputs": [],
   "source": [
    "Random Forest Model"
   ]
  },
  {
   "cell_type": "code",
   "execution_count": 35,
   "id": "db19a0d2",
   "metadata": {},
   "outputs": [
    {
     "name": "stdout",
     "output_type": "stream",
     "text": [
      "Model 3 is a RandomForestClassifier(max_depth=8, min_samples_leaf=2, random_state=123)\n",
      "-------------\n",
      "True Positives 559\n",
      "False Positives 261\n",
      "False Negatives 489\n",
      "True Negatives 2628\n",
      "-------------\n",
      "Accuracy is 0.809499618999238\n",
      "Recall is 0.5333969465648855\n",
      "Precision is 0.6817073170731708\n",
      "-------------\n",
      "              precision    recall  f1-score   support\n",
      "\n",
      "           0       0.84      0.91      0.88      2889\n",
      "           1       0.68      0.53      0.60      1048\n",
      "\n",
      "    accuracy                           0.81      3937\n",
      "   macro avg       0.76      0.72      0.74      3937\n",
      "weighted avg       0.80      0.81      0.80      3937\n",
      "\n",
      "-------------\n",
      "Random forest accuracy on training data: 0.81\n",
      "Random forest accuracy on validate data: 0.79\n"
     ]
    }
   ],
   "source": [
    "# create rainforest model\n",
    "rf1 = RandomForestClassifier(bootstrap=True,\n",
    "                            class_weight=None, \n",
    "                            criterion='gini',\n",
    "                            min_samples_leaf=2,\n",
    "                            max_depth=8,\n",
    "                            random_state=123                           \n",
    "                           )\n",
    "\n",
    "print('Model 3 is a', rf1)\n",
    "print(\"-------------\")\n",
    "\n",
    "# fit the model\n",
    "rf1.fit(x_train, y_train)\n",
    "\n",
    "# prediction\n",
    "y_pred = rf1.predict(x_train)\n",
    "\n",
    "# assign variables\n",
    "tn, fp, fn, tp = confusion_matrix(y_train, y_pred).ravel()\n",
    "print(\"True Positives\", tp)\n",
    "print(\"False Positives\", fp)\n",
    "print(\"False Negatives\", fn)\n",
    "print(\"True Negatives\", tn)\n",
    "\n",
    "print(\"-------------\")\n",
    "\n",
    "accuracy = (tp + tn) / (tp + tn + fp + fn)\n",
    "recall = tp / (tp + fn)\n",
    "precision = tp / (tp + fp)\n",
    "\n",
    "print(\"Accuracy is\", accuracy)\n",
    "print(\"Recall is\", recall)\n",
    "print(\"Precision is\", precision)\n",
    "\n",
    "print(\"-------------\")\n",
    "\n",
    "# classification report\n",
    "print(classification_report(y_train, y_pred))\n",
    "y_pred_proba = logit1.predict_proba(x_train)\n",
    "\n",
    "print(\"-------------\")\n",
    "\n",
    "print('Random forest accuracy on training data: {:.2f}'\n",
    "     .format(rf1.score(x_train, y_train)))\n",
    "print('Random forest accuracy on validate data: {:.2f}'\n",
    "     .format(rf1.score(x_validate, y_validate)))"
   ]
  },
  {
   "cell_type": "markdown",
   "id": "21ff03c2",
   "metadata": {},
   "source": [
    "Best Model:\n",
    "The Random Forest Model is the the best with 81% accuracy."
   ]
  },
  {
   "cell_type": "code",
   "execution_count": 36,
   "id": "ed755a42",
   "metadata": {},
   "outputs": [
    {
     "name": "stdout",
     "output_type": "stream",
     "text": [
      "Random Forest accuracy on test data: 0.75\n"
     ]
    }
   ],
   "source": [
    "# Testing the Random Forest Model\n",
    "print('Random Forest accuracy on test data: {:.2f}'\n",
    "     .format(rf1.score(x_test, y_test)))"
   ]
  },
  {
   "cell_type": "markdown",
   "id": "df4672f5",
   "metadata": {},
   "source": [
    "Takeaway:\n",
    "-The Random Forest Model gave the best accuracy with 75% on the test set\n",
    "-The models werent over fit\n",
    "-The worst model accuracy was from the Logistic Regression Model"
   ]
  },
  {
   "cell_type": "markdown",
   "id": "ed4251de",
   "metadata": {},
   "source": [
    "Create a CSV"
   ]
  },
  {
   "cell_type": "code",
   "execution_count": 37,
   "id": "7247c4ca",
   "metadata": {},
   "outputs": [],
   "source": [
    "\n",
    "# concat train, validate, and test dataframe\n",
    "df_telco = pd.concat([train, validate, test], axis=0)\n",
    "\n",
    "# assign a variable to  customer_id column \n",
    "customer_ids = df['customer_id']\n",
    "\n",
    "# drop the churn column \n",
    "df_telco_data = df_telco.drop(columns=['churn'])\n",
    "\n",
    "#  predictions for each customer\n",
    "prediction_of_churn = pd.DataFrame({'churn_prediction' : rf1.predict(df_telco_data)})\n",
    "\n",
    "# predictions for each customer's probability of churn\n",
    "churn_probability = pd.DataFrame({'churn_probability': rf1.predict_proba(df_telco_data)[:,1]})\n",
    "\n",
    "# combine the dataframes\n",
    "data = [customer_ids, churn_probability, prediction_of_churn]\n",
    "\n",
    "# concatenate the dataframes\n",
    "customer_churn = pd.concat(data, axis=1)"
   ]
  },
  {
   "cell_type": "code",
   "execution_count": 38,
   "id": "b716720c",
   "metadata": {},
   "outputs": [
    {
     "data": {
      "text/html": [
       "<div>\n",
       "<style scoped>\n",
       "    .dataframe tbody tr th:only-of-type {\n",
       "        vertical-align: middle;\n",
       "    }\n",
       "\n",
       "    .dataframe tbody tr th {\n",
       "        vertical-align: top;\n",
       "    }\n",
       "\n",
       "    .dataframe thead th {\n",
       "        text-align: right;\n",
       "    }\n",
       "</style>\n",
       "<table border=\"1\" class=\"dataframe\">\n",
       "  <thead>\n",
       "    <tr style=\"text-align: right;\">\n",
       "      <th></th>\n",
       "      <th>customer_id</th>\n",
       "      <th>churn_probability</th>\n",
       "      <th>churn_prediction</th>\n",
       "    </tr>\n",
       "  </thead>\n",
       "  <tbody>\n",
       "    <tr>\n",
       "      <th>0</th>\n",
       "      <td>0030-FNXPP</td>\n",
       "      <td>0.007426</td>\n",
       "      <td>0.0</td>\n",
       "    </tr>\n",
       "    <tr>\n",
       "      <th>1</th>\n",
       "      <td>0031-PVLZI</td>\n",
       "      <td>0.448979</td>\n",
       "      <td>0.0</td>\n",
       "    </tr>\n",
       "    <tr>\n",
       "      <th>2</th>\n",
       "      <td>0098-BOWSO</td>\n",
       "      <td>0.450628</td>\n",
       "      <td>0.0</td>\n",
       "    </tr>\n",
       "    <tr>\n",
       "      <th>3</th>\n",
       "      <td>0107-WESLM</td>\n",
       "      <td>0.007376</td>\n",
       "      <td>0.0</td>\n",
       "    </tr>\n",
       "    <tr>\n",
       "      <th>4</th>\n",
       "      <td>0114-RSRRW</td>\n",
       "      <td>0.290747</td>\n",
       "      <td>0.0</td>\n",
       "    </tr>\n",
       "  </tbody>\n",
       "</table>\n",
       "</div>"
      ],
      "text/plain": [
       "  customer_id  churn_probability  churn_prediction\n",
       "0  0030-FNXPP           0.007426               0.0\n",
       "1  0031-PVLZI           0.448979               0.0\n",
       "2  0098-BOWSO           0.450628               0.0\n",
       "3  0107-WESLM           0.007376               0.0\n",
       "4  0114-RSRRW           0.290747               0.0"
      ]
     },
     "execution_count": 38,
     "metadata": {},
     "output_type": "execute_result"
    }
   ],
   "source": [
    "customer_churn.head()"
   ]
  },
  {
   "cell_type": "code",
   "execution_count": 39,
   "id": "1939b1f3",
   "metadata": {},
   "outputs": [],
   "source": [
    "# export to csv file\n",
    "customer_churn.to_csv('predictions.csv')"
   ]
  },
  {
   "cell_type": "markdown",
   "id": "63ba0a21",
   "metadata": {},
   "source": [
    "Conclusion:\n",
    "-The Random Forest Model performed the best on all of the data sets.\n",
    "\n",
    "What we should do:\n",
    "-Offer discounted services for 6 months to keep customers longer\n",
    "-Offer incentives toward targeted churned customers directed toward the top features for churn\n",
    "-Ask customers to take a survey for things that would g"
   ]
  }
 ],
 "metadata": {
  "kernelspec": {
   "display_name": "Python 3",
   "language": "python",
   "name": "python3"
  },
  "language_info": {
   "codemirror_mode": {
    "name": "ipython",
    "version": 3
   },
   "file_extension": ".py",
   "mimetype": "text/x-python",
   "name": "python",
   "nbconvert_exporter": "python",
   "pygments_lexer": "ipython3",
   "version": "3.8.8"
  }
 },
 "nbformat": 4,
 "nbformat_minor": 5
}
