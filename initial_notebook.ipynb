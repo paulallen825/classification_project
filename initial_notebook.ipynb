{
 "cells": [
  {
   "cell_type": "code",
   "execution_count": 1,
   "id": "0ee3b765",
   "metadata": {},
   "outputs": [],
   "source": [
    "# import everything needed\n",
    "import pandas as pd\n",
    "import numpy as np\n",
    "import matplotlib.pyplot as plt\n",
    "import seaborn as sns \n",
    "from sklearn.model_selection import train_test_split\n",
    "from sklearn.tree import DecisionTreeClassifier\n",
    "from sklearn.tree import plot_tree\n",
    "from sklearn.ensemble import RandomForestClassifier\n",
    "from sklearn.linear_model import LogisticRegression\n",
    "from sklearn.metrics import classification_report\n",
    "from sklearn.metrics import confusion_matrix\n",
    "from math import sqrt\n",
    "from scipy import stats\n",
    "from pydataset import data\n",
    "from env import host, user, password\n",
    "import warnings\n",
    "warnings.filterwarnings(\"ignore\")\n",
    "import prepare\n",
    "import acquire\n"
   ]
  },
  {
   "cell_type": "code",
   "execution_count": 2,
   "id": "51f90173",
   "metadata": {},
   "outputs": [],
   "source": [
    "#  creating some functions\n",
    "\n",
    "def get_connection(db_name):\n",
    "    '''\n",
    "    This function creates the connection to the database\n",
    "    '''\n",
    "    from env import host, user, password\n",
    "    return f'mysql+pymysql://{user}:{password}@{host}/{db_name}'"
   ]
  },
  {
   "cell_type": "code",
   "execution_count": 3,
   "id": "0cae14cb",
   "metadata": {},
   "outputs": [],
   "source": [
    "# sql query function\n",
    "def get_new_telco_churn_data():\n",
    "    '''\n",
    "    Function pulls the telco data from the sql server and returns \n",
    "    a pandas dataframe\n",
    "\n",
    "    '''\n",
    "    sql_query = '''\n",
    "    SELECT *\n",
    "    FROM payment_types\n",
    "    JOIN customers ON payment_types.payment_type_id = customers.payment_type_id\n",
    "    JOIN internet_service_types ON internet_service_types.internet_service_type_id = customers.internet_service_type_id\n",
    "    JOIN contract_types ON contract_types.contract_type_id = customers.contract_type_id;\n",
    "    \n",
    "    '''\n",
    "    return pd.read_sql(sql_query, get_connection('telco_churn'))"
   ]
  },
  {
   "cell_type": "code",
   "execution_count": 4,
   "id": "6a81c772",
   "metadata": {},
   "outputs": [],
   "source": [
    "df = get_new_telco_churn_data()"
   ]
  },
  {
   "cell_type": "code",
   "execution_count": 5,
   "id": "80278ba4",
   "metadata": {},
   "outputs": [
    {
     "data": {
      "text/html": [
       "<div>\n",
       "<style scoped>\n",
       "    .dataframe tbody tr th:only-of-type {\n",
       "        vertical-align: middle;\n",
       "    }\n",
       "\n",
       "    .dataframe tbody tr th {\n",
       "        vertical-align: top;\n",
       "    }\n",
       "\n",
       "    .dataframe thead th {\n",
       "        text-align: right;\n",
       "    }\n",
       "</style>\n",
       "<table border=\"1\" class=\"dataframe\">\n",
       "  <thead>\n",
       "    <tr style=\"text-align: right;\">\n",
       "      <th></th>\n",
       "      <th>payment_type_id</th>\n",
       "      <th>payment_type</th>\n",
       "      <th>customer_id</th>\n",
       "      <th>gender</th>\n",
       "      <th>senior_citizen</th>\n",
       "      <th>partner</th>\n",
       "      <th>dependents</th>\n",
       "      <th>tenure</th>\n",
       "      <th>phone_service</th>\n",
       "      <th>multiple_lines</th>\n",
       "      <th>...</th>\n",
       "      <th>contract_type_id</th>\n",
       "      <th>paperless_billing</th>\n",
       "      <th>payment_type_id</th>\n",
       "      <th>monthly_charges</th>\n",
       "      <th>total_charges</th>\n",
       "      <th>churn</th>\n",
       "      <th>internet_service_type_id</th>\n",
       "      <th>internet_service_type</th>\n",
       "      <th>contract_type_id</th>\n",
       "      <th>contract_type</th>\n",
       "    </tr>\n",
       "  </thead>\n",
       "  <tbody>\n",
       "    <tr>\n",
       "      <th>6824</th>\n",
       "      <td>4</td>\n",
       "      <td>Credit card (automatic)</td>\n",
       "      <td>6631-HMANX</td>\n",
       "      <td>Male</td>\n",
       "      <td>0</td>\n",
       "      <td>Yes</td>\n",
       "      <td>No</td>\n",
       "      <td>72</td>\n",
       "      <td>Yes</td>\n",
       "      <td>Yes</td>\n",
       "      <td>...</td>\n",
       "      <td>3</td>\n",
       "      <td>Yes</td>\n",
       "      <td>4</td>\n",
       "      <td>85.45</td>\n",
       "      <td>6227.5</td>\n",
       "      <td>No</td>\n",
       "      <td>1</td>\n",
       "      <td>DSL</td>\n",
       "      <td>3</td>\n",
       "      <td>Two year</td>\n",
       "    </tr>\n",
       "    <tr>\n",
       "      <th>5807</th>\n",
       "      <td>3</td>\n",
       "      <td>Bank transfer (automatic)</td>\n",
       "      <td>7205-BAIAD</td>\n",
       "      <td>Female</td>\n",
       "      <td>0</td>\n",
       "      <td>No</td>\n",
       "      <td>No</td>\n",
       "      <td>40</td>\n",
       "      <td>Yes</td>\n",
       "      <td>No</td>\n",
       "      <td>...</td>\n",
       "      <td>3</td>\n",
       "      <td>Yes</td>\n",
       "      <td>3</td>\n",
       "      <td>20.60</td>\n",
       "      <td>827.3</td>\n",
       "      <td>No</td>\n",
       "      <td>3</td>\n",
       "      <td>None</td>\n",
       "      <td>3</td>\n",
       "      <td>Two year</td>\n",
       "    </tr>\n",
       "    <tr>\n",
       "      <th>2002</th>\n",
       "      <td>1</td>\n",
       "      <td>Electronic check</td>\n",
       "      <td>6845-RGTYS</td>\n",
       "      <td>Female</td>\n",
       "      <td>0</td>\n",
       "      <td>Yes</td>\n",
       "      <td>No</td>\n",
       "      <td>47</td>\n",
       "      <td>Yes</td>\n",
       "      <td>Yes</td>\n",
       "      <td>...</td>\n",
       "      <td>1</td>\n",
       "      <td>Yes</td>\n",
       "      <td>1</td>\n",
       "      <td>98.75</td>\n",
       "      <td>4533.7</td>\n",
       "      <td>Yes</td>\n",
       "      <td>2</td>\n",
       "      <td>Fiber optic</td>\n",
       "      <td>1</td>\n",
       "      <td>Month-to-month</td>\n",
       "    </tr>\n",
       "  </tbody>\n",
       "</table>\n",
       "<p>3 rows × 27 columns</p>\n",
       "</div>"
      ],
      "text/plain": [
       "     payment_type_id               payment_type customer_id  gender  \\\n",
       "6824               4    Credit card (automatic)  6631-HMANX    Male   \n",
       "5807               3  Bank transfer (automatic)  7205-BAIAD  Female   \n",
       "2002               1           Electronic check  6845-RGTYS  Female   \n",
       "\n",
       "      senior_citizen partner dependents  tenure phone_service multiple_lines  \\\n",
       "6824               0     Yes         No      72           Yes            Yes   \n",
       "5807               0      No         No      40           Yes             No   \n",
       "2002               0     Yes         No      47           Yes            Yes   \n",
       "\n",
       "      ... contract_type_id paperless_billing payment_type_id monthly_charges  \\\n",
       "6824  ...                3               Yes               4           85.45   \n",
       "5807  ...                3               Yes               3           20.60   \n",
       "2002  ...                1               Yes               1           98.75   \n",
       "\n",
       "     total_charges churn internet_service_type_id  internet_service_type  \\\n",
       "6824        6227.5    No                        1                    DSL   \n",
       "5807         827.3    No                        3                   None   \n",
       "2002        4533.7   Yes                        2            Fiber optic   \n",
       "\n",
       "     contract_type_id   contract_type  \n",
       "6824                3        Two year  \n",
       "5807                3        Two year  \n",
       "2002                1  Month-to-month  \n",
       "\n",
       "[3 rows x 27 columns]"
      ]
     },
     "execution_count": 5,
     "metadata": {},
     "output_type": "execute_result"
    }
   ],
   "source": [
    "df.sample(3)"
   ]
  },
  {
   "cell_type": "code",
   "execution_count": 6,
   "id": "b8b8390c",
   "metadata": {},
   "outputs": [
    {
     "data": {
      "text/plain": [
       "(7043, 27)"
      ]
     },
     "execution_count": 6,
     "metadata": {},
     "output_type": "execute_result"
    }
   ],
   "source": [
    "df.shape"
   ]
  },
  {
   "cell_type": "code",
   "execution_count": 7,
   "id": "a66ebafe",
   "metadata": {},
   "outputs": [],
   "source": [
    "df = acquire.get_new_telco_churn_data()\n",
    "churned_df = df[df['churn']=='Yes']"
   ]
  },
  {
   "cell_type": "code",
   "execution_count": 8,
   "id": "1338ba1e",
   "metadata": {},
   "outputs": [
    {
     "data": {
      "text/html": [
       "<div>\n",
       "<style scoped>\n",
       "    .dataframe tbody tr th:only-of-type {\n",
       "        vertical-align: middle;\n",
       "    }\n",
       "\n",
       "    .dataframe tbody tr th {\n",
       "        vertical-align: top;\n",
       "    }\n",
       "\n",
       "    .dataframe thead th {\n",
       "        text-align: right;\n",
       "    }\n",
       "</style>\n",
       "<table border=\"1\" class=\"dataframe\">\n",
       "  <thead>\n",
       "    <tr style=\"text-align: right;\">\n",
       "      <th></th>\n",
       "      <th>6663</th>\n",
       "      <th>2726</th>\n",
       "      <th>4913</th>\n",
       "    </tr>\n",
       "  </thead>\n",
       "  <tbody>\n",
       "    <tr>\n",
       "      <th>payment_type_id</th>\n",
       "      <td>3</td>\n",
       "      <td>3</td>\n",
       "      <td>3</td>\n",
       "    </tr>\n",
       "    <tr>\n",
       "      <th>payment_type</th>\n",
       "      <td>Bank transfer (automatic)</td>\n",
       "      <td>Bank transfer (automatic)</td>\n",
       "      <td>Bank transfer (automatic)</td>\n",
       "    </tr>\n",
       "    <tr>\n",
       "      <th>customer_id</th>\n",
       "      <td>4293-ETKAP</td>\n",
       "      <td>0733-VUNUW</td>\n",
       "      <td>2450-ZKEED</td>\n",
       "    </tr>\n",
       "    <tr>\n",
       "      <th>gender</th>\n",
       "      <td>Female</td>\n",
       "      <td>Male</td>\n",
       "      <td>Female</td>\n",
       "    </tr>\n",
       "    <tr>\n",
       "      <th>senior_citizen</th>\n",
       "      <td>0</td>\n",
       "      <td>0</td>\n",
       "      <td>0</td>\n",
       "    </tr>\n",
       "    <tr>\n",
       "      <th>partner</th>\n",
       "      <td>Yes</td>\n",
       "      <td>No</td>\n",
       "      <td>No</td>\n",
       "    </tr>\n",
       "    <tr>\n",
       "      <th>dependents</th>\n",
       "      <td>Yes</td>\n",
       "      <td>No</td>\n",
       "      <td>No</td>\n",
       "    </tr>\n",
       "    <tr>\n",
       "      <th>tenure</th>\n",
       "      <td>65</td>\n",
       "      <td>24</td>\n",
       "      <td>11</td>\n",
       "    </tr>\n",
       "    <tr>\n",
       "      <th>phone_service</th>\n",
       "      <td>Yes</td>\n",
       "      <td>Yes</td>\n",
       "      <td>Yes</td>\n",
       "    </tr>\n",
       "    <tr>\n",
       "      <th>multiple_lines</th>\n",
       "      <td>Yes</td>\n",
       "      <td>Yes</td>\n",
       "      <td>No</td>\n",
       "    </tr>\n",
       "    <tr>\n",
       "      <th>internet_service_type_id</th>\n",
       "      <td>1</td>\n",
       "      <td>1</td>\n",
       "      <td>1</td>\n",
       "    </tr>\n",
       "    <tr>\n",
       "      <th>online_security</th>\n",
       "      <td>No</td>\n",
       "      <td>Yes</td>\n",
       "      <td>No</td>\n",
       "    </tr>\n",
       "    <tr>\n",
       "      <th>online_backup</th>\n",
       "      <td>Yes</td>\n",
       "      <td>No</td>\n",
       "      <td>No</td>\n",
       "    </tr>\n",
       "    <tr>\n",
       "      <th>device_protection</th>\n",
       "      <td>No</td>\n",
       "      <td>No</td>\n",
       "      <td>Yes</td>\n",
       "    </tr>\n",
       "    <tr>\n",
       "      <th>tech_support</th>\n",
       "      <td>Yes</td>\n",
       "      <td>No</td>\n",
       "      <td>Yes</td>\n",
       "    </tr>\n",
       "    <tr>\n",
       "      <th>streaming_tv</th>\n",
       "      <td>Yes</td>\n",
       "      <td>No</td>\n",
       "      <td>No</td>\n",
       "    </tr>\n",
       "    <tr>\n",
       "      <th>streaming_movies</th>\n",
       "      <td>Yes</td>\n",
       "      <td>No</td>\n",
       "      <td>No</td>\n",
       "    </tr>\n",
       "    <tr>\n",
       "      <th>contract_type_id</th>\n",
       "      <td>3</td>\n",
       "      <td>1</td>\n",
       "      <td>2</td>\n",
       "    </tr>\n",
       "    <tr>\n",
       "      <th>paperless_billing</th>\n",
       "      <td>Yes</td>\n",
       "      <td>Yes</td>\n",
       "      <td>No</td>\n",
       "    </tr>\n",
       "    <tr>\n",
       "      <th>payment_type_id</th>\n",
       "      <td>3</td>\n",
       "      <td>3</td>\n",
       "      <td>3</td>\n",
       "    </tr>\n",
       "    <tr>\n",
       "      <th>monthly_charges</th>\n",
       "      <td>79.4</td>\n",
       "      <td>55.65</td>\n",
       "      <td>53.8</td>\n",
       "    </tr>\n",
       "    <tr>\n",
       "      <th>total_charges</th>\n",
       "      <td>5071.9</td>\n",
       "      <td>1400.55</td>\n",
       "      <td>651.55</td>\n",
       "    </tr>\n",
       "    <tr>\n",
       "      <th>churn</th>\n",
       "      <td>No</td>\n",
       "      <td>Yes</td>\n",
       "      <td>No</td>\n",
       "    </tr>\n",
       "    <tr>\n",
       "      <th>internet_service_type_id</th>\n",
       "      <td>1</td>\n",
       "      <td>1</td>\n",
       "      <td>1</td>\n",
       "    </tr>\n",
       "    <tr>\n",
       "      <th>internet_service_type</th>\n",
       "      <td>DSL</td>\n",
       "      <td>DSL</td>\n",
       "      <td>DSL</td>\n",
       "    </tr>\n",
       "    <tr>\n",
       "      <th>contract_type_id</th>\n",
       "      <td>3</td>\n",
       "      <td>1</td>\n",
       "      <td>2</td>\n",
       "    </tr>\n",
       "    <tr>\n",
       "      <th>contract_type</th>\n",
       "      <td>Two year</td>\n",
       "      <td>Month-to-month</td>\n",
       "      <td>One year</td>\n",
       "    </tr>\n",
       "  </tbody>\n",
       "</table>\n",
       "</div>"
      ],
      "text/plain": [
       "                                               6663  \\\n",
       "payment_type_id                                   3   \n",
       "payment_type              Bank transfer (automatic)   \n",
       "customer_id                              4293-ETKAP   \n",
       "gender                                       Female   \n",
       "senior_citizen                                    0   \n",
       "partner                                         Yes   \n",
       "dependents                                      Yes   \n",
       "tenure                                           65   \n",
       "phone_service                                   Yes   \n",
       "multiple_lines                                  Yes   \n",
       "internet_service_type_id                          1   \n",
       "online_security                                  No   \n",
       "online_backup                                   Yes   \n",
       "device_protection                                No   \n",
       "tech_support                                    Yes   \n",
       "streaming_tv                                    Yes   \n",
       "streaming_movies                                Yes   \n",
       "contract_type_id                                  3   \n",
       "paperless_billing                               Yes   \n",
       "payment_type_id                                   3   \n",
       "monthly_charges                                79.4   \n",
       "total_charges                                5071.9   \n",
       "churn                                            No   \n",
       "internet_service_type_id                          1   \n",
       "internet_service_type                           DSL   \n",
       "contract_type_id                                  3   \n",
       "contract_type                              Two year   \n",
       "\n",
       "                                               2726                       4913  \n",
       "payment_type_id                                   3                          3  \n",
       "payment_type              Bank transfer (automatic)  Bank transfer (automatic)  \n",
       "customer_id                              0733-VUNUW                 2450-ZKEED  \n",
       "gender                                         Male                     Female  \n",
       "senior_citizen                                    0                          0  \n",
       "partner                                          No                         No  \n",
       "dependents                                       No                         No  \n",
       "tenure                                           24                         11  \n",
       "phone_service                                   Yes                        Yes  \n",
       "multiple_lines                                  Yes                         No  \n",
       "internet_service_type_id                          1                          1  \n",
       "online_security                                 Yes                         No  \n",
       "online_backup                                    No                         No  \n",
       "device_protection                                No                        Yes  \n",
       "tech_support                                     No                        Yes  \n",
       "streaming_tv                                     No                         No  \n",
       "streaming_movies                                 No                         No  \n",
       "contract_type_id                                  1                          2  \n",
       "paperless_billing                               Yes                         No  \n",
       "payment_type_id                                   3                          3  \n",
       "monthly_charges                               55.65                       53.8  \n",
       "total_charges                               1400.55                     651.55  \n",
       "churn                                           Yes                         No  \n",
       "internet_service_type_id                          1                          1  \n",
       "internet_service_type                           DSL                        DSL  \n",
       "contract_type_id                                  1                          2  \n",
       "contract_type                        Month-to-month                   One year  "
      ]
     },
     "execution_count": 8,
     "metadata": {},
     "output_type": "execute_result"
    }
   ],
   "source": [
    "df.sample(3).T"
   ]
  },
  {
   "cell_type": "code",
   "execution_count": 9,
   "id": "e256cc28",
   "metadata": {},
   "outputs": [
    {
     "data": {
      "text/html": [
       "<div>\n",
       "<style scoped>\n",
       "    .dataframe tbody tr th:only-of-type {\n",
       "        vertical-align: middle;\n",
       "    }\n",
       "\n",
       "    .dataframe tbody tr th {\n",
       "        vertical-align: top;\n",
       "    }\n",
       "\n",
       "    .dataframe thead th {\n",
       "        text-align: right;\n",
       "    }\n",
       "</style>\n",
       "<table border=\"1\" class=\"dataframe\">\n",
       "  <thead>\n",
       "    <tr style=\"text-align: right;\">\n",
       "      <th></th>\n",
       "      <th>738</th>\n",
       "    </tr>\n",
       "  </thead>\n",
       "  <tbody>\n",
       "    <tr>\n",
       "      <th>payment_type_id</th>\n",
       "      <td>1</td>\n",
       "    </tr>\n",
       "    <tr>\n",
       "      <th>payment_type</th>\n",
       "      <td>Electronic check</td>\n",
       "    </tr>\n",
       "    <tr>\n",
       "      <th>customer_id</th>\n",
       "      <td>0970-ETWGE</td>\n",
       "    </tr>\n",
       "    <tr>\n",
       "      <th>gender</th>\n",
       "      <td>Male</td>\n",
       "    </tr>\n",
       "    <tr>\n",
       "      <th>senior_citizen</th>\n",
       "      <td>0</td>\n",
       "    </tr>\n",
       "    <tr>\n",
       "      <th>partner</th>\n",
       "      <td>No</td>\n",
       "    </tr>\n",
       "    <tr>\n",
       "      <th>dependents</th>\n",
       "      <td>No</td>\n",
       "    </tr>\n",
       "    <tr>\n",
       "      <th>tenure</th>\n",
       "      <td>1</td>\n",
       "    </tr>\n",
       "    <tr>\n",
       "      <th>phone_service</th>\n",
       "      <td>Yes</td>\n",
       "    </tr>\n",
       "    <tr>\n",
       "      <th>multiple_lines</th>\n",
       "      <td>No</td>\n",
       "    </tr>\n",
       "    <tr>\n",
       "      <th>internet_service_type_id</th>\n",
       "      <td>2</td>\n",
       "    </tr>\n",
       "    <tr>\n",
       "      <th>online_security</th>\n",
       "      <td>No</td>\n",
       "    </tr>\n",
       "    <tr>\n",
       "      <th>online_backup</th>\n",
       "      <td>No</td>\n",
       "    </tr>\n",
       "    <tr>\n",
       "      <th>device_protection</th>\n",
       "      <td>No</td>\n",
       "    </tr>\n",
       "    <tr>\n",
       "      <th>tech_support</th>\n",
       "      <td>No</td>\n",
       "    </tr>\n",
       "    <tr>\n",
       "      <th>streaming_tv</th>\n",
       "      <td>Yes</td>\n",
       "    </tr>\n",
       "    <tr>\n",
       "      <th>streaming_movies</th>\n",
       "      <td>Yes</td>\n",
       "    </tr>\n",
       "    <tr>\n",
       "      <th>contract_type_id</th>\n",
       "      <td>1</td>\n",
       "    </tr>\n",
       "    <tr>\n",
       "      <th>paperless_billing</th>\n",
       "      <td>Yes</td>\n",
       "    </tr>\n",
       "    <tr>\n",
       "      <th>payment_type_id</th>\n",
       "      <td>1</td>\n",
       "    </tr>\n",
       "    <tr>\n",
       "      <th>monthly_charges</th>\n",
       "      <td>89.55</td>\n",
       "    </tr>\n",
       "    <tr>\n",
       "      <th>total_charges</th>\n",
       "      <td>89.55</td>\n",
       "    </tr>\n",
       "    <tr>\n",
       "      <th>churn</th>\n",
       "      <td>Yes</td>\n",
       "    </tr>\n",
       "    <tr>\n",
       "      <th>internet_service_type_id</th>\n",
       "      <td>2</td>\n",
       "    </tr>\n",
       "    <tr>\n",
       "      <th>internet_service_type</th>\n",
       "      <td>Fiber optic</td>\n",
       "    </tr>\n",
       "    <tr>\n",
       "      <th>contract_type_id</th>\n",
       "      <td>1</td>\n",
       "    </tr>\n",
       "    <tr>\n",
       "      <th>contract_type</th>\n",
       "      <td>Month-to-month</td>\n",
       "    </tr>\n",
       "  </tbody>\n",
       "</table>\n",
       "</div>"
      ],
      "text/plain": [
       "                                       738\n",
       "payment_type_id                          1\n",
       "payment_type              Electronic check\n",
       "customer_id                     0970-ETWGE\n",
       "gender                                Male\n",
       "senior_citizen                           0\n",
       "partner                                 No\n",
       "dependents                              No\n",
       "tenure                                   1\n",
       "phone_service                          Yes\n",
       "multiple_lines                          No\n",
       "internet_service_type_id                 2\n",
       "online_security                         No\n",
       "online_backup                           No\n",
       "device_protection                       No\n",
       "tech_support                            No\n",
       "streaming_tv                           Yes\n",
       "streaming_movies                       Yes\n",
       "contract_type_id                         1\n",
       "paperless_billing                      Yes\n",
       "payment_type_id                          1\n",
       "monthly_charges                      89.55\n",
       "total_charges                        89.55\n",
       "churn                                  Yes\n",
       "internet_service_type_id                 2\n",
       "internet_service_type          Fiber optic\n",
       "contract_type_id                         1\n",
       "contract_type               Month-to-month"
      ]
     },
     "execution_count": 9,
     "metadata": {},
     "output_type": "execute_result"
    }
   ],
   "source": [
    "churned_df.sample().T"
   ]
  },
  {
   "cell_type": "code",
   "execution_count": 10,
   "id": "691e2511",
   "metadata": {},
   "outputs": [
    {
     "name": "stdout",
     "output_type": "stream",
     "text": [
      "payment_type\n",
      "Electronic check             1071\n",
      "Mailed check                  308\n",
      "Bank transfer (automatic)     258\n",
      "Credit card (automatic)       232\n",
      "Name: payment_type, dtype: int64\n",
      "----------------------------\n",
      "gender\n",
      "Female    939\n",
      "Male      930\n",
      "Name: gender, dtype: int64\n",
      "----------------------------\n",
      "senior_citizen\n",
      "0    1393\n",
      "1     476\n",
      "Name: senior_citizen, dtype: int64\n",
      "----------------------------\n",
      "partner\n",
      "No     1200\n",
      "Yes     669\n",
      "Name: partner, dtype: int64\n",
      "----------------------------\n",
      "dependents\n",
      "No     1543\n",
      "Yes     326\n",
      "Name: dependents, dtype: int64\n",
      "----------------------------\n",
      "phone_service\n",
      "Yes    1699\n",
      "No      170\n",
      "Name: phone_service, dtype: int64\n",
      "----------------------------\n",
      "multiple_lines\n",
      "Yes                 850\n",
      "No                  849\n",
      "No phone service    170\n",
      "Name: multiple_lines, dtype: int64\n",
      "----------------------------\n",
      "online_security\n",
      "No                     1461\n",
      "Yes                     295\n",
      "No internet service     113\n",
      "Name: online_security, dtype: int64\n",
      "----------------------------\n",
      "online_backup\n",
      "No                     1233\n",
      "Yes                     523\n",
      "No internet service     113\n",
      "Name: online_backup, dtype: int64\n",
      "----------------------------\n",
      "device_protection\n",
      "No                     1211\n",
      "Yes                     545\n",
      "No internet service     113\n",
      "Name: device_protection, dtype: int64\n",
      "----------------------------\n",
      "tech_support\n",
      "No                     1446\n",
      "Yes                     310\n",
      "No internet service     113\n",
      "Name: tech_support, dtype: int64\n",
      "----------------------------\n",
      "streaming_tv\n",
      "No                     942\n",
      "Yes                    814\n",
      "No internet service    113\n",
      "Name: streaming_tv, dtype: int64\n",
      "----------------------------\n",
      "streaming_movies\n",
      "No                     938\n",
      "Yes                    818\n",
      "No internet service    113\n",
      "Name: streaming_movies, dtype: int64\n",
      "----------------------------\n",
      "paperless_billing\n",
      "Yes    1400\n",
      "No      469\n",
      "Name: paperless_billing, dtype: int64\n",
      "----------------------------\n",
      "monthly_charges\n",
      "74.40     13\n",
      "74.90      9\n",
      "74.95      8\n",
      "45.30      8\n",
      "70.00      7\n",
      "          ..\n",
      "40.40      1\n",
      "90.70      1\n",
      "64.75      1\n",
      "24.35      1\n",
      "104.25     1\n",
      "Name: monthly_charges, Length: 910, dtype: int64\n",
      "----------------------------\n",
      "total_charges\n",
      "20.2      6\n",
      "45.3      5\n",
      "75.3      4\n",
      "20.15     4\n",
      "19.9      4\n",
      "         ..\n",
      "1078.9    1\n",
      "233.55    1\n",
      "834.1     1\n",
      "305.95    1\n",
      "44.15     1\n",
      "Name: total_charges, Length: 1732, dtype: int64\n",
      "----------------------------\n",
      "churn\n",
      "Yes    1869\n",
      "Name: churn, dtype: int64\n",
      "----------------------------\n",
      "internet_service_type\n",
      "Fiber optic    1297\n",
      "DSL             459\n",
      "None            113\n",
      "Name: internet_service_type, dtype: int64\n",
      "----------------------------\n",
      "contract_type\n",
      "Month-to-month    1655\n",
      "One year           166\n",
      "Two year            48\n",
      "Name: contract_type, dtype: int64\n",
      "----------------------------\n"
     ]
    }
   ],
   "source": [
    "# getting all the value counts from the telco churn data\n",
    "\n",
    "columns = ['payment_type', 'gender', 'senior_citizen', 'partner', 'dependents', 'phone_service', 'multiple_lines', \n",
    "           'online_security', 'online_backup', 'device_protection', 'tech_support',\n",
    "          'streaming_tv', 'streaming_movies', 'paperless_billing',\n",
    "          'monthly_charges', 'total_charges', 'churn', 'internet_service_type', 'contract_type']\n",
    "\n",
    "for col in columns:\n",
    "    print(col)\n",
    "    print(churned_df[col].value_counts())\n",
    "    print('----------------------------')"
   ]
  },
  {
   "cell_type": "markdown",
   "id": "f43b5e73",
   "metadata": {},
   "source": [
    "Columns that effect churn are:\n",
    "contract_type and contract_type_id\n",
    "internet_service_type and internet_service_type_id\n",
    "paperless_billing\n",
    "tech_support\n",
    "device_protection\n",
    "online_backup\n",
    "online_security\n",
    "phone_service\n",
    "dependents\n",
    "partner\n",
    "senior_citizen\n",
    "payment type and payment_type_id\n"
   ]
  },
  {
   "cell_type": "markdown",
   "id": "c8947d89",
   "metadata": {},
   "source": [
    "Other factors to consider are tenure, monthly charges and total charges.\n"
   ]
  },
  {
   "cell_type": "markdown",
   "id": "5d65eeea",
   "metadata": {},
   "source": [
    "We can drop some of the other columns"
   ]
  },
  {
   "cell_type": "code",
   "execution_count": 11,
   "id": "e4b8ae0f",
   "metadata": {},
   "outputs": [],
   "source": [
    "# create a df for churned customers\n",
    "churned_df = df[df['churn']=='Yes']"
   ]
  },
  {
   "cell_type": "markdown",
   "id": "46e39a82",
   "metadata": {},
   "source": [
    "Create functions"
   ]
  },
  {
   "cell_type": "code",
   "execution_count": 12,
   "id": "45e5b77f",
   "metadata": {},
   "outputs": [],
   "source": [
    "def prep_telco_data(df):\n",
    "    '''\n",
    "    Cleaning up the telco data\n",
    "    '''\n",
    "\n",
    "    # drop duplicate columns\n",
    "    df = df.loc[:, ~df.columns.duplicated()]\n",
    "\n",
    "    # replace blanks with nan and drop the nulls from the columns\n",
    "    df = df.replace(' ', np.nan)\n",
    "    df.dropna(inplace=True)\n",
    "    # change  total_charges from a string to a float so it can be calculated\n",
    "    df.total_charges = df.total_charges.astype('float')\n",
    "    \n",
    "    # drop uneccessary columns\n",
    "    df = df.drop(columns=['streaming_movies', 'streaming_tv', 'multiple_lines', 'gender',\n",
    "                         'contract_type_id', 'internet_service_type_id', 'payment_type_id'])\n",
    "    \n",
    "    # rename the tenure column\n",
    "    df = df.rename(columns={'tenure': 'tenure_in_months'})\n",
    "\n",
    "    # changing yes and no's to 1 and 0\n",
    "    columns = ['partner', 'dependents', 'phone_service', 'online_security', 'online_backup', \n",
    "               'device_protection', 'tech_support', 'paperless_billing', 'churn']\n",
    "\n",
    "    for cols in columns:\n",
    "        df[cols] = np.where(df[cols] == 'Yes', 1, 0)\n",
    "\n",
    "    return df\n",
    "\n",
    "\n",
    "\n",
    "def create_dummies(df):\n",
    "    '''\n",
    "    Creating dummy columns for non-binary ones\n",
    "    '''\n",
    "    \n",
    "    #payment_type, internet_service_type, and contract_type\n",
    "    payment_dummies = pd.get_dummies(df.payment_type, drop_first=True)\n",
    "    internet_dummies = pd.get_dummies(df.internet_service_type, drop_first=False)\n",
    "    contract_dummies = pd.get_dummies(df.contract_type, drop_first=True)\n",
    "    \n",
    "    #  concatenate the two dataframes\n",
    "    df = pd.concat([df, payment_dummies, internet_dummies, contract_dummies], axis=1)\n",
    "    \n",
    "    # dropping the new duplicates\n",
    "    df = df.drop(columns=['None', 'payment_type', 'contract_type', 'internet_service_type'])\n",
    "    \n",
    "    return df\n",
    "\n",
    "\n",
    "def telco_split(df):\n",
    "    '''\n",
    "    Splits it into train, test, and validate dataframes for my model\n",
    "    '''\n",
    "\n",
    "    train_validate, test = train_test_split(df, test_size=.2, \n",
    "                                        random_state=123)\n",
    "    train, validate = train_test_split(train_validate, test_size=.3, \n",
    "                                   random_state=123)\n",
    "    return train, validate, test"
   ]
  },
  {
   "cell_type": "code",
   "execution_count": 13,
   "id": "89b5461b",
   "metadata": {},
   "outputs": [],
   "source": [
    "df = prepare.prep_telco_data(df)"
   ]
  },
  {
   "cell_type": "code",
   "execution_count": 14,
   "id": "456c8749",
   "metadata": {},
   "outputs": [
    {
     "data": {
      "text/html": [
       "<div>\n",
       "<style scoped>\n",
       "    .dataframe tbody tr th:only-of-type {\n",
       "        vertical-align: middle;\n",
       "    }\n",
       "\n",
       "    .dataframe tbody tr th {\n",
       "        vertical-align: top;\n",
       "    }\n",
       "\n",
       "    .dataframe thead th {\n",
       "        text-align: right;\n",
       "    }\n",
       "</style>\n",
       "<table border=\"1\" class=\"dataframe\">\n",
       "  <thead>\n",
       "    <tr style=\"text-align: right;\">\n",
       "      <th></th>\n",
       "      <th>6690</th>\n",
       "    </tr>\n",
       "  </thead>\n",
       "  <tbody>\n",
       "    <tr>\n",
       "      <th>payment_type</th>\n",
       "      <td>Bank transfer (automatic)</td>\n",
       "    </tr>\n",
       "    <tr>\n",
       "      <th>customer_id</th>\n",
       "      <td>4835-YSJMR</td>\n",
       "    </tr>\n",
       "    <tr>\n",
       "      <th>senior_citizen</th>\n",
       "      <td>0</td>\n",
       "    </tr>\n",
       "    <tr>\n",
       "      <th>partner</th>\n",
       "      <td>0</td>\n",
       "    </tr>\n",
       "    <tr>\n",
       "      <th>dependents</th>\n",
       "      <td>0</td>\n",
       "    </tr>\n",
       "    <tr>\n",
       "      <th>tenure_in_months</th>\n",
       "      <td>39</td>\n",
       "    </tr>\n",
       "    <tr>\n",
       "      <th>phone_service</th>\n",
       "      <td>1</td>\n",
       "    </tr>\n",
       "    <tr>\n",
       "      <th>online_security</th>\n",
       "      <td>0</td>\n",
       "    </tr>\n",
       "    <tr>\n",
       "      <th>online_backup</th>\n",
       "      <td>0</td>\n",
       "    </tr>\n",
       "    <tr>\n",
       "      <th>device_protection</th>\n",
       "      <td>0</td>\n",
       "    </tr>\n",
       "    <tr>\n",
       "      <th>tech_support</th>\n",
       "      <td>1</td>\n",
       "    </tr>\n",
       "    <tr>\n",
       "      <th>paperless_billing</th>\n",
       "      <td>1</td>\n",
       "    </tr>\n",
       "    <tr>\n",
       "      <th>monthly_charges</th>\n",
       "      <td>49.8</td>\n",
       "    </tr>\n",
       "    <tr>\n",
       "      <th>total_charges</th>\n",
       "      <td>1971.15</td>\n",
       "    </tr>\n",
       "    <tr>\n",
       "      <th>churn</th>\n",
       "      <td>0</td>\n",
       "    </tr>\n",
       "    <tr>\n",
       "      <th>internet_service_type</th>\n",
       "      <td>DSL</td>\n",
       "    </tr>\n",
       "    <tr>\n",
       "      <th>contract_type</th>\n",
       "      <td>Two year</td>\n",
       "    </tr>\n",
       "  </tbody>\n",
       "</table>\n",
       "</div>"
      ],
      "text/plain": [
       "                                            6690\n",
       "payment_type           Bank transfer (automatic)\n",
       "customer_id                           4835-YSJMR\n",
       "senior_citizen                                 0\n",
       "partner                                        0\n",
       "dependents                                     0\n",
       "tenure_in_months                              39\n",
       "phone_service                                  1\n",
       "online_security                                0\n",
       "online_backup                                  0\n",
       "device_protection                              0\n",
       "tech_support                                   1\n",
       "paperless_billing                              1\n",
       "monthly_charges                             49.8\n",
       "total_charges                            1971.15\n",
       "churn                                          0\n",
       "internet_service_type                        DSL\n",
       "contract_type                           Two year"
      ]
     },
     "execution_count": 14,
     "metadata": {},
     "output_type": "execute_result"
    }
   ],
   "source": [
    "df.sample().T"
   ]
  },
  {
   "cell_type": "code",
   "execution_count": 15,
   "id": "ce5aba75",
   "metadata": {},
   "outputs": [
    {
     "data": {
      "image/png": "[encoded data removed]",
      "text/plain": [
       "<Figure size 1152x648 with 2 Axes>"
      ]
     },
     "metadata": {
      "needs_background": "light"
     },
     "output_type": "display_data"
    }
   ],
   "source": [
    "plt.figure(figsize=(16, 9))\n",
    "sns.heatmap(((df.corr())), cmap='YlGnBu', center=0, annot=True)\n",
    "\n",
    "plt.title('')\n",
    "plt.show()"
   ]
  },
  {
   "cell_type": "code",
   "execution_count": 16,
   "id": "0835150c",
   "metadata": {},
   "outputs": [
    {
     "data": {
      "text/html": [
       "<div>\n",
       "<style scoped>\n",
       "    .dataframe tbody tr th:only-of-type {\n",
       "        vertical-align: middle;\n",
       "    }\n",
       "\n",
       "    .dataframe tbody tr th {\n",
       "        vertical-align: top;\n",
       "    }\n",
       "\n",
       "    .dataframe thead th {\n",
       "        text-align: right;\n",
       "    }\n",
       "</style>\n",
       "<table border=\"1\" class=\"dataframe\">\n",
       "  <thead>\n",
       "    <tr style=\"text-align: right;\">\n",
       "      <th></th>\n",
       "      <th>senior_citizen</th>\n",
       "      <th>partner</th>\n",
       "      <th>dependents</th>\n",
       "      <th>tenure_in_months</th>\n",
       "      <th>phone_service</th>\n",
       "      <th>online_security</th>\n",
       "      <th>online_backup</th>\n",
       "      <th>device_protection</th>\n",
       "      <th>tech_support</th>\n",
       "      <th>paperless_billing</th>\n",
       "      <th>monthly_charges</th>\n",
       "      <th>total_charges</th>\n",
       "      <th>churn</th>\n",
       "    </tr>\n",
       "  </thead>\n",
       "  <tbody>\n",
       "    <tr>\n",
       "      <th>senior_citizen</th>\n",
       "      <td>1.000000</td>\n",
       "      <td>0.016957</td>\n",
       "      <td>-0.210550</td>\n",
       "      <td>0.015683</td>\n",
       "      <td>0.008392</td>\n",
       "      <td>-0.038576</td>\n",
       "      <td>0.066663</td>\n",
       "      <td>0.059514</td>\n",
       "      <td>-0.060577</td>\n",
       "      <td>0.156258</td>\n",
       "      <td>0.219874</td>\n",
       "      <td>0.102411</td>\n",
       "      <td>0.150541</td>\n",
       "    </tr>\n",
       "    <tr>\n",
       "      <th>partner</th>\n",
       "      <td>0.016957</td>\n",
       "      <td>1.000000</td>\n",
       "      <td>0.452269</td>\n",
       "      <td>0.381912</td>\n",
       "      <td>0.018397</td>\n",
       "      <td>0.143346</td>\n",
       "      <td>0.141849</td>\n",
       "      <td>0.153556</td>\n",
       "      <td>0.120206</td>\n",
       "      <td>-0.013957</td>\n",
       "      <td>0.097825</td>\n",
       "      <td>0.319072</td>\n",
       "      <td>-0.149982</td>\n",
       "    </tr>\n",
       "    <tr>\n",
       "      <th>dependents</th>\n",
       "      <td>-0.210550</td>\n",
       "      <td>0.452269</td>\n",
       "      <td>1.000000</td>\n",
       "      <td>0.163386</td>\n",
       "      <td>-0.001078</td>\n",
       "      <td>0.080786</td>\n",
       "      <td>0.023639</td>\n",
       "      <td>0.013900</td>\n",
       "      <td>0.063053</td>\n",
       "      <td>-0.110131</td>\n",
       "      <td>-0.112343</td>\n",
       "      <td>0.064653</td>\n",
       "      <td>-0.163128</td>\n",
       "    </tr>\n",
       "    <tr>\n",
       "      <th>tenure_in_months</th>\n",
       "      <td>0.015683</td>\n",
       "      <td>0.381912</td>\n",
       "      <td>0.163386</td>\n",
       "      <td>1.000000</td>\n",
       "      <td>0.007877</td>\n",
       "      <td>0.328297</td>\n",
       "      <td>0.361138</td>\n",
       "      <td>0.361520</td>\n",
       "      <td>0.325288</td>\n",
       "      <td>0.004823</td>\n",
       "      <td>0.246862</td>\n",
       "      <td>0.825880</td>\n",
       "      <td>-0.354049</td>\n",
       "    </tr>\n",
       "    <tr>\n",
       "      <th>phone_service</th>\n",
       "      <td>0.008392</td>\n",
       "      <td>0.018397</td>\n",
       "      <td>-0.001078</td>\n",
       "      <td>0.007877</td>\n",
       "      <td>1.000000</td>\n",
       "      <td>-0.091676</td>\n",
       "      <td>-0.052133</td>\n",
       "      <td>-0.070076</td>\n",
       "      <td>-0.095138</td>\n",
       "      <td>0.016696</td>\n",
       "      <td>0.248033</td>\n",
       "      <td>0.113008</td>\n",
       "      <td>0.011691</td>\n",
       "    </tr>\n",
       "    <tr>\n",
       "      <th>online_security</th>\n",
       "      <td>-0.038576</td>\n",
       "      <td>0.143346</td>\n",
       "      <td>0.080786</td>\n",
       "      <td>0.328297</td>\n",
       "      <td>-0.091676</td>\n",
       "      <td>1.000000</td>\n",
       "      <td>0.283285</td>\n",
       "      <td>0.274875</td>\n",
       "      <td>0.354458</td>\n",
       "      <td>-0.004051</td>\n",
       "      <td>0.296447</td>\n",
       "      <td>0.412619</td>\n",
       "      <td>-0.171270</td>\n",
       "    </tr>\n",
       "    <tr>\n",
       "      <th>online_backup</th>\n",
       "      <td>0.066663</td>\n",
       "      <td>0.141849</td>\n",
       "      <td>0.023639</td>\n",
       "      <td>0.361138</td>\n",
       "      <td>-0.052133</td>\n",
       "      <td>0.283285</td>\n",
       "      <td>1.000000</td>\n",
       "      <td>0.303058</td>\n",
       "      <td>0.293705</td>\n",
       "      <td>0.127056</td>\n",
       "      <td>0.441529</td>\n",
       "      <td>0.510100</td>\n",
       "      <td>-0.082307</td>\n",
       "    </tr>\n",
       "    <tr>\n",
       "      <th>device_protection</th>\n",
       "      <td>0.059514</td>\n",
       "      <td>0.153556</td>\n",
       "      <td>0.013900</td>\n",
       "      <td>0.361520</td>\n",
       "      <td>-0.070076</td>\n",
       "      <td>0.274875</td>\n",
       "      <td>0.303058</td>\n",
       "      <td>1.000000</td>\n",
       "      <td>0.332850</td>\n",
       "      <td>0.104079</td>\n",
       "      <td>0.482607</td>\n",
       "      <td>0.522881</td>\n",
       "      <td>-0.066193</td>\n",
       "    </tr>\n",
       "    <tr>\n",
       "      <th>tech_support</th>\n",
       "      <td>-0.060577</td>\n",
       "      <td>0.120206</td>\n",
       "      <td>0.063053</td>\n",
       "      <td>0.325288</td>\n",
       "      <td>-0.095138</td>\n",
       "      <td>0.354458</td>\n",
       "      <td>0.293705</td>\n",
       "      <td>0.332850</td>\n",
       "      <td>1.000000</td>\n",
       "      <td>0.037536</td>\n",
       "      <td>0.338301</td>\n",
       "      <td>0.432868</td>\n",
       "      <td>-0.164716</td>\n",
       "    </tr>\n",
       "    <tr>\n",
       "      <th>paperless_billing</th>\n",
       "      <td>0.156258</td>\n",
       "      <td>-0.013957</td>\n",
       "      <td>-0.110131</td>\n",
       "      <td>0.004823</td>\n",
       "      <td>0.016696</td>\n",
       "      <td>-0.004051</td>\n",
       "      <td>0.127056</td>\n",
       "      <td>0.104079</td>\n",
       "      <td>0.037536</td>\n",
       "      <td>1.000000</td>\n",
       "      <td>0.351930</td>\n",
       "      <td>0.157830</td>\n",
       "      <td>0.191454</td>\n",
       "    </tr>\n",
       "    <tr>\n",
       "      <th>monthly_charges</th>\n",
       "      <td>0.219874</td>\n",
       "      <td>0.097825</td>\n",
       "      <td>-0.112343</td>\n",
       "      <td>0.246862</td>\n",
       "      <td>0.248033</td>\n",
       "      <td>0.296447</td>\n",
       "      <td>0.441529</td>\n",
       "      <td>0.482607</td>\n",
       "      <td>0.338301</td>\n",
       "      <td>0.351930</td>\n",
       "      <td>1.000000</td>\n",
       "      <td>0.651065</td>\n",
       "      <td>0.192858</td>\n",
       "    </tr>\n",
       "    <tr>\n",
       "      <th>total_charges</th>\n",
       "      <td>0.102411</td>\n",
       "      <td>0.319072</td>\n",
       "      <td>0.064653</td>\n",
       "      <td>0.825880</td>\n",
       "      <td>0.113008</td>\n",
       "      <td>0.412619</td>\n",
       "      <td>0.510100</td>\n",
       "      <td>0.522881</td>\n",
       "      <td>0.432868</td>\n",
       "      <td>0.157830</td>\n",
       "      <td>0.651065</td>\n",
       "      <td>1.000000</td>\n",
       "      <td>-0.199484</td>\n",
       "    </tr>\n",
       "    <tr>\n",
       "      <th>churn</th>\n",
       "      <td>0.150541</td>\n",
       "      <td>-0.149982</td>\n",
       "      <td>-0.163128</td>\n",
       "      <td>-0.354049</td>\n",
       "      <td>0.011691</td>\n",
       "      <td>-0.171270</td>\n",
       "      <td>-0.082307</td>\n",
       "      <td>-0.066193</td>\n",
       "      <td>-0.164716</td>\n",
       "      <td>0.191454</td>\n",
       "      <td>0.192858</td>\n",
       "      <td>-0.199484</td>\n",
       "      <td>1.000000</td>\n",
       "    </tr>\n",
       "  </tbody>\n",
       "</table>\n",
       "</div>"
      ],
      "text/plain": [
       "                   senior_citizen   partner  dependents  tenure_in_months  \\\n",
       "senior_citizen           1.000000  0.016957   -0.210550          0.015683   \n",
       "partner                  0.016957  1.000000    0.452269          0.381912   \n",
       "dependents              -0.210550  0.452269    1.000000          0.163386   \n",
       "tenure_in_months         0.015683  0.381912    0.163386          1.000000   \n",
       "phone_service            0.008392  0.018397   -0.001078          0.007877   \n",
       "online_security         -0.038576  0.143346    0.080786          0.328297   \n",
       "online_backup            0.066663  0.141849    0.023639          0.361138   \n",
       "device_protection        0.059514  0.153556    0.013900          0.361520   \n",
       "tech_support            -0.060577  0.120206    0.063053          0.325288   \n",
       "paperless_billing        0.156258 -0.013957   -0.110131          0.004823   \n",
       "monthly_charges          0.219874  0.097825   -0.112343          0.246862   \n",
       "total_charges            0.102411  0.319072    0.064653          0.825880   \n",
       "churn                    0.150541 -0.149982   -0.163128         -0.354049   \n",
       "\n",
       "                   phone_service  online_security  online_backup  \\\n",
       "senior_citizen          0.008392        -0.038576       0.066663   \n",
       "partner                 0.018397         0.143346       0.141849   \n",
       "dependents             -0.001078         0.080786       0.023639   \n",
       "tenure_in_months        0.007877         0.328297       0.361138   \n",
       "phone_service           1.000000        -0.091676      -0.052133   \n",
       "online_security        -0.091676         1.000000       0.283285   \n",
       "online_backup          -0.052133         0.283285       1.000000   \n",
       "device_protection      -0.070076         0.274875       0.303058   \n",
       "tech_support           -0.095138         0.354458       0.293705   \n",
       "paperless_billing       0.016696        -0.004051       0.127056   \n",
       "monthly_charges         0.248033         0.296447       0.441529   \n",
       "total_charges           0.113008         0.412619       0.510100   \n",
       "churn                   0.011691        -0.171270      -0.082307   \n",
       "\n",
       "                   device_protection  tech_support  paperless_billing  \\\n",
       "senior_citizen              0.059514     -0.060577           0.156258   \n",
       "partner                     0.153556      0.120206          -0.013957   \n",
       "dependents                  0.013900      0.063053          -0.110131   \n",
       "tenure_in_months            0.361520      0.325288           0.004823   \n",
       "phone_service              -0.070076     -0.095138           0.016696   \n",
       "online_security             0.274875      0.354458          -0.004051   \n",
       "online_backup               0.303058      0.293705           0.127056   \n",
       "device_protection           1.000000      0.332850           0.104079   \n",
       "tech_support                0.332850      1.000000           0.037536   \n",
       "paperless_billing           0.104079      0.037536           1.000000   \n",
       "monthly_charges             0.482607      0.338301           0.351930   \n",
       "total_charges               0.522881      0.432868           0.157830   \n",
       "churn                      -0.066193     -0.164716           0.191454   \n",
       "\n",
       "                   monthly_charges  total_charges     churn  \n",
       "senior_citizen            0.219874       0.102411  0.150541  \n",
       "partner                   0.097825       0.319072 -0.149982  \n",
       "dependents               -0.112343       0.064653 -0.163128  \n",
       "tenure_in_months          0.246862       0.825880 -0.354049  \n",
       "phone_service             0.248033       0.113008  0.011691  \n",
       "online_security           0.296447       0.412619 -0.171270  \n",
       "online_backup             0.441529       0.510100 -0.082307  \n",
       "device_protection         0.482607       0.522881 -0.066193  \n",
       "tech_support              0.338301       0.432868 -0.164716  \n",
       "paperless_billing         0.351930       0.157830  0.191454  \n",
       "monthly_charges           1.000000       0.651065  0.192858  \n",
       "total_charges             0.651065       1.000000 -0.199484  \n",
       "churn                     0.192858      -0.199484  1.000000  "
      ]
     },
     "execution_count": 16,
     "metadata": {},
     "output_type": "execute_result"
    }
   ],
   "source": [
    "correl = df.corr()\n",
    "correl.T"
   ]
  },
  {
   "cell_type": "code",
   "execution_count": 87,
   "id": "b5f37a77",
   "metadata": {},
   "outputs": [
    {
     "data": {
      "text/plain": [
       "Text(0.5, 1.0, 'Columns effecting churn')"
      ]
     },
     "execution_count": 87,
     "metadata": {},
     "output_type": "execute_result"
    },
    {
     "data": {
      "image/png": "[encoded data removed]",
      "text/plain": [
       "<Figure size 576x864 with 2 Axes>"
      ]
     },
     "metadata": {
      "needs_background": "light"
     },
     "output_type": "display_data"
    }
   ],
   "source": [
    "plt.figure(figsize=(8,12))\n",
    "churn_heatmap = sns.heatmap(df.corr()[['churn']].sort_values(by='churn', ascending=False), cmap='YlGnBu', vmin=-.5, vmax=.5, annot=True)\n",
    "churn_heatmap.set_title('Columns effecting churn')"
   ]
  },
  {
   "cell_type": "code",
   "execution_count": 18,
   "id": "238540bc",
   "metadata": {},
   "outputs": [
    {
     "data": {
      "text/html": [
       "<div>\n",
       "<style scoped>\n",
       "    .dataframe tbody tr th:only-of-type {\n",
       "        vertical-align: middle;\n",
       "    }\n",
       "\n",
       "    .dataframe tbody tr th {\n",
       "        vertical-align: top;\n",
       "    }\n",
       "\n",
       "    .dataframe thead th {\n",
       "        text-align: right;\n",
       "    }\n",
       "</style>\n",
       "<table border=\"1\" class=\"dataframe\">\n",
       "  <thead>\n",
       "    <tr style=\"text-align: right;\">\n",
       "      <th></th>\n",
       "      <th>4605</th>\n",
       "      <th>2642</th>\n",
       "      <th>2903</th>\n",
       "    </tr>\n",
       "  </thead>\n",
       "  <tbody>\n",
       "    <tr>\n",
       "      <th>payment_type</th>\n",
       "      <td>Electronic check</td>\n",
       "      <td>Electronic check</td>\n",
       "      <td>Credit card (automatic)</td>\n",
       "    </tr>\n",
       "    <tr>\n",
       "      <th>customer_id</th>\n",
       "      <td>6664-FPDAC</td>\n",
       "      <td>9944-HKVVB</td>\n",
       "      <td>2187-LZGPL</td>\n",
       "    </tr>\n",
       "    <tr>\n",
       "      <th>senior_citizen</th>\n",
       "      <td>1</td>\n",
       "      <td>0</td>\n",
       "      <td>0</td>\n",
       "    </tr>\n",
       "    <tr>\n",
       "      <th>partner</th>\n",
       "      <td>0</td>\n",
       "      <td>0</td>\n",
       "      <td>0</td>\n",
       "    </tr>\n",
       "    <tr>\n",
       "      <th>dependents</th>\n",
       "      <td>0</td>\n",
       "      <td>0</td>\n",
       "      <td>0</td>\n",
       "    </tr>\n",
       "    <tr>\n",
       "      <th>tenure_in_months</th>\n",
       "      <td>56</td>\n",
       "      <td>3</td>\n",
       "      <td>7</td>\n",
       "    </tr>\n",
       "    <tr>\n",
       "      <th>phone_service</th>\n",
       "      <td>1</td>\n",
       "      <td>1</td>\n",
       "      <td>0</td>\n",
       "    </tr>\n",
       "    <tr>\n",
       "      <th>online_security</th>\n",
       "      <td>0</td>\n",
       "      <td>0</td>\n",
       "      <td>0</td>\n",
       "    </tr>\n",
       "    <tr>\n",
       "      <th>online_backup</th>\n",
       "      <td>1</td>\n",
       "      <td>1</td>\n",
       "      <td>1</td>\n",
       "    </tr>\n",
       "    <tr>\n",
       "      <th>device_protection</th>\n",
       "      <td>1</td>\n",
       "      <td>0</td>\n",
       "      <td>0</td>\n",
       "    </tr>\n",
       "    <tr>\n",
       "      <th>tech_support</th>\n",
       "      <td>1</td>\n",
       "      <td>0</td>\n",
       "      <td>0</td>\n",
       "    </tr>\n",
       "    <tr>\n",
       "      <th>paperless_billing</th>\n",
       "      <td>1</td>\n",
       "      <td>1</td>\n",
       "      <td>1</td>\n",
       "    </tr>\n",
       "    <tr>\n",
       "      <th>monthly_charges</th>\n",
       "      <td>111.95</td>\n",
       "      <td>95.1</td>\n",
       "      <td>40.1</td>\n",
       "    </tr>\n",
       "    <tr>\n",
       "      <th>total_charges</th>\n",
       "      <td>6418.9</td>\n",
       "      <td>307.4</td>\n",
       "      <td>293.3</td>\n",
       "    </tr>\n",
       "    <tr>\n",
       "      <th>churn</th>\n",
       "      <td>1</td>\n",
       "      <td>1</td>\n",
       "      <td>1</td>\n",
       "    </tr>\n",
       "    <tr>\n",
       "      <th>internet_service_type</th>\n",
       "      <td>Fiber optic</td>\n",
       "      <td>Fiber optic</td>\n",
       "      <td>DSL</td>\n",
       "    </tr>\n",
       "    <tr>\n",
       "      <th>contract_type</th>\n",
       "      <td>One year</td>\n",
       "      <td>Month-to-month</td>\n",
       "      <td>Month-to-month</td>\n",
       "    </tr>\n",
       "  </tbody>\n",
       "</table>\n",
       "</div>"
      ],
      "text/plain": [
       "                                   4605              2642  \\\n",
       "payment_type           Electronic check  Electronic check   \n",
       "customer_id                  6664-FPDAC        9944-HKVVB   \n",
       "senior_citizen                        1                 0   \n",
       "partner                               0                 0   \n",
       "dependents                            0                 0   \n",
       "tenure_in_months                     56                 3   \n",
       "phone_service                         1                 1   \n",
       "online_security                       0                 0   \n",
       "online_backup                         1                 1   \n",
       "device_protection                     1                 0   \n",
       "tech_support                          1                 0   \n",
       "paperless_billing                     1                 1   \n",
       "monthly_charges                  111.95              95.1   \n",
       "total_charges                    6418.9             307.4   \n",
       "churn                                 1                 1   \n",
       "internet_service_type       Fiber optic       Fiber optic   \n",
       "contract_type                  One year    Month-to-month   \n",
       "\n",
       "                                          2903  \n",
       "payment_type           Credit card (automatic)  \n",
       "customer_id                         2187-LZGPL  \n",
       "senior_citizen                               0  \n",
       "partner                                      0  \n",
       "dependents                                   0  \n",
       "tenure_in_months                             7  \n",
       "phone_service                                0  \n",
       "online_security                              0  \n",
       "online_backup                                1  \n",
       "device_protection                            0  \n",
       "tech_support                                 0  \n",
       "paperless_billing                            1  \n",
       "monthly_charges                           40.1  \n",
       "total_charges                            293.3  \n",
       "churn                                        1  \n",
       "internet_service_type                      DSL  \n",
       "contract_type                   Month-to-month  "
      ]
     },
     "execution_count": 18,
     "metadata": {},
     "output_type": "execute_result"
    }
   ],
   "source": [
    "churned_df = df[df['churn']==1]\n",
    "churned_df.sample(3).T"
   ]
  },
  {
   "cell_type": "code",
   "execution_count": 19,
   "id": "f1b7b4fa",
   "metadata": {},
   "outputs": [
    {
     "data": {
      "text/html": [
       "<div>\n",
       "<style scoped>\n",
       "    .dataframe tbody tr th:only-of-type {\n",
       "        vertical-align: middle;\n",
       "    }\n",
       "\n",
       "    .dataframe tbody tr th {\n",
       "        vertical-align: top;\n",
       "    }\n",
       "\n",
       "    .dataframe thead th {\n",
       "        text-align: right;\n",
       "    }\n",
       "</style>\n",
       "<table border=\"1\" class=\"dataframe\">\n",
       "  <thead>\n",
       "    <tr style=\"text-align: right;\">\n",
       "      <th></th>\n",
       "      <th>1119</th>\n",
       "    </tr>\n",
       "  </thead>\n",
       "  <tbody>\n",
       "    <tr>\n",
       "      <th>payment_type</th>\n",
       "      <td>Electronic check</td>\n",
       "    </tr>\n",
       "    <tr>\n",
       "      <th>customer_id</th>\n",
       "      <td>2845-AFFTX</td>\n",
       "    </tr>\n",
       "    <tr>\n",
       "      <th>senior_citizen</th>\n",
       "      <td>1</td>\n",
       "    </tr>\n",
       "    <tr>\n",
       "      <th>partner</th>\n",
       "      <td>1</td>\n",
       "    </tr>\n",
       "    <tr>\n",
       "      <th>dependents</th>\n",
       "      <td>0</td>\n",
       "    </tr>\n",
       "    <tr>\n",
       "      <th>tenure_in_months</th>\n",
       "      <td>41</td>\n",
       "    </tr>\n",
       "    <tr>\n",
       "      <th>phone_service</th>\n",
       "      <td>1</td>\n",
       "    </tr>\n",
       "    <tr>\n",
       "      <th>online_security</th>\n",
       "      <td>0</td>\n",
       "    </tr>\n",
       "    <tr>\n",
       "      <th>online_backup</th>\n",
       "      <td>0</td>\n",
       "    </tr>\n",
       "    <tr>\n",
       "      <th>device_protection</th>\n",
       "      <td>1</td>\n",
       "    </tr>\n",
       "    <tr>\n",
       "      <th>tech_support</th>\n",
       "      <td>0</td>\n",
       "    </tr>\n",
       "    <tr>\n",
       "      <th>paperless_billing</th>\n",
       "      <td>1</td>\n",
       "    </tr>\n",
       "    <tr>\n",
       "      <th>monthly_charges</th>\n",
       "      <td>99.8</td>\n",
       "    </tr>\n",
       "    <tr>\n",
       "      <th>total_charges</th>\n",
       "      <td>4259.3</td>\n",
       "    </tr>\n",
       "    <tr>\n",
       "      <th>churn</th>\n",
       "      <td>1</td>\n",
       "    </tr>\n",
       "    <tr>\n",
       "      <th>internet_service_type</th>\n",
       "      <td>Fiber optic</td>\n",
       "    </tr>\n",
       "    <tr>\n",
       "      <th>contract_type</th>\n",
       "      <td>Month-to-month</td>\n",
       "    </tr>\n",
       "  </tbody>\n",
       "</table>\n",
       "</div>"
      ],
      "text/plain": [
       "                                   1119\n",
       "payment_type           Electronic check\n",
       "customer_id                  2845-AFFTX\n",
       "senior_citizen                        1\n",
       "partner                               1\n",
       "dependents                            0\n",
       "tenure_in_months                     41\n",
       "phone_service                         1\n",
       "online_security                       0\n",
       "online_backup                         0\n",
       "device_protection                     1\n",
       "tech_support                          0\n",
       "paperless_billing                     1\n",
       "monthly_charges                    99.8\n",
       "total_charges                    4259.3\n",
       "churn                                 1\n",
       "internet_service_type       Fiber optic\n",
       "contract_type            Month-to-month"
      ]
     },
     "execution_count": 19,
     "metadata": {},
     "output_type": "execute_result"
    }
   ],
   "source": [
    "churned_df.sample().T"
   ]
  },
  {
   "cell_type": "markdown",
   "id": "e6ad221f",
   "metadata": {},
   "source": [
    "EXPLORE"
   ]
  },
  {
   "cell_type": "code",
   "execution_count": 20,
   "id": "60b1cd01",
   "metadata": {},
   "outputs": [
    {
     "data": {
      "text/plain": [
       "(64.79820819112616, 74.44133226324224)"
      ]
     },
     "execution_count": 20,
     "metadata": {},
     "output_type": "execute_result"
    }
   ],
   "source": [
    "#  Do monthly charges cause churn\n",
    "df.monthly_charges.mean(), churned_df.monthly_charges.mean()"
   ]
  },
  {
   "cell_type": "code",
   "execution_count": 21,
   "id": "a4fc4f88",
   "metadata": {
    "scrolled": true
   },
   "outputs": [
    {
     "data": {
      "text/plain": [
       "Text(0, 0.5, 'amount of customers')"
      ]
     },
     "execution_count": 21,
     "metadata": {},
     "output_type": "execute_result"
    },
    {
     "data": {
      "image/png": "[encoded data removed]",
      "text/plain": [
       "<Figure size 432x288 with 1 Axes>"
      ]
     },
     "metadata": {
      "needs_background": "light"
     },
     "output_type": "display_data"
    }
   ],
   "source": [
    "# churned customers pay the highest monthly fees\n",
    "df.monthly_charges.hist()\n",
    "churned_df.monthly_charges.hist()\n",
    "plt.xlabel('monthly cost')\n",
    "plt.ylabel('number of customers')"
   ]
  },
  {
   "cell_type": "code",
   "execution_count": 22,
   "id": "8ae77d0e",
   "metadata": {},
   "outputs": [
    {
     "data": {
      "text/plain": [
       "(2283.300440841863, 1531.7960941680042)"
      ]
     },
     "execution_count": 22,
     "metadata": {},
     "output_type": "execute_result"
    }
   ],
   "source": [
    "df.total_charges.mean(), churned_df.total_charges.mean()"
   ]
  },
  {
   "cell_type": "code",
   "execution_count": 23,
   "id": "e6e3f661",
   "metadata": {},
   "outputs": [
    {
     "data": {
      "text/plain": [
       "Text(0, 0.5, 'amount of customers')"
      ]
     },
     "execution_count": 23,
     "metadata": {},
     "output_type": "execute_result"
    },
    {
     "data": {
      "image/png": "[encoded data removed]",
      "text/plain": [
       "<Figure size 432x288 with 1 Axes>"
      ]
     },
     "metadata": {
      "needs_background": "light"
     },
     "output_type": "display_data"
    }
   ],
   "source": [
    "# comparing to total charges\n",
    "df.total_charges.hist()\n",
    "churned_df.total_charges.hist()\n",
    "plt.xlabel('total charges')\n",
    "plt.ylabel('amount of customers')"
   ]
  },
  {
   "cell_type": "code",
   "execution_count": 24,
   "id": "723deb4c",
   "metadata": {},
   "outputs": [
    {
     "data": {
      "text/plain": [
       "Text(0, 0.5, 'amount of customers')"
      ]
     },
     "execution_count": 24,
     "metadata": {},
     "output_type": "execute_result"
    },
    {
     "data": {
      "image/png": "[encoded data removed]",
      "text/plain": [
       "<Figure size 432x288 with 1 Axes>"
      ]
     },
     "metadata": {
      "needs_background": "light"
     },
     "output_type": "display_data"
    }
   ],
   "source": [
    "# comparing tenure\n",
    "df.tenure_in_months.hist()\n",
    "churned_df.tenure_in_months.hist()\n",
    "plt.xlabel('tenure (months)')\n",
    "plt.ylabel('amount of customers')"
   ]
  },
  {
   "cell_type": "code",
   "execution_count": 25,
   "id": "97b10dd2",
   "metadata": {},
   "outputs": [
    {
     "data": {
      "text/html": [
       "<div>\n",
       "<style scoped>\n",
       "    .dataframe tbody tr th:only-of-type {\n",
       "        vertical-align: middle;\n",
       "    }\n",
       "\n",
       "    .dataframe tbody tr th {\n",
       "        vertical-align: top;\n",
       "    }\n",
       "\n",
       "    .dataframe thead th {\n",
       "        text-align: right;\n",
       "    }\n",
       "</style>\n",
       "<table border=\"1\" class=\"dataframe\">\n",
       "  <thead>\n",
       "    <tr style=\"text-align: right;\">\n",
       "      <th></th>\n",
       "      <th>senior_citizen</th>\n",
       "      <th>partner</th>\n",
       "      <th>dependents</th>\n",
       "      <th>tenure_in_months</th>\n",
       "      <th>phone_service</th>\n",
       "      <th>online_security</th>\n",
       "      <th>online_backup</th>\n",
       "      <th>device_protection</th>\n",
       "      <th>tech_support</th>\n",
       "      <th>paperless_billing</th>\n",
       "      <th>monthly_charges</th>\n",
       "      <th>total_charges</th>\n",
       "      <th>churn</th>\n",
       "    </tr>\n",
       "  </thead>\n",
       "  <tbody>\n",
       "    <tr>\n",
       "      <th>senior_citizen</th>\n",
       "      <td>1.000000</td>\n",
       "      <td>0.016957</td>\n",
       "      <td>-0.210550</td>\n",
       "      <td>0.015683</td>\n",
       "      <td>0.008392</td>\n",
       "      <td>-0.038576</td>\n",
       "      <td>0.066663</td>\n",
       "      <td>0.059514</td>\n",
       "      <td>-0.060577</td>\n",
       "      <td>0.156258</td>\n",
       "      <td>0.219874</td>\n",
       "      <td>0.102411</td>\n",
       "      <td>0.150541</td>\n",
       "    </tr>\n",
       "    <tr>\n",
       "      <th>partner</th>\n",
       "      <td>0.016957</td>\n",
       "      <td>1.000000</td>\n",
       "      <td>0.452269</td>\n",
       "      <td>0.381912</td>\n",
       "      <td>0.018397</td>\n",
       "      <td>0.143346</td>\n",
       "      <td>0.141849</td>\n",
       "      <td>0.153556</td>\n",
       "      <td>0.120206</td>\n",
       "      <td>-0.013957</td>\n",
       "      <td>0.097825</td>\n",
       "      <td>0.319072</td>\n",
       "      <td>-0.149982</td>\n",
       "    </tr>\n",
       "    <tr>\n",
       "      <th>dependents</th>\n",
       "      <td>-0.210550</td>\n",
       "      <td>0.452269</td>\n",
       "      <td>1.000000</td>\n",
       "      <td>0.163386</td>\n",
       "      <td>-0.001078</td>\n",
       "      <td>0.080786</td>\n",
       "      <td>0.023639</td>\n",
       "      <td>0.013900</td>\n",
       "      <td>0.063053</td>\n",
       "      <td>-0.110131</td>\n",
       "      <td>-0.112343</td>\n",
       "      <td>0.064653</td>\n",
       "      <td>-0.163128</td>\n",
       "    </tr>\n",
       "    <tr>\n",
       "      <th>tenure_in_months</th>\n",
       "      <td>0.015683</td>\n",
       "      <td>0.381912</td>\n",
       "      <td>0.163386</td>\n",
       "      <td>1.000000</td>\n",
       "      <td>0.007877</td>\n",
       "      <td>0.328297</td>\n",
       "      <td>0.361138</td>\n",
       "      <td>0.361520</td>\n",
       "      <td>0.325288</td>\n",
       "      <td>0.004823</td>\n",
       "      <td>0.246862</td>\n",
       "      <td>0.825880</td>\n",
       "      <td>-0.354049</td>\n",
       "    </tr>\n",
       "    <tr>\n",
       "      <th>phone_service</th>\n",
       "      <td>0.008392</td>\n",
       "      <td>0.018397</td>\n",
       "      <td>-0.001078</td>\n",
       "      <td>0.007877</td>\n",
       "      <td>1.000000</td>\n",
       "      <td>-0.091676</td>\n",
       "      <td>-0.052133</td>\n",
       "      <td>-0.070076</td>\n",
       "      <td>-0.095138</td>\n",
       "      <td>0.016696</td>\n",
       "      <td>0.248033</td>\n",
       "      <td>0.113008</td>\n",
       "      <td>0.011691</td>\n",
       "    </tr>\n",
       "    <tr>\n",
       "      <th>online_security</th>\n",
       "      <td>-0.038576</td>\n",
       "      <td>0.143346</td>\n",
       "      <td>0.080786</td>\n",
       "      <td>0.328297</td>\n",
       "      <td>-0.091676</td>\n",
       "      <td>1.000000</td>\n",
       "      <td>0.283285</td>\n",
       "      <td>0.274875</td>\n",
       "      <td>0.354458</td>\n",
       "      <td>-0.004051</td>\n",
       "      <td>0.296447</td>\n",
       "      <td>0.412619</td>\n",
       "      <td>-0.171270</td>\n",
       "    </tr>\n",
       "    <tr>\n",
       "      <th>online_backup</th>\n",
       "      <td>0.066663</td>\n",
       "      <td>0.141849</td>\n",
       "      <td>0.023639</td>\n",
       "      <td>0.361138</td>\n",
       "      <td>-0.052133</td>\n",
       "      <td>0.283285</td>\n",
       "      <td>1.000000</td>\n",
       "      <td>0.303058</td>\n",
       "      <td>0.293705</td>\n",
       "      <td>0.127056</td>\n",
       "      <td>0.441529</td>\n",
       "      <td>0.510100</td>\n",
       "      <td>-0.082307</td>\n",
       "    </tr>\n",
       "    <tr>\n",
       "      <th>device_protection</th>\n",
       "      <td>0.059514</td>\n",
       "      <td>0.153556</td>\n",
       "      <td>0.013900</td>\n",
       "      <td>0.361520</td>\n",
       "      <td>-0.070076</td>\n",
       "      <td>0.274875</td>\n",
       "      <td>0.303058</td>\n",
       "      <td>1.000000</td>\n",
       "      <td>0.332850</td>\n",
       "      <td>0.104079</td>\n",
       "      <td>0.482607</td>\n",
       "      <td>0.522881</td>\n",
       "      <td>-0.066193</td>\n",
       "    </tr>\n",
       "    <tr>\n",
       "      <th>tech_support</th>\n",
       "      <td>-0.060577</td>\n",
       "      <td>0.120206</td>\n",
       "      <td>0.063053</td>\n",
       "      <td>0.325288</td>\n",
       "      <td>-0.095138</td>\n",
       "      <td>0.354458</td>\n",
       "      <td>0.293705</td>\n",
       "      <td>0.332850</td>\n",
       "      <td>1.000000</td>\n",
       "      <td>0.037536</td>\n",
       "      <td>0.338301</td>\n",
       "      <td>0.432868</td>\n",
       "      <td>-0.164716</td>\n",
       "    </tr>\n",
       "    <tr>\n",
       "      <th>paperless_billing</th>\n",
       "      <td>0.156258</td>\n",
       "      <td>-0.013957</td>\n",
       "      <td>-0.110131</td>\n",
       "      <td>0.004823</td>\n",
       "      <td>0.016696</td>\n",
       "      <td>-0.004051</td>\n",
       "      <td>0.127056</td>\n",
       "      <td>0.104079</td>\n",
       "      <td>0.037536</td>\n",
       "      <td>1.000000</td>\n",
       "      <td>0.351930</td>\n",
       "      <td>0.157830</td>\n",
       "      <td>0.191454</td>\n",
       "    </tr>\n",
       "    <tr>\n",
       "      <th>monthly_charges</th>\n",
       "      <td>0.219874</td>\n",
       "      <td>0.097825</td>\n",
       "      <td>-0.112343</td>\n",
       "      <td>0.246862</td>\n",
       "      <td>0.248033</td>\n",
       "      <td>0.296447</td>\n",
       "      <td>0.441529</td>\n",
       "      <td>0.482607</td>\n",
       "      <td>0.338301</td>\n",
       "      <td>0.351930</td>\n",
       "      <td>1.000000</td>\n",
       "      <td>0.651065</td>\n",
       "      <td>0.192858</td>\n",
       "    </tr>\n",
       "    <tr>\n",
       "      <th>total_charges</th>\n",
       "      <td>0.102411</td>\n",
       "      <td>0.319072</td>\n",
       "      <td>0.064653</td>\n",
       "      <td>0.825880</td>\n",
       "      <td>0.113008</td>\n",
       "      <td>0.412619</td>\n",
       "      <td>0.510100</td>\n",
       "      <td>0.522881</td>\n",
       "      <td>0.432868</td>\n",
       "      <td>0.157830</td>\n",
       "      <td>0.651065</td>\n",
       "      <td>1.000000</td>\n",
       "      <td>-0.199484</td>\n",
       "    </tr>\n",
       "    <tr>\n",
       "      <th>churn</th>\n",
       "      <td>0.150541</td>\n",
       "      <td>-0.149982</td>\n",
       "      <td>-0.163128</td>\n",
       "      <td>-0.354049</td>\n",
       "      <td>0.011691</td>\n",
       "      <td>-0.171270</td>\n",
       "      <td>-0.082307</td>\n",
       "      <td>-0.066193</td>\n",
       "      <td>-0.164716</td>\n",
       "      <td>0.191454</td>\n",
       "      <td>0.192858</td>\n",
       "      <td>-0.199484</td>\n",
       "      <td>1.000000</td>\n",
       "    </tr>\n",
       "  </tbody>\n",
       "</table>\n",
       "</div>"
      ],
      "text/plain": [
       "                   senior_citizen   partner  dependents  tenure_in_months  \\\n",
       "senior_citizen           1.000000  0.016957   -0.210550          0.015683   \n",
       "partner                  0.016957  1.000000    0.452269          0.381912   \n",
       "dependents              -0.210550  0.452269    1.000000          0.163386   \n",
       "tenure_in_months         0.015683  0.381912    0.163386          1.000000   \n",
       "phone_service            0.008392  0.018397   -0.001078          0.007877   \n",
       "online_security         -0.038576  0.143346    0.080786          0.328297   \n",
       "online_backup            0.066663  0.141849    0.023639          0.361138   \n",
       "device_protection        0.059514  0.153556    0.013900          0.361520   \n",
       "tech_support            -0.060577  0.120206    0.063053          0.325288   \n",
       "paperless_billing        0.156258 -0.013957   -0.110131          0.004823   \n",
       "monthly_charges          0.219874  0.097825   -0.112343          0.246862   \n",
       "total_charges            0.102411  0.319072    0.064653          0.825880   \n",
       "churn                    0.150541 -0.149982   -0.163128         -0.354049   \n",
       "\n",
       "                   phone_service  online_security  online_backup  \\\n",
       "senior_citizen          0.008392        -0.038576       0.066663   \n",
       "partner                 0.018397         0.143346       0.141849   \n",
       "dependents             -0.001078         0.080786       0.023639   \n",
       "tenure_in_months        0.007877         0.328297       0.361138   \n",
       "phone_service           1.000000        -0.091676      -0.052133   \n",
       "online_security        -0.091676         1.000000       0.283285   \n",
       "online_backup          -0.052133         0.283285       1.000000   \n",
       "device_protection      -0.070076         0.274875       0.303058   \n",
       "tech_support           -0.095138         0.354458       0.293705   \n",
       "paperless_billing       0.016696        -0.004051       0.127056   \n",
       "monthly_charges         0.248033         0.296447       0.441529   \n",
       "total_charges           0.113008         0.412619       0.510100   \n",
       "churn                   0.011691        -0.171270      -0.082307   \n",
       "\n",
       "                   device_protection  tech_support  paperless_billing  \\\n",
       "senior_citizen              0.059514     -0.060577           0.156258   \n",
       "partner                     0.153556      0.120206          -0.013957   \n",
       "dependents                  0.013900      0.063053          -0.110131   \n",
       "tenure_in_months            0.361520      0.325288           0.004823   \n",
       "phone_service              -0.070076     -0.095138           0.016696   \n",
       "online_security             0.274875      0.354458          -0.004051   \n",
       "online_backup               0.303058      0.293705           0.127056   \n",
       "device_protection           1.000000      0.332850           0.104079   \n",
       "tech_support                0.332850      1.000000           0.037536   \n",
       "paperless_billing           0.104079      0.037536           1.000000   \n",
       "monthly_charges             0.482607      0.338301           0.351930   \n",
       "total_charges               0.522881      0.432868           0.157830   \n",
       "churn                      -0.066193     -0.164716           0.191454   \n",
       "\n",
       "                   monthly_charges  total_charges     churn  \n",
       "senior_citizen            0.219874       0.102411  0.150541  \n",
       "partner                   0.097825       0.319072 -0.149982  \n",
       "dependents               -0.112343       0.064653 -0.163128  \n",
       "tenure_in_months          0.246862       0.825880 -0.354049  \n",
       "phone_service             0.248033       0.113008  0.011691  \n",
       "online_security           0.296447       0.412619 -0.171270  \n",
       "online_backup             0.441529       0.510100 -0.082307  \n",
       "device_protection         0.482607       0.522881 -0.066193  \n",
       "tech_support              0.338301       0.432868 -0.164716  \n",
       "paperless_billing         0.351930       0.157830  0.191454  \n",
       "monthly_charges           1.000000       0.651065  0.192858  \n",
       "total_charges             0.651065       1.000000 -0.199484  \n",
       "churn                     0.192858      -0.199484  1.000000  "
      ]
     },
     "execution_count": 25,
     "metadata": {},
     "output_type": "execute_result"
    }
   ],
   "source": [
    "correl = df.corr()\n",
    "correl.T"
   ]
  },
  {
   "cell_type": "code",
   "execution_count": 26,
   "id": "a58d11ec",
   "metadata": {},
   "outputs": [
    {
     "data": {
      "text/plain": [
       "Text(0.5, 1.0, 'Feautures  Correlating with Churn')"
      ]
     },
     "execution_count": 26,
     "metadata": {},
     "output_type": "execute_result"
    },
    {
     "data": {
      "image/png": "[encoded data removed]",
      "text/plain": [
       "<Figure size 576x864 with 2 Axes>"
      ]
     },
     "metadata": {
      "needs_background": "light"
     },
     "output_type": "display_data"
    }
   ],
   "source": [
    "plt.figure(figsize=(8,12))\n",
    "churn_heatmap = sns.heatmap(df.corr()[['churn']].sort_values(by='churn', ascending=False), cmap='YlGnBu', vmin=-.5, vmax=.5, annot=True)\n",
    "churn_heatmap.set_title('Feautures  Correlating with Churn')"
   ]
  },
  {
   "cell_type": "code",
   "execution_count": 27,
   "id": "5edc02c1",
   "metadata": {},
   "outputs": [
    {
     "data": {
      "text/html": [
       "<div>\n",
       "<style scoped>\n",
       "    .dataframe tbody tr th:only-of-type {\n",
       "        vertical-align: middle;\n",
       "    }\n",
       "\n",
       "    .dataframe tbody tr th {\n",
       "        vertical-align: top;\n",
       "    }\n",
       "\n",
       "    .dataframe thead th {\n",
       "        text-align: right;\n",
       "    }\n",
       "</style>\n",
       "<table border=\"1\" class=\"dataframe\">\n",
       "  <thead>\n",
       "    <tr style=\"text-align: right;\">\n",
       "      <th></th>\n",
       "      <th>2058</th>\n",
       "    </tr>\n",
       "  </thead>\n",
       "  <tbody>\n",
       "    <tr>\n",
       "      <th>payment_type</th>\n",
       "      <td>Electronic check</td>\n",
       "    </tr>\n",
       "    <tr>\n",
       "      <th>customer_id</th>\n",
       "      <td>7112-OPOTK</td>\n",
       "    </tr>\n",
       "    <tr>\n",
       "      <th>senior_citizen</th>\n",
       "      <td>0</td>\n",
       "    </tr>\n",
       "    <tr>\n",
       "      <th>partner</th>\n",
       "      <td>0</td>\n",
       "    </tr>\n",
       "    <tr>\n",
       "      <th>dependents</th>\n",
       "      <td>0</td>\n",
       "    </tr>\n",
       "    <tr>\n",
       "      <th>tenure_in_months</th>\n",
       "      <td>33</td>\n",
       "    </tr>\n",
       "    <tr>\n",
       "      <th>phone_service</th>\n",
       "      <td>1</td>\n",
       "    </tr>\n",
       "    <tr>\n",
       "      <th>online_security</th>\n",
       "      <td>0</td>\n",
       "    </tr>\n",
       "    <tr>\n",
       "      <th>online_backup</th>\n",
       "      <td>0</td>\n",
       "    </tr>\n",
       "    <tr>\n",
       "      <th>device_protection</th>\n",
       "      <td>0</td>\n",
       "    </tr>\n",
       "    <tr>\n",
       "      <th>tech_support</th>\n",
       "      <td>0</td>\n",
       "    </tr>\n",
       "    <tr>\n",
       "      <th>paperless_billing</th>\n",
       "      <td>0</td>\n",
       "    </tr>\n",
       "    <tr>\n",
       "      <th>monthly_charges</th>\n",
       "      <td>68.25</td>\n",
       "    </tr>\n",
       "    <tr>\n",
       "      <th>total_charges</th>\n",
       "      <td>2171.15</td>\n",
       "    </tr>\n",
       "    <tr>\n",
       "      <th>churn</th>\n",
       "      <td>1</td>\n",
       "    </tr>\n",
       "    <tr>\n",
       "      <th>internet_service_type</th>\n",
       "      <td>Fiber optic</td>\n",
       "    </tr>\n",
       "    <tr>\n",
       "      <th>contract_type</th>\n",
       "      <td>Month-to-month</td>\n",
       "    </tr>\n",
       "  </tbody>\n",
       "</table>\n",
       "</div>"
      ],
      "text/plain": [
       "                                   2058\n",
       "payment_type           Electronic check\n",
       "customer_id                  7112-OPOTK\n",
       "senior_citizen                        0\n",
       "partner                               0\n",
       "dependents                            0\n",
       "tenure_in_months                     33\n",
       "phone_service                         1\n",
       "online_security                       0\n",
       "online_backup                         0\n",
       "device_protection                     0\n",
       "tech_support                          0\n",
       "paperless_billing                     0\n",
       "monthly_charges                   68.25\n",
       "total_charges                   2171.15\n",
       "churn                                 1\n",
       "internet_service_type       Fiber optic\n",
       "contract_type            Month-to-month"
      ]
     },
     "execution_count": 27,
     "metadata": {},
     "output_type": "execute_result"
    }
   ],
   "source": [
    "churned_df.sample().T"
   ]
  },
  {
   "cell_type": "markdown",
   "id": "4aa93813",
   "metadata": {},
   "source": [
    "Columns that cause churn:\n",
    "payment_type\n",
    "internet_service_type\n",
    "dependents\n",
    "senior_citizen\n",
    "contract_type"
   ]
  },
  {
   "cell_type": "code",
   "execution_count": 28,
   "id": "ff4cb491",
   "metadata": {},
   "outputs": [],
   "source": [
    "#splitting the data\n",
    "train, validate, test = prepare.telco_split(df)"
   ]
  },
  {
   "cell_type": "code",
   "execution_count": 29,
   "id": "db06609d",
   "metadata": {},
   "outputs": [
    {
     "data": {
      "text/plain": [
       "((3937, 17), (1688, 17), (1407, 17))"
      ]
     },
     "execution_count": 29,
     "metadata": {},
     "output_type": "execute_result"
    }
   ],
   "source": [
    "train.shape, validate.shape, test.shape"
   ]
  },
  {
   "cell_type": "markdown",
   "id": "eed6d2a6",
   "metadata": {},
   "source": [
    "checking paperless biling and partners shows that paperless billing does not effect churn."
   ]
  },
  {
   "cell_type": "code",
   "execution_count": 30,
   "id": "6ed74272",
   "metadata": {},
   "outputs": [],
   "source": [
    "# set the alpha\n",
    "alpha = 0.05"
   ]
  },
  {
   "cell_type": "code",
   "execution_count": 31,
   "id": "1308f23d",
   "metadata": {},
   "outputs": [
    {
     "data": {
      "text/html": [
       "<div>\n",
       "<style scoped>\n",
       "    .dataframe tbody tr th:only-of-type {\n",
       "        vertical-align: middle;\n",
       "    }\n",
       "\n",
       "    .dataframe tbody tr th {\n",
       "        vertical-align: top;\n",
       "    }\n",
       "\n",
       "    .dataframe thead th {\n",
       "        text-align: right;\n",
       "    }\n",
       "</style>\n",
       "<table border=\"1\" class=\"dataframe\">\n",
       "  <thead>\n",
       "    <tr style=\"text-align: right;\">\n",
       "      <th></th>\n",
       "      <th>5399</th>\n",
       "      <th>2876</th>\n",
       "      <th>659</th>\n",
       "      <th>5843</th>\n",
       "      <th>2229</th>\n",
       "    </tr>\n",
       "  </thead>\n",
       "  <tbody>\n",
       "    <tr>\n",
       "      <th>payment_type</th>\n",
       "      <td>Mailed check</td>\n",
       "      <td>Electronic check</td>\n",
       "      <td>Mailed check</td>\n",
       "      <td>Bank transfer (automatic)</td>\n",
       "      <td>Bank transfer (automatic)</td>\n",
       "    </tr>\n",
       "    <tr>\n",
       "      <th>customer_id</th>\n",
       "      <td>0831-JNISG</td>\n",
       "      <td>1963-SVUCV</td>\n",
       "      <td>0611-DFXKO</td>\n",
       "      <td>7696-CFTAT</td>\n",
       "      <td>7916-VCCPB</td>\n",
       "    </tr>\n",
       "    <tr>\n",
       "      <th>senior_citizen</th>\n",
       "      <td>0</td>\n",
       "      <td>0</td>\n",
       "      <td>0</td>\n",
       "      <td>0</td>\n",
       "      <td>0</td>\n",
       "    </tr>\n",
       "    <tr>\n",
       "      <th>partner</th>\n",
       "      <td>1</td>\n",
       "      <td>0</td>\n",
       "      <td>1</td>\n",
       "      <td>1</td>\n",
       "      <td>1</td>\n",
       "    </tr>\n",
       "    <tr>\n",
       "      <th>dependents</th>\n",
       "      <td>1</td>\n",
       "      <td>0</td>\n",
       "      <td>0</td>\n",
       "      <td>1</td>\n",
       "      <td>1</td>\n",
       "    </tr>\n",
       "    <tr>\n",
       "      <th>tenure_in_months</th>\n",
       "      <td>71</td>\n",
       "      <td>1</td>\n",
       "      <td>20</td>\n",
       "      <td>37</td>\n",
       "      <td>16</td>\n",
       "    </tr>\n",
       "    <tr>\n",
       "      <th>phone_service</th>\n",
       "      <td>1</td>\n",
       "      <td>1</td>\n",
       "      <td>1</td>\n",
       "      <td>1</td>\n",
       "      <td>1</td>\n",
       "    </tr>\n",
       "    <tr>\n",
       "      <th>online_security</th>\n",
       "      <td>0</td>\n",
       "      <td>0</td>\n",
       "      <td>0</td>\n",
       "      <td>0</td>\n",
       "      <td>0</td>\n",
       "    </tr>\n",
       "    <tr>\n",
       "      <th>online_backup</th>\n",
       "      <td>0</td>\n",
       "      <td>0</td>\n",
       "      <td>0</td>\n",
       "      <td>0</td>\n",
       "      <td>1</td>\n",
       "    </tr>\n",
       "    <tr>\n",
       "      <th>device_protection</th>\n",
       "      <td>0</td>\n",
       "      <td>0</td>\n",
       "      <td>0</td>\n",
       "      <td>0</td>\n",
       "      <td>0</td>\n",
       "    </tr>\n",
       "    <tr>\n",
       "      <th>tech_support</th>\n",
       "      <td>0</td>\n",
       "      <td>0</td>\n",
       "      <td>0</td>\n",
       "      <td>0</td>\n",
       "      <td>0</td>\n",
       "    </tr>\n",
       "    <tr>\n",
       "      <th>paperless_billing</th>\n",
       "      <td>0</td>\n",
       "      <td>0</td>\n",
       "      <td>1</td>\n",
       "      <td>0</td>\n",
       "      <td>0</td>\n",
       "    </tr>\n",
       "    <tr>\n",
       "      <th>monthly_charges</th>\n",
       "      <td>19.8</td>\n",
       "      <td>45.3</td>\n",
       "      <td>89.0</td>\n",
       "      <td>19.8</td>\n",
       "      <td>73.25</td>\n",
       "    </tr>\n",
       "    <tr>\n",
       "      <th>total_charges</th>\n",
       "      <td>1396.25</td>\n",
       "      <td>45.3</td>\n",
       "      <td>1820.45</td>\n",
       "      <td>726.1</td>\n",
       "      <td>1195.75</td>\n",
       "    </tr>\n",
       "    <tr>\n",
       "      <th>churn</th>\n",
       "      <td>0</td>\n",
       "      <td>1</td>\n",
       "      <td>1</td>\n",
       "      <td>0</td>\n",
       "      <td>0</td>\n",
       "    </tr>\n",
       "    <tr>\n",
       "      <th>internet_service_type</th>\n",
       "      <td>None</td>\n",
       "      <td>DSL</td>\n",
       "      <td>Fiber optic</td>\n",
       "      <td>None</td>\n",
       "      <td>Fiber optic</td>\n",
       "    </tr>\n",
       "    <tr>\n",
       "      <th>contract_type</th>\n",
       "      <td>Two year</td>\n",
       "      <td>Month-to-month</td>\n",
       "      <td>Month-to-month</td>\n",
       "      <td>Two year</td>\n",
       "      <td>Month-to-month</td>\n",
       "    </tr>\n",
       "  </tbody>\n",
       "</table>\n",
       "</div>"
      ],
      "text/plain": [
       "                               5399              2876            659   \\\n",
       "payment_type           Mailed check  Electronic check    Mailed check   \n",
       "customer_id              0831-JNISG        1963-SVUCV      0611-DFXKO   \n",
       "senior_citizen                    0                 0               0   \n",
       "partner                           1                 0               1   \n",
       "dependents                        1                 0               0   \n",
       "tenure_in_months                 71                 1              20   \n",
       "phone_service                     1                 1               1   \n",
       "online_security                   0                 0               0   \n",
       "online_backup                     0                 0               0   \n",
       "device_protection                 0                 0               0   \n",
       "tech_support                      0                 0               0   \n",
       "paperless_billing                 0                 0               1   \n",
       "monthly_charges                19.8              45.3            89.0   \n",
       "total_charges               1396.25              45.3         1820.45   \n",
       "churn                             0                 1               1   \n",
       "internet_service_type          None               DSL     Fiber optic   \n",
       "contract_type              Two year    Month-to-month  Month-to-month   \n",
       "\n",
       "                                            5843                       2229  \n",
       "payment_type           Bank transfer (automatic)  Bank transfer (automatic)  \n",
       "customer_id                           7696-CFTAT                 7916-VCCPB  \n",
       "senior_citizen                                 0                          0  \n",
       "partner                                        1                          1  \n",
       "dependents                                     1                          1  \n",
       "tenure_in_months                              37                         16  \n",
       "phone_service                                  1                          1  \n",
       "online_security                                0                          0  \n",
       "online_backup                                  0                          1  \n",
       "device_protection                              0                          0  \n",
       "tech_support                                   0                          0  \n",
       "paperless_billing                              0                          0  \n",
       "monthly_charges                             19.8                      73.25  \n",
       "total_charges                              726.1                    1195.75  \n",
       "churn                                          0                          0  \n",
       "internet_service_type                       None                Fiber optic  \n",
       "contract_type                           Two year             Month-to-month  "
      ]
     },
     "execution_count": 31,
     "metadata": {},
     "output_type": "execute_result"
    }
   ],
   "source": [
    "train.head().T"
   ]
  },
  {
   "cell_type": "code",
   "execution_count": 32,
   "id": "6d11ffa4",
   "metadata": {},
   "outputs": [
    {
     "data": {
      "text/html": [
       "<div>\n",
       "<style scoped>\n",
       "    .dataframe tbody tr th:only-of-type {\n",
       "        vertical-align: middle;\n",
       "    }\n",
       "\n",
       "    .dataframe tbody tr th {\n",
       "        vertical-align: top;\n",
       "    }\n",
       "\n",
       "    .dataframe thead th {\n",
       "        text-align: right;\n",
       "    }\n",
       "</style>\n",
       "<table border=\"1\" class=\"dataframe\">\n",
       "  <thead>\n",
       "    <tr style=\"text-align: right;\">\n",
       "      <th>paperless_billing</th>\n",
       "      <th>0</th>\n",
       "      <th>1</th>\n",
       "    </tr>\n",
       "    <tr>\n",
       "      <th>churn</th>\n",
       "      <th></th>\n",
       "      <th></th>\n",
       "    </tr>\n",
       "  </thead>\n",
       "  <tbody>\n",
       "    <tr>\n",
       "      <th>0</th>\n",
       "      <td>1382</td>\n",
       "      <td>1507</td>\n",
       "    </tr>\n",
       "    <tr>\n",
       "      <th>1</th>\n",
       "      <td>276</td>\n",
       "      <td>772</td>\n",
       "    </tr>\n",
       "  </tbody>\n",
       "</table>\n",
       "</div>"
      ],
      "text/plain": [
       "paperless_billing     0     1\n",
       "churn                        \n",
       "0                  1382  1507\n",
       "1                   276   772"
      ]
     },
     "execution_count": 32,
     "metadata": {},
     "output_type": "execute_result"
    }
   ],
   "source": [
    "observed = pd.crosstab(train.churn, train.paperless_billing)\n",
    "observed"
   ]
  },
  {
   "cell_type": "code",
   "execution_count": 33,
   "id": "b4caa71c",
   "metadata": {},
   "outputs": [],
   "source": [
    "chi2, p, degf, expected = stats.chi2_contingency(observed)"
   ]
  },
  {
   "cell_type": "code",
   "execution_count": 34,
   "id": "d1a4c1ab",
   "metadata": {},
   "outputs": [
    {
     "name": "stdout",
     "output_type": "stream",
     "text": [
      "Observed\n",
      "\n",
      "[[1382 1507]\n",
      " [ 276  772]]\n",
      "---\n",
      "Expected\n",
      "\n",
      "[[1216 1672]\n",
      " [ 441  606]]\n",
      "---\n",
      "\n",
      "chi^2 = 144.9512\n",
      "p     = 0.0000\n"
     ]
    }
   ],
   "source": [
    "print('Observed\\n')\n",
    "print(observed.values)\n",
    "print('---\\nExpected\\n')\n",
    "print(expected.astype(int))\n",
    "print('---\\n')\n",
    "print(f'chi^2 = {chi2:.4f}')\n",
    "print(f'p     = {p:.4f}')"
   ]
  },
  {
   "cell_type": "code",
   "execution_count": 35,
   "id": "13d9e83f",
   "metadata": {},
   "outputs": [
    {
     "name": "stdout",
     "output_type": "stream",
     "text": [
      "We reject the null hypothesis\n",
      "We move forward with the alternate hypothesis. The two samples are associated\n"
     ]
    }
   ],
   "source": [
    "if p < alpha:\n",
    "    print('We reject the null hypothesis')\n",
    "    print('We move forward with the alternate hypothesis. The two samples are associated')\n",
    "else:\n",
    "    print('We accept the alternate hypothesis')"
   ]
  },
  {
   "cell_type": "markdown",
   "id": "fcd8a0ad",
   "metadata": {},
   "source": [
    "Next stats test\n",
    "${H_0}$ : Having a partner does not effect customer churn\\ ${H_a}$ : Having a partner does effect customer churn"
   ]
  },
  {
   "cell_type": "code",
   "execution_count": 36,
   "id": "f125db42",
   "metadata": {},
   "outputs": [
    {
     "data": {
      "text/html": [
       "<div>\n",
       "<style scoped>\n",
       "    .dataframe tbody tr th:only-of-type {\n",
       "        vertical-align: middle;\n",
       "    }\n",
       "\n",
       "    .dataframe tbody tr th {\n",
       "        vertical-align: top;\n",
       "    }\n",
       "\n",
       "    .dataframe thead th {\n",
       "        text-align: right;\n",
       "    }\n",
       "</style>\n",
       "<table border=\"1\" class=\"dataframe\">\n",
       "  <thead>\n",
       "    <tr style=\"text-align: right;\">\n",
       "      <th>partner</th>\n",
       "      <th>0</th>\n",
       "      <th>1</th>\n",
       "    </tr>\n",
       "    <tr>\n",
       "      <th>churn</th>\n",
       "      <th></th>\n",
       "      <th></th>\n",
       "    </tr>\n",
       "  </thead>\n",
       "  <tbody>\n",
       "    <tr>\n",
       "      <th>0</th>\n",
       "      <td>1376</td>\n",
       "      <td>1513</td>\n",
       "    </tr>\n",
       "    <tr>\n",
       "      <th>1</th>\n",
       "      <td>666</td>\n",
       "      <td>382</td>\n",
       "    </tr>\n",
       "  </tbody>\n",
       "</table>\n",
       "</div>"
      ],
      "text/plain": [
       "partner     0     1\n",
       "churn              \n",
       "0        1376  1513\n",
       "1         666   382"
      ]
     },
     "execution_count": 36,
     "metadata": {},
     "output_type": "execute_result"
    }
   ],
   "source": [
    "# another test on partners\n",
    "observed = pd.crosstab(train.churn, train.partner)\n",
    "observed"
   ]
  },
  {
   "cell_type": "code",
   "execution_count": 37,
   "id": "80ad3157",
   "metadata": {},
   "outputs": [],
   "source": [
    "chi2, p, degf, expected = stats.chi2_contingency(observed)"
   ]
  },
  {
   "cell_type": "code",
   "execution_count": 38,
   "id": "d9291561",
   "metadata": {},
   "outputs": [
    {
     "name": "stdout",
     "output_type": "stream",
     "text": [
      "Observed\n",
      "\n",
      "[[1376 1513]\n",
      " [ 666  382]]\n",
      "---\n",
      "Expected\n",
      "\n",
      "[[1498 1390]\n",
      " [ 543  504]]\n",
      "---\n",
      "\n",
      "chi^2 = 77.4423\n",
      "p     = 1.3665799090892278e-18\n"
     ]
    }
   ],
   "source": [
    "print('Observed\\n')\n",
    "print(observed.values)\n",
    "print('---\\nExpected\\n')\n",
    "print(expected.astype(int))\n",
    "print('---\\n')\n",
    "print(f'chi^2 = {chi2:.4f}')\n",
    "print(f'p     = {p:}')"
   ]
  },
  {
   "cell_type": "code",
   "execution_count": 39,
   "id": "b42af95a",
   "metadata": {},
   "outputs": [
    {
     "name": "stdout",
     "output_type": "stream",
     "text": [
      "Null hypothesis is rejected\n"
     ]
    }
   ],
   "source": [
    "if p < alpha:\n",
    "    print('Null hypothesis is rejected')\n",
    "else:\n",
    "    print('We accept the alternate hypothesis')"
   ]
  },
  {
   "cell_type": "markdown",
   "id": "d8061cb7",
   "metadata": {},
   "source": [
    "\n",
    "${H_0}$: The mean monthly charges of churned customers = The mean monthly charges of all customers.\\ ${H_a}$: The mean monthly charges of churned customers > the mean monthly charges of all customers."
   ]
  },
  {
   "cell_type": "code",
   "execution_count": 41,
   "id": "7ea12b00",
   "metadata": {},
   "outputs": [
    {
     "data": {
      "text/plain": [
       "0    2889\n",
       "1    1048\n",
       "Name: churn, dtype: int64"
      ]
     },
     "execution_count": 41,
     "metadata": {},
     "output_type": "execute_result"
    }
   ],
   "source": [
    "# check the sample size\n",
    "train.churn.value_counts()"
   ]
  },
  {
   "cell_type": "code",
   "execution_count": 42,
   "id": "53f2ed5b",
   "metadata": {},
   "outputs": [
    {
     "data": {
      "text/plain": [
       "(16.901402342895597, 4.8013198895002845e-60, 0.05)"
      ]
     },
     "execution_count": 42,
     "metadata": {},
     "output_type": "execute_result"
    }
   ],
   "source": [
    "# get the t and p statistic\n",
    "churn_sample = df[df.churn == 1].monthly_charges\n",
    "overall_mean = df.monthly_charges.mean()\n",
    "\n",
    "t, p = stats.ttest_1samp(churn_sample, overall_mean)\n",
    "\n",
    "t, p/2, alpha"
   ]
  },
  {
   "cell_type": "code",
   "execution_count": 43,
   "id": "9620efef",
   "metadata": {},
   "outputs": [
    {
     "name": "stdout",
     "output_type": "stream",
     "text": [
      "We reject the null hypothesis\n"
     ]
    }
   ],
   "source": [
    "if (p/2 < alpha) & (t > 0):\n",
    "    print(\"We reject the null hypothesis\")\n",
    "else:\n",
    "    print(\"We fail to reject the null hypothesis\")"
   ]
  },
  {
   "cell_type": "code",
   "execution_count": 44,
   "id": "6c2de8b9",
   "metadata": {},
   "outputs": [
    {
     "data": {
      "text/html": [
       "<div>\n",
       "<style scoped>\n",
       "    .dataframe tbody tr th:only-of-type {\n",
       "        vertical-align: middle;\n",
       "    }\n",
       "\n",
       "    .dataframe tbody tr th {\n",
       "        vertical-align: top;\n",
       "    }\n",
       "\n",
       "    .dataframe thead th {\n",
       "        text-align: right;\n",
       "    }\n",
       "</style>\n",
       "<table border=\"1\" class=\"dataframe\">\n",
       "  <thead>\n",
       "    <tr style=\"text-align: right;\">\n",
       "      <th></th>\n",
       "      <th>6271</th>\n",
       "      <th>4775</th>\n",
       "      <th>5600</th>\n",
       "    </tr>\n",
       "  </thead>\n",
       "  <tbody>\n",
       "    <tr>\n",
       "      <th>payment_type</th>\n",
       "      <td>Bank transfer (automatic)</td>\n",
       "      <td>Electronic check</td>\n",
       "      <td>Mailed check</td>\n",
       "    </tr>\n",
       "    <tr>\n",
       "      <th>customer_id</th>\n",
       "      <td>6797-LNAQX</td>\n",
       "      <td>9972-VAFJJ</td>\n",
       "      <td>3785-KTYSH</td>\n",
       "    </tr>\n",
       "    <tr>\n",
       "      <th>senior_citizen</th>\n",
       "      <td>0</td>\n",
       "      <td>1</td>\n",
       "      <td>0</td>\n",
       "    </tr>\n",
       "    <tr>\n",
       "      <th>partner</th>\n",
       "      <td>1</td>\n",
       "      <td>1</td>\n",
       "      <td>0</td>\n",
       "    </tr>\n",
       "    <tr>\n",
       "      <th>dependents</th>\n",
       "      <td>1</td>\n",
       "      <td>0</td>\n",
       "      <td>0</td>\n",
       "    </tr>\n",
       "    <tr>\n",
       "      <th>tenure_in_months</th>\n",
       "      <td>70</td>\n",
       "      <td>53</td>\n",
       "      <td>53</td>\n",
       "    </tr>\n",
       "    <tr>\n",
       "      <th>phone_service</th>\n",
       "      <td>1</td>\n",
       "      <td>1</td>\n",
       "      <td>1</td>\n",
       "    </tr>\n",
       "    <tr>\n",
       "      <th>online_security</th>\n",
       "      <td>0</td>\n",
       "      <td>0</td>\n",
       "      <td>0</td>\n",
       "    </tr>\n",
       "    <tr>\n",
       "      <th>online_backup</th>\n",
       "      <td>1</td>\n",
       "      <td>1</td>\n",
       "      <td>0</td>\n",
       "    </tr>\n",
       "    <tr>\n",
       "      <th>device_protection</th>\n",
       "      <td>0</td>\n",
       "      <td>1</td>\n",
       "      <td>0</td>\n",
       "    </tr>\n",
       "    <tr>\n",
       "      <th>tech_support</th>\n",
       "      <td>0</td>\n",
       "      <td>1</td>\n",
       "      <td>0</td>\n",
       "    </tr>\n",
       "    <tr>\n",
       "      <th>paperless_billing</th>\n",
       "      <td>0</td>\n",
       "      <td>1</td>\n",
       "      <td>0</td>\n",
       "    </tr>\n",
       "    <tr>\n",
       "      <th>monthly_charges</th>\n",
       "      <td>98.3</td>\n",
       "      <td>94.0</td>\n",
       "      <td>24.6</td>\n",
       "    </tr>\n",
       "    <tr>\n",
       "      <th>total_charges</th>\n",
       "      <td>6859.5</td>\n",
       "      <td>4871.45</td>\n",
       "      <td>1279.0</td>\n",
       "    </tr>\n",
       "    <tr>\n",
       "      <th>churn</th>\n",
       "      <td>1</td>\n",
       "      <td>0</td>\n",
       "      <td>0</td>\n",
       "    </tr>\n",
       "    <tr>\n",
       "      <th>internet_service_type</th>\n",
       "      <td>Fiber optic</td>\n",
       "      <td>Fiber optic</td>\n",
       "      <td>None</td>\n",
       "    </tr>\n",
       "    <tr>\n",
       "      <th>contract_type</th>\n",
       "      <td>Two year</td>\n",
       "      <td>One year</td>\n",
       "      <td>Two year</td>\n",
       "    </tr>\n",
       "  </tbody>\n",
       "</table>\n",
       "</div>"
      ],
      "text/plain": [
       "                                            6271              4775  \\\n",
       "payment_type           Bank transfer (automatic)  Electronic check   \n",
       "customer_id                           6797-LNAQX        9972-VAFJJ   \n",
       "senior_citizen                                 0                 1   \n",
       "partner                                        1                 1   \n",
       "dependents                                     1                 0   \n",
       "tenure_in_months                              70                53   \n",
       "phone_service                                  1                 1   \n",
       "online_security                                0                 0   \n",
       "online_backup                                  1                 1   \n",
       "device_protection                              0                 1   \n",
       "tech_support                                   0                 1   \n",
       "paperless_billing                              0                 1   \n",
       "monthly_charges                             98.3              94.0   \n",
       "total_charges                             6859.5           4871.45   \n",
       "churn                                          1                 0   \n",
       "internet_service_type                Fiber optic       Fiber optic   \n",
       "contract_type                           Two year          One year   \n",
       "\n",
       "                               5600  \n",
       "payment_type           Mailed check  \n",
       "customer_id              3785-KTYSH  \n",
       "senior_citizen                    0  \n",
       "partner                           0  \n",
       "dependents                        0  \n",
       "tenure_in_months                 53  \n",
       "phone_service                     1  \n",
       "online_security                   0  \n",
       "online_backup                     0  \n",
       "device_protection                 0  \n",
       "tech_support                      0  \n",
       "paperless_billing                 0  \n",
       "monthly_charges                24.6  \n",
       "total_charges                1279.0  \n",
       "churn                             0  \n",
       "internet_service_type          None  \n",
       "contract_type              Two year  "
      ]
     },
     "execution_count": 44,
     "metadata": {},
     "output_type": "execute_result"
    }
   ],
   "source": [
    "train.sample(3).T"
   ]
  },
  {
   "cell_type": "markdown",
   "id": "d6c93554",
   "metadata": {},
   "source": [
    "MODELING\n",
    "Statistics show that these effect churn:\n",
    "\n",
    "paperless billing \n",
    "monthly charges \n",
    "partner"
   ]
  },
  {
   "cell_type": "code",
   "execution_count": 45,
   "id": "5ef6a584",
   "metadata": {},
   "outputs": [],
   "source": [
    "# keep my most valuable features on my split data and drop the rest\n",
    "features = ['payment_type', 'senior_citizen', 'contract_type',\n",
    "           'internet_service_type', 'dependents', 'paperless_billing',\n",
    "           'monthly_charges', 'partner', 'churn']\n",
    "\n",
    "train = train[features]\n",
    "validate = validate[features]\n",
    "test = test[features]"
   ]
  },
  {
   "cell_type": "code",
   "execution_count": 46,
   "id": "3d02d627",
   "metadata": {},
   "outputs": [
    {
     "data": {
      "text/html": [
       "<div>\n",
       "<style scoped>\n",
       "    .dataframe tbody tr th:only-of-type {\n",
       "        vertical-align: middle;\n",
       "    }\n",
       "\n",
       "    .dataframe tbody tr th {\n",
       "        vertical-align: top;\n",
       "    }\n",
       "\n",
       "    .dataframe thead th {\n",
       "        text-align: right;\n",
       "    }\n",
       "</style>\n",
       "<table border=\"1\" class=\"dataframe\">\n",
       "  <thead>\n",
       "    <tr style=\"text-align: right;\">\n",
       "      <th></th>\n",
       "      <th>6094</th>\n",
       "      <th>2415</th>\n",
       "      <th>430</th>\n",
       "    </tr>\n",
       "  </thead>\n",
       "  <tbody>\n",
       "    <tr>\n",
       "      <th>payment_type</th>\n",
       "      <td>Electronic check</td>\n",
       "      <td>Mailed check</td>\n",
       "      <td>Electronic check</td>\n",
       "    </tr>\n",
       "    <tr>\n",
       "      <th>senior_citizen</th>\n",
       "      <td>0</td>\n",
       "      <td>0</td>\n",
       "      <td>0</td>\n",
       "    </tr>\n",
       "    <tr>\n",
       "      <th>contract_type</th>\n",
       "      <td>Two year</td>\n",
       "      <td>Month-to-month</td>\n",
       "      <td>Month-to-month</td>\n",
       "    </tr>\n",
       "    <tr>\n",
       "      <th>internet_service_type</th>\n",
       "      <td>Fiber optic</td>\n",
       "      <td>Fiber optic</td>\n",
       "      <td>None</td>\n",
       "    </tr>\n",
       "    <tr>\n",
       "      <th>dependents</th>\n",
       "      <td>1</td>\n",
       "      <td>0</td>\n",
       "      <td>0</td>\n",
       "    </tr>\n",
       "    <tr>\n",
       "      <th>paperless_billing</th>\n",
       "      <td>1</td>\n",
       "      <td>1</td>\n",
       "      <td>1</td>\n",
       "    </tr>\n",
       "    <tr>\n",
       "      <th>monthly_charges</th>\n",
       "      <td>103.2</td>\n",
       "      <td>84.55</td>\n",
       "      <td>21.2</td>\n",
       "    </tr>\n",
       "    <tr>\n",
       "      <th>partner</th>\n",
       "      <td>1</td>\n",
       "      <td>1</td>\n",
       "      <td>0</td>\n",
       "    </tr>\n",
       "    <tr>\n",
       "      <th>churn</th>\n",
       "      <td>0</td>\n",
       "      <td>0</td>\n",
       "      <td>0</td>\n",
       "    </tr>\n",
       "  </tbody>\n",
       "</table>\n",
       "</div>"
      ],
      "text/plain": [
       "                                   6094            2415              430 \n",
       "payment_type           Electronic check    Mailed check  Electronic check\n",
       "senior_citizen                        0               0                 0\n",
       "contract_type                  Two year  Month-to-month    Month-to-month\n",
       "internet_service_type       Fiber optic     Fiber optic              None\n",
       "dependents                            1               0                 0\n",
       "paperless_billing                     1               1                 1\n",
       "monthly_charges                   103.2           84.55              21.2\n",
       "partner                               1               1                 0\n",
       "churn                                 0               0                 0"
      ]
     },
     "execution_count": 46,
     "metadata": {},
     "output_type": "execute_result"
    }
   ],
   "source": [
    "train.sample(3).T"
   ]
  },
  {
   "cell_type": "code",
   "execution_count": 47,
   "id": "dfbcda77",
   "metadata": {},
   "outputs": [],
   "source": [
    "# dummies\n",
    "train = prepare.create_dummies(train)\n",
    "validate = prepare.create_dummies(validate)\n",
    "test = prepare.create_dummies(test)"
   ]
  },
  {
   "cell_type": "code",
   "execution_count": 48,
   "id": "3873e946",
   "metadata": {},
   "outputs": [
    {
     "data": {
      "text/plain": [
       "((3937, 13), (1688, 13), (1407, 13))"
      ]
     },
     "execution_count": 48,
     "metadata": {},
     "output_type": "execute_result"
    }
   ],
   "source": [
    "train.shape, validate.shape, test.shape"
   ]
  },
  {
   "cell_type": "code",
   "execution_count": 49,
   "id": "093a7c69",
   "metadata": {},
   "outputs": [
    {
     "data": {
      "text/html": [
       "<div>\n",
       "<style scoped>\n",
       "    .dataframe tbody tr th:only-of-type {\n",
       "        vertical-align: middle;\n",
       "    }\n",
       "\n",
       "    .dataframe tbody tr th {\n",
       "        vertical-align: top;\n",
       "    }\n",
       "\n",
       "    .dataframe thead th {\n",
       "        text-align: right;\n",
       "    }\n",
       "</style>\n",
       "<table border=\"1\" class=\"dataframe\">\n",
       "  <thead>\n",
       "    <tr style=\"text-align: right;\">\n",
       "      <th></th>\n",
       "      <th>3606</th>\n",
       "      <th>17</th>\n",
       "      <th>2059</th>\n",
       "    </tr>\n",
       "  </thead>\n",
       "  <tbody>\n",
       "    <tr>\n",
       "      <th>senior_citizen</th>\n",
       "      <td>0.00</td>\n",
       "      <td>0.00</td>\n",
       "      <td>0.0</td>\n",
       "    </tr>\n",
       "    <tr>\n",
       "      <th>dependents</th>\n",
       "      <td>0.00</td>\n",
       "      <td>0.00</td>\n",
       "      <td>0.0</td>\n",
       "    </tr>\n",
       "    <tr>\n",
       "      <th>paperless_billing</th>\n",
       "      <td>0.00</td>\n",
       "      <td>0.00</td>\n",
       "      <td>0.0</td>\n",
       "    </tr>\n",
       "    <tr>\n",
       "      <th>monthly_charges</th>\n",
       "      <td>45.35</td>\n",
       "      <td>19.35</td>\n",
       "      <td>84.5</td>\n",
       "    </tr>\n",
       "    <tr>\n",
       "      <th>partner</th>\n",
       "      <td>0.00</td>\n",
       "      <td>0.00</td>\n",
       "      <td>0.0</td>\n",
       "    </tr>\n",
       "    <tr>\n",
       "      <th>churn</th>\n",
       "      <td>0.00</td>\n",
       "      <td>0.00</td>\n",
       "      <td>1.0</td>\n",
       "    </tr>\n",
       "    <tr>\n",
       "      <th>Credit card (automatic)</th>\n",
       "      <td>0.00</td>\n",
       "      <td>0.00</td>\n",
       "      <td>0.0</td>\n",
       "    </tr>\n",
       "    <tr>\n",
       "      <th>Electronic check</th>\n",
       "      <td>0.00</td>\n",
       "      <td>0.00</td>\n",
       "      <td>1.0</td>\n",
       "    </tr>\n",
       "    <tr>\n",
       "      <th>Mailed check</th>\n",
       "      <td>1.00</td>\n",
       "      <td>1.00</td>\n",
       "      <td>0.0</td>\n",
       "    </tr>\n",
       "    <tr>\n",
       "      <th>DSL</th>\n",
       "      <td>1.00</td>\n",
       "      <td>0.00</td>\n",
       "      <td>0.0</td>\n",
       "    </tr>\n",
       "    <tr>\n",
       "      <th>Fiber optic</th>\n",
       "      <td>0.00</td>\n",
       "      <td>0.00</td>\n",
       "      <td>1.0</td>\n",
       "    </tr>\n",
       "    <tr>\n",
       "      <th>One year</th>\n",
       "      <td>0.00</td>\n",
       "      <td>0.00</td>\n",
       "      <td>0.0</td>\n",
       "    </tr>\n",
       "    <tr>\n",
       "      <th>Two year</th>\n",
       "      <td>0.00</td>\n",
       "      <td>0.00</td>\n",
       "      <td>0.0</td>\n",
       "    </tr>\n",
       "  </tbody>\n",
       "</table>\n",
       "</div>"
      ],
      "text/plain": [
       "                          3606   17    2059\n",
       "senior_citizen            0.00   0.00   0.0\n",
       "dependents                0.00   0.00   0.0\n",
       "paperless_billing         0.00   0.00   0.0\n",
       "monthly_charges          45.35  19.35  84.5\n",
       "partner                   0.00   0.00   0.0\n",
       "churn                     0.00   0.00   1.0\n",
       "Credit card (automatic)   0.00   0.00   0.0\n",
       "Electronic check          0.00   0.00   1.0\n",
       "Mailed check              1.00   1.00   0.0\n",
       "DSL                       1.00   0.00   0.0\n",
       "Fiber optic               0.00   0.00   1.0\n",
       "One year                  0.00   0.00   0.0\n",
       "Two year                  0.00   0.00   0.0"
      ]
     },
     "execution_count": 49,
     "metadata": {},
     "output_type": "execute_result"
    }
   ],
   "source": [
    "train.sample(3).T"
   ]
  },
  {
   "cell_type": "markdown",
   "id": "a305b92b",
   "metadata": {},
   "source": [
    "Baseline Model"
   ]
  },
  {
   "cell_type": "code",
   "execution_count": 50,
   "id": "7480b559",
   "metadata": {},
   "outputs": [
    {
     "data": {
      "text/plain": [
       "0    2889\n",
       "1    1048\n",
       "Name: churn, dtype: int64"
      ]
     },
     "execution_count": 50,
     "metadata": {},
     "output_type": "execute_result"
    }
   ],
   "source": [
    "# baseline\n",
    "train.churn.value_counts()"
   ]
  },
  {
   "cell_type": "markdown",
   "id": "08fca8a9",
   "metadata": {},
   "source": [
    "Most common is 0, so it is the baseline"
   ]
  },
  {
   "cell_type": "code",
   "execution_count": 51,
   "id": "d8214b3c",
   "metadata": {},
   "outputs": [
    {
     "data": {
      "text/html": [
       "<div>\n",
       "<style scoped>\n",
       "    .dataframe tbody tr th:only-of-type {\n",
       "        vertical-align: middle;\n",
       "    }\n",
       "\n",
       "    .dataframe tbody tr th {\n",
       "        vertical-align: top;\n",
       "    }\n",
       "\n",
       "    .dataframe thead th {\n",
       "        text-align: right;\n",
       "    }\n",
       "</style>\n",
       "<table border=\"1\" class=\"dataframe\">\n",
       "  <thead>\n",
       "    <tr style=\"text-align: right;\">\n",
       "      <th></th>\n",
       "      <th>1225</th>\n",
       "    </tr>\n",
       "  </thead>\n",
       "  <tbody>\n",
       "    <tr>\n",
       "      <th>senior_citizen</th>\n",
       "      <td>0.00</td>\n",
       "    </tr>\n",
       "    <tr>\n",
       "      <th>dependents</th>\n",
       "      <td>0.00</td>\n",
       "    </tr>\n",
       "    <tr>\n",
       "      <th>paperless_billing</th>\n",
       "      <td>0.00</td>\n",
       "    </tr>\n",
       "    <tr>\n",
       "      <th>monthly_charges</th>\n",
       "      <td>78.45</td>\n",
       "    </tr>\n",
       "    <tr>\n",
       "      <th>partner</th>\n",
       "      <td>0.00</td>\n",
       "    </tr>\n",
       "    <tr>\n",
       "      <th>churn</th>\n",
       "      <td>1.00</td>\n",
       "    </tr>\n",
       "    <tr>\n",
       "      <th>Credit card (automatic)</th>\n",
       "      <td>0.00</td>\n",
       "    </tr>\n",
       "    <tr>\n",
       "      <th>Electronic check</th>\n",
       "      <td>1.00</td>\n",
       "    </tr>\n",
       "    <tr>\n",
       "      <th>Mailed check</th>\n",
       "      <td>0.00</td>\n",
       "    </tr>\n",
       "    <tr>\n",
       "      <th>DSL</th>\n",
       "      <td>0.00</td>\n",
       "    </tr>\n",
       "    <tr>\n",
       "      <th>Fiber optic</th>\n",
       "      <td>1.00</td>\n",
       "    </tr>\n",
       "    <tr>\n",
       "      <th>One year</th>\n",
       "      <td>0.00</td>\n",
       "    </tr>\n",
       "    <tr>\n",
       "      <th>Two year</th>\n",
       "      <td>0.00</td>\n",
       "    </tr>\n",
       "    <tr>\n",
       "      <th>baseline</th>\n",
       "      <td>0.00</td>\n",
       "    </tr>\n",
       "  </tbody>\n",
       "</table>\n",
       "</div>"
      ],
      "text/plain": [
       "                          1225\n",
       "senior_citizen            0.00\n",
       "dependents                0.00\n",
       "paperless_billing         0.00\n",
       "monthly_charges          78.45\n",
       "partner                   0.00\n",
       "churn                     1.00\n",
       "Credit card (automatic)   0.00\n",
       "Electronic check          1.00\n",
       "Mailed check              0.00\n",
       "DSL                       0.00\n",
       "Fiber optic               1.00\n",
       "One year                  0.00\n",
       "Two year                  0.00\n",
       "baseline                  0.00"
      ]
     },
     "execution_count": 51,
     "metadata": {},
     "output_type": "execute_result"
    }
   ],
   "source": [
    "train['baseline'] = 0\n",
    "train.sample().T"
   ]
  },
  {
   "cell_type": "code",
   "execution_count": 52,
   "id": "d49432e3",
   "metadata": {},
   "outputs": [
    {
     "name": "stdout",
     "output_type": "stream",
     "text": [
      "              precision    recall  f1-score   support\n",
      "\n",
      "           0       0.73      1.00      0.85      2889\n",
      "           1       0.00      0.00      0.00      1048\n",
      "\n",
      "    accuracy                           0.73      3937\n",
      "   macro avg       0.37      0.50      0.42      3937\n",
      "weighted avg       0.54      0.73      0.62      3937\n",
      "\n"
     ]
    }
   ],
   "source": [
    "# baseline classification report\n",
    "print(classification_report(train.churn, train.baseline))"
   ]
  },
  {
   "cell_type": "markdown",
   "id": "e96d1038",
   "metadata": {},
   "source": [
    " baseline model accuracy is 73% while predicting no churn.\n"
   ]
  },
  {
   "cell_type": "code",
   "execution_count": 53,
   "id": "269f1e9a",
   "metadata": {},
   "outputs": [],
   "source": [
    "# dropping the baseline\n",
    "train.drop(columns = 'baseline', inplace=True)"
   ]
  },
  {
   "cell_type": "code",
   "execution_count": 54,
   "id": "01821900",
   "metadata": {},
   "outputs": [
    {
     "data": {
      "text/plain": [
       "senior_citizen               int64\n",
       "dependents                   int64\n",
       "paperless_billing            int64\n",
       "monthly_charges            float64\n",
       "partner                      int64\n",
       "churn                        int64\n",
       "Credit card (automatic)      uint8\n",
       "Electronic check             uint8\n",
       "Mailed check                 uint8\n",
       "DSL                          uint8\n",
       "Fiber optic                  uint8\n",
       "One year                     uint8\n",
       "Two year                     uint8\n",
       "dtype: object"
      ]
     },
     "execution_count": 54,
     "metadata": {},
     "output_type": "execute_result"
    }
   ],
   "source": [
    "train.dtypes"
   ]
  },
  {
   "cell_type": "code",
   "execution_count": 55,
   "id": "6bc94dee",
   "metadata": {},
   "outputs": [],
   "source": [
    "# assigning x and y\n",
    "x_train = train.drop(columns = 'churn')\n",
    "y_train = train.churn\n",
    "\n",
    "x_validate = validate.drop(columns = 'churn')\n",
    "y_validate = validate.churn\n",
    "\n",
    "x_test = test.drop(columns = 'churn')\n",
    "y_test = test.churn"
   ]
  },
  {
   "cell_type": "markdown",
   "id": "41c0b36c",
   "metadata": {},
   "source": [
    "Decision Tree Model"
   ]
  },
  {
   "cell_type": "code",
   "execution_count": 56,
   "id": "c34d7c2d",
   "metadata": {},
   "outputs": [],
   "source": [
    "# decision tree\n",
    "dt1 = DecisionTreeClassifier(max_depth=4, random_state=123)\n",
    "dt1 = dt1.fit(x_train, y_train)"
   ]
  },
  {
   "cell_type": "code",
   "execution_count": 57,
   "id": "27b0772d",
   "metadata": {},
   "outputs": [
    {
     "data": {
      "text/plain": [
       "array([0, 0, 0, 0, 0])"
      ]
     },
     "execution_count": 57,
     "metadata": {},
     "output_type": "execute_result"
    }
   ],
   "source": [
    "# prediction for each observation\n",
    "y_pred = dt1.predict(x_train)\n",
    "y_pred[0:5]\n"
   ]
  },
  {
   "cell_type": "code",
   "execution_count": 58,
   "id": "09a86eb1",
   "metadata": {},
   "outputs": [
    {
     "data": {
      "text/plain": [
       "array([[0.99550898, 0.00449102],\n",
       "       [0.61565836, 0.38434164],\n",
       "       [0.53663793, 0.46336207],\n",
       "       [0.99550898, 0.00449102],\n",
       "       [0.53663793, 0.46336207]])"
      ]
     },
     "execution_count": 58,
     "metadata": {},
     "output_type": "execute_result"
    }
   ],
   "source": [
    "# no churn vs churn percentage\n",
    "y_pred_proba = dt1.predict_proba(x_train)\n",
    "y_pred_proba[0:5]"
   ]
  },
  {
   "cell_type": "code",
   "execution_count": 59,
   "id": "fa978fb7",
   "metadata": {},
   "outputs": [
    {
     "name": "stdout",
     "output_type": "stream",
     "text": [
      "Accuracy of Decision Tree classifier Model 1 on training set: 0.78\n"
     ]
    }
   ],
   "source": [
    "# Accuracy\n",
    "print('Accuracy of the Decision Tree Model training: {:.2f}'\n",
    "      .format(dt1.score(x_train, y_train)))"
   ]
  },
  {
   "cell_type": "code",
   "execution_count": 60,
   "id": "ea8f2d5f",
   "metadata": {},
   "outputs": [
    {
     "name": "stdout",
     "output_type": "stream",
     "text": [
      "Accuracy of Decision Tree classifier Model 1 on validate set: 0.78\n"
     ]
    }
   ],
   "source": [
    "print('Accuracy of Decision Tree classifier Model validate: {:.2f}'\n",
    "      .format(dt1.score(x_validate, y_validate)))"
   ]
  },
  {
   "cell_type": "code",
   "execution_count": 61,
   "id": "c1c09dc5",
   "metadata": {},
   "outputs": [
    {
     "data": {
      "image/png": "[encoded data removed]",
      "text/plain": [
       "<Figure size 1728x864 with 1 Axes>"
      ]
     },
     "metadata": {
      "needs_background": "light"
     },
     "output_type": "display_data"
    }
   ],
   "source": [
    "plt.figure(figsize=(24, 12))\n",
    "plot_tree(\n",
    "    dt1,\n",
    "    feature_names=x_train.columns.tolist(),\n",
    "    filled=True,\n",
    "    rounded=True\n",
    ")\n",
    "plt.show()"
   ]
  },
  {
   "cell_type": "code",
   "execution_count": 62,
   "id": "82b93da0",
   "metadata": {},
   "outputs": [
    {
     "data": {
      "text/plain": [
       "array([[2609,  280],\n",
       "       [ 600,  448]])"
      ]
     },
     "execution_count": 62,
     "metadata": {},
     "output_type": "execute_result"
    }
   ],
   "source": [
    "confusion_matrix(y_train, y_pred)"
   ]
  },
  {
   "cell_type": "code",
   "execution_count": 63,
   "id": "0c4540c3",
   "metadata": {},
   "outputs": [
    {
     "data": {
      "text/plain": [
       "(2609, 280, 600, 448)"
      ]
     },
     "execution_count": 63,
     "metadata": {},
     "output_type": "execute_result"
    }
   ],
   "source": [
    "tn, fp, fn, tp = confusion_matrix(y_train, y_pred).ravel()\n",
    "tn, fp, fn, tp\n"
   ]
  },
  {
   "cell_type": "code",
   "execution_count": 64,
   "id": "f91f1f8a",
   "metadata": {},
   "outputs": [
    {
     "name": "stdout",
     "output_type": "stream",
     "text": [
      "True Positives 448\n",
      "False Positives 280\n",
      "False Negatives 600\n",
      "True Negatives 2609\n",
      "-------------\n",
      "Accuracy is 0.7764795529591059\n",
      "Recall is 0.42748091603053434\n",
      "Precision is 0.6153846153846154\n"
     ]
    }
   ],
   "source": [
    "print(\"True Positives\", tp)\n",
    "print(\"False Positives\", fp)\n",
    "print(\"False Negatives\", fn)\n",
    "print(\"True Negatives\", tn)\n",
    "\n",
    "print(\"-------------\")\n",
    "\n",
    "accuracy = (tp + tn) / (tp + tn + fp + fn)\n",
    "recall = tp / (tp + fn)\n",
    "precision = tp / (tp + fp)\n",
    "\n",
    "print(\"Accuracy is\", accuracy)\n",
    "print(\"Recall is\", recall)\n",
    "print(\"Precision is\", precision)"
   ]
  },
  {
   "cell_type": "code",
   "execution_count": 65,
   "id": "74f8fba1",
   "metadata": {},
   "outputs": [
    {
     "name": "stdout",
     "output_type": "stream",
     "text": [
      "              precision    recall  f1-score   support\n",
      "\n",
      "           0       0.81      0.90      0.86      2889\n",
      "           1       0.62      0.43      0.50      1048\n",
      "\n",
      "    accuracy                           0.78      3937\n",
      "   macro avg       0.71      0.67      0.68      3937\n",
      "weighted avg       0.76      0.78      0.76      3937\n",
      "\n"
     ]
    }
   ],
   "source": [
    "print(classification_report(y_train, y_pred))\n"
   ]
  },
  {
   "cell_type": "markdown",
   "id": "fb4fb54e",
   "metadata": {},
   "source": [
    "Random Forest Model"
   ]
  },
  {
   "cell_type": "code",
   "execution_count": 66,
   "id": "458b501f",
   "metadata": {},
   "outputs": [],
   "source": [
    "rf1 = RandomForestClassifier(bootstrap=True,\n",
    "                            class_weight=None, \n",
    "                            criterion='gini',\n",
    "                            min_samples_leaf=2,\n",
    "                            max_depth=8,\n",
    "                            random_state=123                           \n",
    "                           )"
   ]
  },
  {
   "cell_type": "code",
   "execution_count": 67,
   "id": "a7bb4ab4",
   "metadata": {},
   "outputs": [
    {
     "data": {
      "text/plain": [
       "RandomForestClassifier(max_depth=8, min_samples_leaf=2, random_state=123)"
      ]
     },
     "execution_count": 67,
     "metadata": {},
     "output_type": "execute_result"
    }
   ],
   "source": [
    "rf1.fit(x_train, y_train)"
   ]
  },
  {
   "cell_type": "code",
   "execution_count": 68,
   "id": "45d8df9c",
   "metadata": {},
   "outputs": [
    {
     "name": "stdout",
     "output_type": "stream",
     "text": [
      "[0.02255949 0.02682345 0.04234376 0.24045615 0.03241726 0.01448987\n",
      " 0.13438482 0.01175676 0.03555    0.14835899 0.10785512 0.18300433]\n"
     ]
    }
   ],
   "source": [
    "print(rf1.feature_importances_)"
   ]
  },
  {
   "cell_type": "code",
   "execution_count": 69,
   "id": "d7e93a03",
   "metadata": {},
   "outputs": [
    {
     "data": {
      "text/plain": [
       "array([0, 0, 0, 0, 0])"
      ]
     },
     "execution_count": 69,
     "metadata": {},
     "output_type": "execute_result"
    }
   ],
   "source": [
    "y_pred = rf1.predict(x_train)\n",
    "y_pred[:5]"
   ]
  },
  {
   "cell_type": "code",
   "execution_count": 70,
   "id": "5f86a016",
   "metadata": {},
   "outputs": [
    {
     "data": {
      "text/plain": [
       "array([[0.99257362, 0.00742638],\n",
       "       [0.55102057, 0.44897943],\n",
       "       [0.54937243, 0.45062757],\n",
       "       [0.99262447, 0.00737553],\n",
       "       [0.70925319, 0.29074681]])"
      ]
     },
     "execution_count": 70,
     "metadata": {},
     "output_type": "execute_result"
    }
   ],
   "source": [
    "y_pred_proba = rf1.predict_proba(x_train)\n",
    "y_pred_proba[:5]"
   ]
  },
  {
   "cell_type": "code",
   "execution_count": 71,
   "id": "81eab89b",
   "metadata": {},
   "outputs": [
    {
     "name": "stdout",
     "output_type": "stream",
     "text": [
      "Accuracy of random forest classifier on training set: 0.81\n",
      "Accuracy of random forest classifier on validate set: 0.79\n"
     ]
    }
   ],
   "source": [
    "print('Accuracy of random forest on training set: {:.2f}'\n",
    "     .format(rf1.score(x_train, y_train)))\n",
    "print('Accuracy of random forest on validate set: {:.2f}'\n",
    "     .format(rf1.score(x_validate, y_validate)))"
   ]
  },
  {
   "cell_type": "code",
   "execution_count": 72,
   "id": "5e3c3011",
   "metadata": {},
   "outputs": [
    {
     "name": "stdout",
     "output_type": "stream",
     "text": [
      "[[2628  261]\n",
      " [ 489  559]]\n"
     ]
    }
   ],
   "source": [
    "print(confusion_matrix(y_train, y_pred))"
   ]
  },
  {
   "cell_type": "code",
   "execution_count": 73,
   "id": "bab32b68",
   "metadata": {},
   "outputs": [
    {
     "data": {
      "text/plain": [
       "(2628, 261, 489, 559)"
      ]
     },
     "execution_count": 73,
     "metadata": {},
     "output_type": "execute_result"
    }
   ],
   "source": [
    "tn, fp, fn, tp = confusion_matrix(y_train, y_pred).ravel()\n",
    "tn, fp, fn, tp"
   ]
  },
  {
   "cell_type": "code",
   "execution_count": 74,
   "id": "af65b8e9",
   "metadata": {},
   "outputs": [
    {
     "name": "stdout",
     "output_type": "stream",
     "text": [
      "True Positives 559\n",
      "False Positives 261\n",
      "False Negatives 489\n",
      "True Negatives 2628\n",
      "-------------\n",
      "Accuracy is 0.809499618999238\n",
      "Recall is 0.5333969465648855\n",
      "Precision is 0.6817073170731708\n"
     ]
    }
   ],
   "source": [
    "print(\"True Positives\", tp)\n",
    "print(\"False Positives\", fp)\n",
    "print(\"False Negatives\", fn)\n",
    "print(\"True Negatives\", tn)\n",
    "\n",
    "print(\"-------------\")\n",
    "\n",
    "accuracy = (tp + tn) / (tp + tn + fp + fn)\n",
    "recall = tp / (tp + fn)\n",
    "precision = tp / (tp + fp)\n",
    "\n",
    "print(\"Accuracy is\", accuracy)\n",
    "print(\"Recall is\", recall)\n",
    "print(\"Precision is\", precision)"
   ]
  },
  {
   "cell_type": "code",
   "execution_count": 75,
   "id": "7cbaf33f",
   "metadata": {},
   "outputs": [
    {
     "name": "stdout",
     "output_type": "stream",
     "text": [
      "              precision    recall  f1-score   support\n",
      "\n",
      "           0       0.84      0.91      0.88      2889\n",
      "           1       0.68      0.53      0.60      1048\n",
      "\n",
      "    accuracy                           0.81      3937\n",
      "   macro avg       0.76      0.72      0.74      3937\n",
      "weighted avg       0.80      0.81      0.80      3937\n",
      "\n"
     ]
    }
   ],
   "source": [
    "print(classification_report(y_train, y_pred))"
   ]
  },
  {
   "cell_type": "markdown",
   "id": "53abea34",
   "metadata": {},
   "source": [
    "Logistic Regression Model"
   ]
  },
  {
   "cell_type": "code",
   "execution_count": 76,
   "id": "4bc11b5b",
   "metadata": {},
   "outputs": [],
   "source": [
    "logit1 = LogisticRegression(C=1, class_weight={0:1, 1:99}, random_state=123, intercept_scaling=1, solver='lbfgs')"
   ]
  },
  {
   "cell_type": "code",
   "execution_count": 77,
   "id": "e4f3f19a",
   "metadata": {},
   "outputs": [
    {
     "data": {
      "text/plain": [
       "LogisticRegression(C=1, class_weight={0: 1, 1: 99}, random_state=123)"
      ]
     },
     "execution_count": 77,
     "metadata": {},
     "output_type": "execute_result"
    }
   ],
   "source": [
    "logit1.fit(x_train, y_train)"
   ]
  },
  {
   "cell_type": "code",
   "execution_count": 78,
   "id": "503a5621",
   "metadata": {},
   "outputs": [
    {
     "name": "stdout",
     "output_type": "stream",
     "text": [
      "Coefficient: \n",
      " [[ 0.13207726 -0.1411453   0.18887178  0.003429   -0.08101282  0.0913467\n",
      "   0.63571077  0.05402427  0.52845781  1.46095681 -1.60048227 -3.08137579]]\n",
      "Intercept: \n",
      " [2.72629136]\n"
     ]
    }
   ],
   "source": [
    "print('Coefficient: \\n', logit1.coef_)\n",
    "print('Intercept: \\n', logit1.intercept_)"
   ]
  },
  {
   "cell_type": "code",
   "execution_count": 79,
   "id": "cb659d24",
   "metadata": {},
   "outputs": [
    {
     "data": {
      "text/plain": [
       "array([0, 1, 1, 0, 1])"
      ]
     },
     "execution_count": 79,
     "metadata": {},
     "output_type": "execute_result"
    }
   ],
   "source": [
    "# prediction\n",
    "y_pred = logit1.predict(x_train)\n",
    "y_pred[:5]"
   ]
  },
  {
   "cell_type": "code",
   "execution_count": 80,
   "id": "fdee8e60",
   "metadata": {},
   "outputs": [
    {
     "data": {
      "text/plain": [
       "array([[0.61190433, 0.38809567],\n",
       "       [0.01719497, 0.98280503],\n",
       "       [0.00943067, 0.99056933],\n",
       "       [0.62465369, 0.37534631],\n",
       "       [0.01453915, 0.98546085]])"
      ]
     },
     "execution_count": 80,
     "metadata": {},
     "output_type": "execute_result"
    }
   ],
   "source": [
    "# probability\n",
    "y_pred_proba = logit1.predict_proba(x_train)\n",
    "y_pred_proba[:5]\n"
   ]
  },
  {
   "cell_type": "code",
   "execution_count": 81,
   "id": "b934ae3c",
   "metadata": {},
   "outputs": [
    {
     "name": "stdout",
     "output_type": "stream",
     "text": [
      "Accuracy of Logistic Regression classifier on training set: 0.35\n",
      "Accuracy of Logistic Regression classifier on validate set: 0.35\n"
     ]
    }
   ],
   "source": [
    "print('Accuracy of Logistic Regression classifier on training set: {:.2f}'\n",
    "     .format(logit1.score(x_train, y_train)))\n",
    "print('Accuracy of Logistic Regression classifier on validate set: {:.2f}'\n",
    "     .format(logit1.score(x_validate, y_validate)))"
   ]
  },
  {
   "cell_type": "code",
   "execution_count": 82,
   "id": "1e7f0ce7",
   "metadata": {},
   "outputs": [
    {
     "name": "stdout",
     "output_type": "stream",
     "text": [
      "[[ 325 2564]\n",
      " [   1 1047]]\n"
     ]
    }
   ],
   "source": [
    "print(confusion_matrix(y_train, y_pred))"
   ]
  },
  {
   "cell_type": "code",
   "execution_count": 83,
   "id": "af342450",
   "metadata": {},
   "outputs": [
    {
     "data": {
      "text/plain": [
       "(325, 2564, 1, 1047)"
      ]
     },
     "execution_count": 83,
     "metadata": {},
     "output_type": "execute_result"
    }
   ],
   "source": [
    "tn, fp, fn, tp = confusion_matrix(y_train, y_pred).ravel()\n",
    "tn, fp, fn, tp"
   ]
  },
  {
   "cell_type": "code",
   "execution_count": 84,
   "id": "78e11536",
   "metadata": {},
   "outputs": [
    {
     "name": "stdout",
     "output_type": "stream",
     "text": [
      "True Positives 1047\n",
      "False Positives 2564\n",
      "False Negatives 1\n",
      "True Negatives 325\n",
      "-------------\n",
      "Accuracy is 0.34848869697739393\n",
      "Recall is 0.9990458015267175\n",
      "Precision is 0.2899473829963999\n"
     ]
    }
   ],
   "source": [
    "print(\"True Positives\", tp)\n",
    "print(\"False Positives\", fp)\n",
    "print(\"False Negatives\", fn)\n",
    "print(\"True Negatives\", tn)\n",
    "\n",
    "print(\"-------------\")\n",
    "\n",
    "accuracy = (tp + tn) / (tp + tn + fp + fn)\n",
    "recall = tp / (tp + fn)\n",
    "precision = tp / (tp + fp)\n",
    "\n",
    "print(\"Accuracy is\", accuracy)\n",
    "print(\"Recall is\", recall)\n",
    "print(\"Precision is\", precision)"
   ]
  },
  {
   "cell_type": "code",
   "execution_count": 85,
   "id": "fe516f66",
   "metadata": {},
   "outputs": [
    {
     "name": "stdout",
     "output_type": "stream",
     "text": [
      "              precision    recall  f1-score   support\n",
      "\n",
      "           0       1.00      0.11      0.20      2889\n",
      "           1       0.29      1.00      0.45      1048\n",
      "\n",
      "    accuracy                           0.35      3937\n",
      "   macro avg       0.64      0.56      0.33      3937\n",
      "weighted avg       0.81      0.35      0.27      3937\n",
      "\n"
     ]
    }
   ],
   "source": [
    "print(classification_report(y_train, y_pred))"
   ]
  },
  {
   "cell_type": "markdown",
   "id": "260101d7",
   "metadata": {},
   "source": [
    "The Random Forest model is best with 81% accuracy."
   ]
  },
  {
   "cell_type": "code",
   "execution_count": 86,
   "id": "58747e12",
   "metadata": {},
   "outputs": [
    {
     "name": "stdout",
     "output_type": "stream",
     "text": [
      "Accuracy of Random Forest classifier on test set: 0.75\n"
     ]
    }
   ],
   "source": [
    "# test the model\n",
    "print('Accuracy of Random Forest classifier on test set: {:.2f}'\n",
    "     .format(rf1.score(x_test, y_test)))"
   ]
  },
  {
   "cell_type": "code",
   "execution_count": null,
   "id": "05809a01",
   "metadata": {},
   "outputs": [],
   "source": []
  }
 ],
 "metadata": {
  "kernelspec": {
   "display_name": "Python 3",
   "language": "python",
   "name": "python3"
  },
  "language_info": {
   "codemirror_mode": {
    "name": "ipython",
    "version": 3
   },
   "file_extension": ".py",
   "mimetype": "text/x-python",
   "name": "python",
   "nbconvert_exporter": "python",
   "pygments_lexer": "ipython3",
   "version": "3.8.8"
  }
 },
 "nbformat": 4,
 "nbformat_minor": 5
}
